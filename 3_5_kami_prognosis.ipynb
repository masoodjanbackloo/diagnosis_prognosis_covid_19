{
  "nbformat": 4,
  "nbformat_minor": 0,
  "metadata": {
    "colab": {
      "provenance": [],
      "collapsed_sections": []
    },
    "kernelspec": {
      "name": "python3",
      "display_name": "Python 3"
    },
    "language_info": {
      "name": "python"
    }
  },
  "cells": [
    {
      "cell_type": "code",
      "execution_count": null,
      "metadata": {
        "id": "eCaT6Z_rbFXL"
      },
      "outputs": [],
      "source": [
        "# Standard modules\n",
        "import warnings\n",
        "import numpy as np\n",
        "import pandas as pd\n",
        "warnings.filterwarnings('ignore')\n",
        "\n",
        "# Graphical modules\n",
        "import matplotlib.pyplot as plt\n",
        "import seaborn as sns\n",
        "%matplotlib inline\n",
        "\n",
        "# Models\n",
        "from sklearn.svm import SVC\n",
        "from sklearn.dummy import DummyClassifier\n",
        "from sklearn.ensemble import RandomForestClassifier\n",
        "from sklearn.linear_model import LogisticRegression\n",
        "from xgboost.sklearn import XGBClassifier\n",
        "from sklearn.ensemble import GradientBoostingClassifier\n",
        "\n",
        "# Bootstrap\n",
        "from sklearn.utils import resample\n",
        "# Evaluation\n",
        "from scipy import stats\n",
        "from sklearn.metrics import classification_report, confusion_matrix, brier_score_loss , plot_confusion_matrix\n",
        "from sklearn.metrics import f1_score,roc_auc_score,recall_score, precision_score, accuracy_score, balanced_accuracy_score\n",
        "\n",
        "# Import models\n",
        "import joblib\n",
        "from sklearn.metrics import classification_report, confusion_matrix, accuracy_score, f1_score, recall_score, precision_score\n",
        "import sklearn.metrics\n",
        "from sklearn.metrics import roc_auc_score\n"
      ]
    },
    {
      "cell_type": "code",
      "execution_count": null,
      "metadata": {
        "id": "Ethl5FFHbFXV"
      },
      "outputs": [],
      "source": [
        "# Models\n",
        "mdl_lre_ove = joblib.load('model_lre_oversampled.sav')\n",
        "mdl_lre_bal = joblib.load('model_lre_imbalanced.sav')\n",
        "mdl_svm_ove = joblib.load('model_svm_oversampled.sav')\n",
        "mdl_svm_bal = joblib.load('model_svm_imbalanced.sav')\n",
        "mdl_rfc_ove = joblib.load('model_rfc_oversampled.sav')\n",
        "mdl_rfc_bal = joblib.load('model_rfc_imbalanced.sav')\n",
        "mdl_bst_ove = joblib.load('model_bst_oversampled.sav')\n",
        "mdl_bst_bal = joblib.load('model_bst_imbalanced.sav')\n",
        "mdl_xgb_ove = joblib.load('model_xgb_oversampled.sav')\n",
        "mdl_xgb_bal = joblib.load('model_xgb_imbalanced.sav')\n",
        "# Dummy models\n",
        "#mdl_dmf = joblib.load('results_modelsDevelopment/model_dummy_mf_oversampled.sav')\n",
        "#mdl_dst = joblib.load('results_modelsDevelopment/model_dummy_st_oversampled.sav')\n",
        "# Testset\n",
        "x_test = pd.read_csv('x_test.csv')\n",
        "y_test = pd.read_csv('y_test.csv')\n",
        "# BOCV-5 results\n",
        "#bocv5_results = pd.read_csv('BO5CV_best_results.csv')\n",
        "# Backtest\n",
        "#x_resp = pd.read_csv('results_modelsDevelopment/x_resp.csv')\n",
        "#y_resp = pd.Series(np.zeros((len(x_resp),)))\n",
        "#a=list(model_lre)"
      ]
    },
    {
      "cell_type": "code",
      "execution_count": null,
      "metadata": {
        "id": "tTvvp7STbFXq",
        "outputId": "0c311511-a2a3-4a2a-c3ff-9f08679fd256",
        "colab": {
          "base_uri": "https://localhost:8080/",
          "height": 206
        }
      },
      "outputs": [
        {
          "output_type": "execute_result",
          "data": {
            "text/plain": [
              "   mean_test_score  std_test_score ai_algorithm\n",
              "0           56.300           1.804          lre\n",
              "1           56.300           1.804          svm\n",
              "2           94.772           1.058          rfc\n",
              "3           94.772           1.058          bst\n",
              "4           94.772           1.058          xgb"
            ],
            "text/html": [
              "\n",
              "  <div id=\"df-be0dabef-c6ee-4f5c-96c9-c39248bc9271\">\n",
              "    <div class=\"colab-df-container\">\n",
              "      <div>\n",
              "<style scoped>\n",
              "    .dataframe tbody tr th:only-of-type {\n",
              "        vertical-align: middle;\n",
              "    }\n",
              "\n",
              "    .dataframe tbody tr th {\n",
              "        vertical-align: top;\n",
              "    }\n",
              "\n",
              "    .dataframe thead th {\n",
              "        text-align: right;\n",
              "    }\n",
              "</style>\n",
              "<table border=\"1\" class=\"dataframe\">\n",
              "  <thead>\n",
              "    <tr style=\"text-align: right;\">\n",
              "      <th></th>\n",
              "      <th>mean_test_score</th>\n",
              "      <th>std_test_score</th>\n",
              "      <th>ai_algorithm</th>\n",
              "    </tr>\n",
              "  </thead>\n",
              "  <tbody>\n",
              "    <tr>\n",
              "      <th>0</th>\n",
              "      <td>56.300</td>\n",
              "      <td>1.804</td>\n",
              "      <td>lre</td>\n",
              "    </tr>\n",
              "    <tr>\n",
              "      <th>1</th>\n",
              "      <td>56.300</td>\n",
              "      <td>1.804</td>\n",
              "      <td>svm</td>\n",
              "    </tr>\n",
              "    <tr>\n",
              "      <th>2</th>\n",
              "      <td>94.772</td>\n",
              "      <td>1.058</td>\n",
              "      <td>rfc</td>\n",
              "    </tr>\n",
              "    <tr>\n",
              "      <th>3</th>\n",
              "      <td>94.772</td>\n",
              "      <td>1.058</td>\n",
              "      <td>bst</td>\n",
              "    </tr>\n",
              "    <tr>\n",
              "      <th>4</th>\n",
              "      <td>94.772</td>\n",
              "      <td>1.058</td>\n",
              "      <td>xgb</td>\n",
              "    </tr>\n",
              "  </tbody>\n",
              "</table>\n",
              "</div>\n",
              "      <button class=\"colab-df-convert\" onclick=\"convertToInteractive('df-be0dabef-c6ee-4f5c-96c9-c39248bc9271')\"\n",
              "              title=\"Convert this dataframe to an interactive table.\"\n",
              "              style=\"display:none;\">\n",
              "        \n",
              "  <svg xmlns=\"http://www.w3.org/2000/svg\" height=\"24px\"viewBox=\"0 0 24 24\"\n",
              "       width=\"24px\">\n",
              "    <path d=\"M0 0h24v24H0V0z\" fill=\"none\"/>\n",
              "    <path d=\"M18.56 5.44l.94 2.06.94-2.06 2.06-.94-2.06-.94-.94-2.06-.94 2.06-2.06.94zm-11 1L8.5 8.5l.94-2.06 2.06-.94-2.06-.94L8.5 2.5l-.94 2.06-2.06.94zm10 10l.94 2.06.94-2.06 2.06-.94-2.06-.94-.94-2.06-.94 2.06-2.06.94z\"/><path d=\"M17.41 7.96l-1.37-1.37c-.4-.4-.92-.59-1.43-.59-.52 0-1.04.2-1.43.59L10.3 9.45l-7.72 7.72c-.78.78-.78 2.05 0 2.83L4 21.41c.39.39.9.59 1.41.59.51 0 1.02-.2 1.41-.59l7.78-7.78 2.81-2.81c.8-.78.8-2.07 0-2.86zM5.41 20L4 18.59l7.72-7.72 1.47 1.35L5.41 20z\"/>\n",
              "  </svg>\n",
              "      </button>\n",
              "      \n",
              "  <style>\n",
              "    .colab-df-container {\n",
              "      display:flex;\n",
              "      flex-wrap:wrap;\n",
              "      gap: 12px;\n",
              "    }\n",
              "\n",
              "    .colab-df-convert {\n",
              "      background-color: #E8F0FE;\n",
              "      border: none;\n",
              "      border-radius: 50%;\n",
              "      cursor: pointer;\n",
              "      display: none;\n",
              "      fill: #1967D2;\n",
              "      height: 32px;\n",
              "      padding: 0 0 0 0;\n",
              "      width: 32px;\n",
              "    }\n",
              "\n",
              "    .colab-df-convert:hover {\n",
              "      background-color: #E2EBFA;\n",
              "      box-shadow: 0px 1px 2px rgba(60, 64, 67, 0.3), 0px 1px 3px 1px rgba(60, 64, 67, 0.15);\n",
              "      fill: #174EA6;\n",
              "    }\n",
              "\n",
              "    [theme=dark] .colab-df-convert {\n",
              "      background-color: #3B4455;\n",
              "      fill: #D2E3FC;\n",
              "    }\n",
              "\n",
              "    [theme=dark] .colab-df-convert:hover {\n",
              "      background-color: #434B5C;\n",
              "      box-shadow: 0px 1px 3px 1px rgba(0, 0, 0, 0.15);\n",
              "      filter: drop-shadow(0px 1px 2px rgba(0, 0, 0, 0.3));\n",
              "      fill: #FFFFFF;\n",
              "    }\n",
              "  </style>\n",
              "\n",
              "      <script>\n",
              "        const buttonEl =\n",
              "          document.querySelector('#df-be0dabef-c6ee-4f5c-96c9-c39248bc9271 button.colab-df-convert');\n",
              "        buttonEl.style.display =\n",
              "          google.colab.kernel.accessAllowed ? 'block' : 'none';\n",
              "\n",
              "        async function convertToInteractive(key) {\n",
              "          const element = document.querySelector('#df-be0dabef-c6ee-4f5c-96c9-c39248bc9271');\n",
              "          const dataTable =\n",
              "            await google.colab.kernel.invokeFunction('convertToInteractive',\n",
              "                                                     [key], {});\n",
              "          if (!dataTable) return;\n",
              "\n",
              "          const docLinkHtml = 'Like what you see? Visit the ' +\n",
              "            '<a target=\"_blank\" href=https://colab.research.google.com/notebooks/data_table.ipynb>data table notebook</a>'\n",
              "            + ' to learn more about interactive tables.';\n",
              "          element.innerHTML = '';\n",
              "          dataTable['output_type'] = 'display_data';\n",
              "          await google.colab.output.renderOutput(dataTable, element);\n",
              "          const docLink = document.createElement('div');\n",
              "          docLink.innerHTML = docLinkHtml;\n",
              "          element.appendChild(docLink);\n",
              "        }\n",
              "      </script>\n",
              "    </div>\n",
              "  </div>\n",
              "  "
            ]
          },
          "metadata": {},
          "execution_count": 5
        }
      ],
      "source": [
        "# Rounding up\n",
        "bocv5_results['mean_test_score'] = np.round(100*bocv5_results['mean_test_score'],3)\n",
        "bocv5_results['std_test_score'] = np.round(100*bocv5_results['std_test_score'],3)\n",
        "\n",
        "# Show\n",
        "bocv5_results[['mean_test_score','std_test_score','ai_algorithm']]"
      ]
    },
    {
      "cell_type": "markdown",
      "metadata": {
        "id": "B2JpEqFpbFXq"
      },
      "source": [
        "# EVALUATION 1 - Calculate several metrics for test set \n",
        "\n",
        "**Metrics**\n",
        "- F1 Score (related to precision and recall)\n",
        "- AUC ROC Score\n",
        "- Accuracy"
      ]
    },
    {
      "cell_type": "markdown",
      "source": [
        "random forest oversampled\n"
      ],
      "metadata": {
        "id": "FUMQuJI8WwMc"
      }
    },
    {
      "cell_type": "code",
      "source": [
        "y_pred= mdl_rfc_ove.predict(x_test)\n",
        "y_prob=mdl_rfc_ove.predict_proba(x_test)\n",
        "print(confusion_matrix(y_test, y_pred))\n",
        "target_names = ['not admitted', 'regular ward', 'semi-icu' , 'icu']\n",
        "\n",
        "# Print the precision and recall, among other metrics\n",
        "print(classification_report(y_test, y_pred, target_names=target_names))\n",
        "roc_auc_score(y_test, y_prob , multi_class='ovr')"
      ],
      "metadata": {
        "colab": {
          "base_uri": "https://localhost:8080/"
        },
        "id": "Kd0uTF5izRzz",
        "outputId": "6e4c6f61-4448-4c39-f31b-4970058e6221"
      },
      "execution_count": null,
      "outputs": [
        {
          "output_type": "stream",
          "name": "stdout",
          "text": [
            "[[67  2  0  2]\n",
            " [ 7  2  0  0]\n",
            " [ 3  2  0  1]\n",
            " [ 0  0  2  2]]\n",
            "              precision    recall  f1-score   support\n",
            "\n",
            "not admitted       0.87      0.94      0.91        71\n",
            "regular ward       0.33      0.22      0.27         9\n",
            "    semi-icu       0.00      0.00      0.00         6\n",
            "         icu       0.40      0.50      0.44         4\n",
            "\n",
            "    accuracy                           0.79        90\n",
            "   macro avg       0.40      0.42      0.40        90\n",
            "weighted avg       0.74      0.79      0.76        90\n",
            "\n"
          ]
        },
        {
          "output_type": "execute_result",
          "data": {
            "text/plain": [
              "0.7516381175493558"
            ]
          },
          "metadata": {},
          "execution_count": 12
        }
      ]
    },
    {
      "cell_type": "markdown",
      "source": [
        "random forest imbalnced"
      ],
      "metadata": {
        "id": "tEhIXRWAXC4N"
      }
    },
    {
      "cell_type": "code",
      "source": [
        "y_pred= mdl_rfc_bal.predict(x_test)\n",
        "y_prob=mdl_rfc_bal.predict_proba(x_test)\n",
        "print(confusion_matrix(y_test, y_pred))\n",
        "target_names = ['not admitted', 'regular ward', 'semi-icu' , 'icu']\n",
        "\n",
        "# Print the precision and recall, among other metrics\n",
        "print(classification_report(y_test, y_pred, target_names=target_names))\n",
        "roc_auc_score(y_test, y_prob , multi_class='ovr')"
      ],
      "metadata": {
        "colab": {
          "base_uri": "https://localhost:8080/"
        },
        "id": "qi0gIJXyXGBV",
        "outputId": "b03cec86-3eea-4509-a8f9-9f6f1f2ab627"
      },
      "execution_count": null,
      "outputs": [
        {
          "output_type": "stream",
          "name": "stdout",
          "text": [
            "[[65  3  0  3]\n",
            " [ 7  2  0  0]\n",
            " [ 2  3  0  1]\n",
            " [ 1  0  2  1]]\n",
            "              precision    recall  f1-score   support\n",
            "\n",
            "not admitted       0.87      0.92      0.89        71\n",
            "regular ward       0.25      0.22      0.24         9\n",
            "    semi-icu       0.00      0.00      0.00         6\n",
            "         icu       0.20      0.25      0.22         4\n",
            "\n",
            "    accuracy                           0.76        90\n",
            "   macro avg       0.33      0.35      0.34        90\n",
            "weighted avg       0.72      0.76      0.74        90\n",
            "\n"
          ]
        },
        {
          "output_type": "execute_result",
          "data": {
            "text/plain": [
              "0.7708372009216886"
            ]
          },
          "metadata": {},
          "execution_count": 16
        }
      ]
    },
    {
      "cell_type": "markdown",
      "source": [
        "**logistic regression imbalanced**"
      ],
      "metadata": {
        "id": "qeLXs_roNV6F"
      }
    },
    {
      "cell_type": "code",
      "source": [
        "y_pred= mdl_lre_bal.predict(x_test)\n",
        "y_prob=mdl_lre_bal.predict_proba(x_test)\n",
        "print(confusion_matrix(y_test, y_pred))\n",
        "target_names = ['not admitted', 'regular ward', 'semi-icu' , 'icu']\n",
        "\n",
        "# Print the precision and recall, among other metrics\n",
        "print(classification_report(y_test, y_pred, target_names=target_names))\n",
        "roc_auc_score(y_test, y_prob , multi_class='ovr')"
      ],
      "metadata": {
        "colab": {
          "base_uri": "https://localhost:8080/"
        },
        "id": "MTx-TWljNbSx",
        "outputId": "9dabc5ad-c4a4-4e05-a6d9-e42e03844c12"
      },
      "execution_count": null,
      "outputs": [
        {
          "output_type": "stream",
          "name": "stdout",
          "text": [
            "[[40 15  4 12]\n",
            " [ 3  5  1  0]\n",
            " [ 2  3  0  1]\n",
            " [ 0  1  0  3]]\n",
            "              precision    recall  f1-score   support\n",
            "\n",
            "not admitted       0.89      0.56      0.69        71\n",
            "regular ward       0.21      0.56      0.30         9\n",
            "    semi-icu       0.00      0.00      0.00         6\n",
            "         icu       0.19      0.75      0.30         4\n",
            "\n",
            "    accuracy                           0.53        90\n",
            "   macro avg       0.32      0.47      0.32        90\n",
            "weighted avg       0.73      0.53      0.59        90\n",
            "\n"
          ]
        },
        {
          "output_type": "execute_result",
          "data": {
            "text/plain": [
              "0.6419189076226317"
            ]
          },
          "metadata": {},
          "execution_count": 14
        }
      ]
    },
    {
      "cell_type": "markdown",
      "source": [
        "**logistic regression oversampled**"
      ],
      "metadata": {
        "id": "Ljfet4BxN0r7"
      }
    },
    {
      "cell_type": "code",
      "source": [
        "y_pred= mdl_lre_ove.predict(x_test)\n",
        "y_prob=mdl_lre_ove.predict_proba(x_test)\n",
        "print(confusion_matrix(y_test, y_pred))\n",
        "target_names = ['not admitted', 'regular ward', 'semi-icu' , 'icu']\n",
        "\n",
        "# Print the precision and recall, among other metrics\n",
        "print(classification_report(y_test, y_pred, target_names=target_names))\n",
        "roc_auc_score(y_test, y_prob , multi_class='ovr')"
      ],
      "metadata": {
        "colab": {
          "base_uri": "https://localhost:8080/"
        },
        "id": "5JTj-eCNN5cx",
        "outputId": "7235f6ee-831e-4d7b-9a32-c8144fa3a2a0"
      },
      "execution_count": null,
      "outputs": [
        {
          "output_type": "stream",
          "name": "stdout",
          "text": [
            "[[39 13 12  7]\n",
            " [ 2  3  1  3]\n",
            " [ 0  3  1  2]\n",
            " [ 0  1  1  2]]\n",
            "              precision    recall  f1-score   support\n",
            "\n",
            "not admitted       0.95      0.55      0.70        71\n",
            "regular ward       0.15      0.33      0.21         9\n",
            "    semi-icu       0.07      0.17      0.10         6\n",
            "         icu       0.14      0.50      0.22         4\n",
            "\n",
            "    accuracy                           0.50        90\n",
            "   macro avg       0.33      0.39      0.31        90\n",
            "weighted avg       0.78      0.50      0.59        90\n",
            "\n"
          ]
        },
        {
          "output_type": "execute_result",
          "data": {
            "text/plain": [
              "0.6645989859442826"
            ]
          },
          "metadata": {},
          "execution_count": 15
        }
      ]
    },
    {
      "cell_type": "markdown",
      "source": [
        "**svm imbalanced**"
      ],
      "metadata": {
        "id": "QkxgqAHJOTAS"
      }
    },
    {
      "cell_type": "code",
      "source": [
        "y_pred= mdl_svm_bal.predict(x_test)\n",
        "y_prob=mdl_svm_bal.predict_proba(x_test)\n",
        "print(confusion_matrix(y_test, y_pred))\n",
        "target_names = ['not admitted', 'regular ward', 'semi-icu' , 'icu']\n",
        "\n",
        "# Print the precision and recall, among other metrics\n",
        "print(classification_report(y_test, y_pred, target_names=target_names))\n",
        "roc_auc_score(y_test, y_prob , multi_class='ovr')"
      ],
      "metadata": {
        "colab": {
          "base_uri": "https://localhost:8080/"
        },
        "id": "bFbKfWESOXiy",
        "outputId": "817f5210-4741-404b-fcdc-45dc6dd4702b"
      },
      "execution_count": null,
      "outputs": [
        {
          "output_type": "stream",
          "name": "stdout",
          "text": [
            "[[47 11  6  7]\n",
            " [ 3  3  2  1]\n",
            " [ 0  4  1  1]\n",
            " [ 0  1  1  2]]\n",
            "              precision    recall  f1-score   support\n",
            "\n",
            "not admitted       0.94      0.66      0.78        71\n",
            "regular ward       0.16      0.33      0.21         9\n",
            "    semi-icu       0.10      0.17      0.12         6\n",
            "         icu       0.18      0.50      0.27         4\n",
            "\n",
            "    accuracy                           0.59        90\n",
            "   macro avg       0.34      0.42      0.35        90\n",
            "weighted avg       0.77      0.59      0.65        90\n",
            "\n"
          ]
        },
        {
          "output_type": "execute_result",
          "data": {
            "text/plain": [
              "0.7262727268676423"
            ]
          },
          "metadata": {},
          "execution_count": 17
        }
      ]
    },
    {
      "cell_type": "markdown",
      "source": [
        "**svm oversampled**"
      ],
      "metadata": {
        "id": "bjhJN9wIOmyA"
      }
    },
    {
      "cell_type": "code",
      "source": [
        "y_pred= mdl_svm_ove.predict(x_test)\n",
        "y_prob=mdl_svm_ove.predict_proba(x_test)\n",
        "print(confusion_matrix(y_test, y_pred))\n",
        "target_names = ['not admitted', 'regular ward', 'semi-icu' , 'icu']\n",
        "\n",
        "# Print the precision and recall, among other metrics\n",
        "print(classification_report(y_test, y_pred, target_names=target_names))\n",
        "roc_auc_score(y_test, y_prob , multi_class='ovr')"
      ],
      "metadata": {
        "colab": {
          "base_uri": "https://localhost:8080/"
        },
        "id": "GGre1v-WOq1z",
        "outputId": "18d51733-565d-4198-d07f-b206254b21ce"
      },
      "execution_count": null,
      "outputs": [
        {
          "output_type": "stream",
          "name": "stdout",
          "text": [
            "[[61  2  4  4]\n",
            " [ 4  2  2  1]\n",
            " [ 2  1  1  2]\n",
            " [ 2  0  0  2]]\n",
            "              precision    recall  f1-score   support\n",
            "\n",
            "not admitted       0.88      0.86      0.87        71\n",
            "regular ward       0.40      0.22      0.29         9\n",
            "    semi-icu       0.14      0.17      0.15         6\n",
            "         icu       0.22      0.50      0.31         4\n",
            "\n",
            "    accuracy                           0.73        90\n",
            "   macro avg       0.41      0.44      0.40        90\n",
            "weighted avg       0.76      0.73      0.74        90\n",
            "\n"
          ]
        },
        {
          "output_type": "execute_result",
          "data": {
            "text/plain": [
              "0.7606622566797392"
            ]
          },
          "metadata": {},
          "execution_count": 18
        }
      ]
    },
    {
      "cell_type": "markdown",
      "source": [
        "**gradiant boosting imbalnced**"
      ],
      "metadata": {
        "id": "4O0lp8H7O_WU"
      }
    },
    {
      "cell_type": "code",
      "source": [
        "y_pred= mdl_bst_bal.predict(x_test)\n",
        "y_prob=mdl_bst_bal.predict_proba(x_test)\n",
        "print(confusion_matrix(y_test, y_pred))\n",
        "target_names = ['not admitted', 'regular ward', 'semi-icu' , 'icu']\n",
        "\n",
        "# Print the precision and recall, among other metrics\n",
        "print(classification_report(y_test, y_pred, target_names=target_names))\n",
        "roc_auc_score(y_test, y_prob , multi_class='ovr')"
      ],
      "metadata": {
        "colab": {
          "base_uri": "https://localhost:8080/"
        },
        "id": "paK9_OyIPDsb",
        "outputId": "82ea7d4a-b98f-4bf8-8064-5ac96e9326b4"
      },
      "execution_count": null,
      "outputs": [
        {
          "output_type": "stream",
          "name": "stdout",
          "text": [
            "[[71  0  0  0]\n",
            " [ 8  1  0  0]\n",
            " [ 3  2  0  1]\n",
            " [ 1  0  3  0]]\n",
            "              precision    recall  f1-score   support\n",
            "\n",
            "not admitted       0.86      1.00      0.92        71\n",
            "regular ward       0.33      0.11      0.17         9\n",
            "    semi-icu       0.00      0.00      0.00         6\n",
            "         icu       0.00      0.00      0.00         4\n",
            "\n",
            "    accuracy                           0.80        90\n",
            "   macro avg       0.30      0.28      0.27        90\n",
            "weighted avg       0.71      0.80      0.74        90\n",
            "\n"
          ]
        },
        {
          "output_type": "execute_result",
          "data": {
            "text/plain": [
              "0.8172223359389268"
            ]
          },
          "metadata": {},
          "execution_count": 19
        }
      ]
    },
    {
      "cell_type": "markdown",
      "source": [
        "**gradiant boosting oversampled **"
      ],
      "metadata": {
        "id": "0_G8tQB1PRRq"
      }
    },
    {
      "cell_type": "code",
      "source": [
        "y_pred= mdl_bst_ove.predict(x_test)\n",
        "y_prob=mdl_bst_ove.predict_proba(x_test)\n",
        "print(confusion_matrix(y_test, y_pred))\n",
        "target_names = ['not admitted', 'regular ward', 'semi-icu' , 'icu']\n",
        "\n",
        "# Print the precision and recall, among other metrics\n",
        "print(classification_report(y_test, y_pred, target_names=target_names))\n",
        "roc_auc_score(y_test, y_prob , multi_class='ovr')"
      ],
      "metadata": {
        "colab": {
          "base_uri": "https://localhost:8080/"
        },
        "id": "GnqjH0diPZfp",
        "outputId": "b01349e5-9a1a-43f9-83b5-f42eba2bec7e"
      },
      "execution_count": null,
      "outputs": [
        {
          "output_type": "stream",
          "name": "stdout",
          "text": [
            "[[68  1  0  2]\n",
            " [ 7  2  0  0]\n",
            " [ 4  1  1  0]\n",
            " [ 0  0  3  1]]\n",
            "              precision    recall  f1-score   support\n",
            "\n",
            "not admitted       0.86      0.96      0.91        71\n",
            "regular ward       0.50      0.22      0.31         9\n",
            "    semi-icu       0.25      0.17      0.20         6\n",
            "         icu       0.33      0.25      0.29         4\n",
            "\n",
            "    accuracy                           0.80        90\n",
            "   macro avg       0.49      0.40      0.43        90\n",
            "weighted avg       0.76      0.80      0.77        90\n",
            "\n"
          ]
        },
        {
          "output_type": "execute_result",
          "data": {
            "text/plain": [
              "0.7966099202870436"
            ]
          },
          "metadata": {},
          "execution_count": 20
        }
      ]
    },
    {
      "cell_type": "markdown",
      "source": [
        "**xgboost imbalnced**"
      ],
      "metadata": {
        "id": "BqcCGsZgPt2u"
      }
    },
    {
      "cell_type": "code",
      "source": [
        "y_pred= mdl_xgb_bal.predict(x_test)\n",
        "y_prob=mdl_xgb_bal.predict_proba(x_test)\n",
        "print(confusion_matrix(y_test, y_pred))\n",
        "target_names = ['not admitted', 'regular ward', 'semi-icu' , 'icu']\n",
        "\n",
        "# Print the precision and recall, among other metrics\n",
        "print(classification_report(y_test, y_pred, target_names=target_names))\n",
        "roc_auc_score(y_test, y_prob , multi_class='ovr')"
      ],
      "metadata": {
        "colab": {
          "base_uri": "https://localhost:8080/"
        },
        "id": "KdhWZcA8P29U",
        "outputId": "047a4ac6-ad5d-4dc4-a0e1-f1a1bfd0e18f"
      },
      "execution_count": null,
      "outputs": [
        {
          "output_type": "stream",
          "name": "stdout",
          "text": [
            "[[69  1  0  1]\n",
            " [ 8  1  0  0]\n",
            " [ 2  2  2  0]\n",
            " [ 3  0  1  0]]\n",
            "              precision    recall  f1-score   support\n",
            "\n",
            "not admitted       0.84      0.97      0.90        71\n",
            "regular ward       0.25      0.11      0.15         9\n",
            "    semi-icu       0.67      0.33      0.44         6\n",
            "         icu       0.00      0.00      0.00         4\n",
            "\n",
            "    accuracy                           0.80        90\n",
            "   macro avg       0.44      0.35      0.38        90\n",
            "weighted avg       0.73      0.80      0.76        90\n",
            "\n"
          ]
        },
        {
          "output_type": "execute_result",
          "data": {
            "text/plain": [
              "0.803012934033001"
            ]
          },
          "metadata": {},
          "execution_count": 21
        }
      ]
    },
    {
      "cell_type": "markdown",
      "source": [
        "xgboost oversampled"
      ],
      "metadata": {
        "id": "WDbHDB_WQH28"
      }
    },
    {
      "cell_type": "code",
      "source": [
        "y_pred= mdl_xgb_ove.predict(x_test)\n",
        "y_prob=mdl_xgb_ove.predict_proba(x_test)\n",
        "print(confusion_matrix(y_test, y_pred))\n",
        "target_names = ['not admitted', 'regular ward', 'semi-icu' , 'icu']\n",
        "\n",
        "# Print the precision and recall, among other metrics\n",
        "print(classification_report(y_test, y_pred, target_names=target_names))\n",
        "roc_auc_score(y_test, y_prob , multi_class='ovr')"
      ],
      "metadata": {
        "colab": {
          "base_uri": "https://localhost:8080/"
        },
        "id": "HQ3s3D0tQMeq",
        "outputId": "0c3a2f34-942d-4026-bd22-b33409fa86bf"
      },
      "execution_count": null,
      "outputs": [
        {
          "output_type": "stream",
          "name": "stdout",
          "text": [
            "[[67  1  2  1]\n",
            " [ 8  1  0  0]\n",
            " [ 2  3  0  1]\n",
            " [ 0  0  2  2]]\n",
            "              precision    recall  f1-score   support\n",
            "\n",
            "not admitted       0.87      0.94      0.91        71\n",
            "regular ward       0.20      0.11      0.14         9\n",
            "    semi-icu       0.00      0.00      0.00         6\n",
            "         icu       0.50      0.50      0.50         4\n",
            "\n",
            "    accuracy                           0.78        90\n",
            "   macro avg       0.39      0.39      0.39        90\n",
            "weighted avg       0.73      0.78      0.75        90\n",
            "\n"
          ]
        },
        {
          "output_type": "execute_result",
          "data": {
            "text/plain": [
              "0.7636745239905482"
            ]
          },
          "metadata": {},
          "execution_count": 22
        }
      ]
    },
    {
      "cell_type": "markdown",
      "source": [
        "**gradiant boosting confusion matrix**"
      ],
      "metadata": {
        "id": "EXoQ7k16TjxE"
      }
    },
    {
      "cell_type": "code",
      "source": [
        "\n",
        "class_names = ['not', 'reqular', 'semi', 'icu']\n",
        "disp = plot_confusion_matrix(mdl_bst_ove,x_test, y_test, display_labels=class_names, cmap=plt.cm.Blues, xticks_rotation='vertical')\n"
      ],
      "metadata": {
        "colab": {
          "base_uri": "https://localhost:8080/",
          "height": 305
        },
        "id": "SIsxgiO9Pbgk",
        "outputId": "d86c4edf-1edc-4aa9-f2a7-f6f49be386ee"
      },
      "execution_count": null,
      "outputs": [
        {
          "output_type": "display_data",
          "data": {
            "text/plain": [
              "<Figure size 432x288 with 2 Axes>"
            ],
            "image/png": "[encoded data removed]"
          },
          "metadata": {
            "needs_background": "light"
          }
        }
      ]
    },
    {
      "cell_type": "code",
      "source": [
        "class_names = ['not', 'reqular', 'semi', 'icu']\n",
        "disp = plot_confusion_matrix(mdl_bst_bal,x_test, y_test, display_labels=class_names, cmap=plt.cm.Blues, xticks_rotation='vertical')"
      ],
      "metadata": {
        "colab": {
          "base_uri": "https://localhost:8080/",
          "height": 306
        },
        "id": "Lr1Jl4VTam3v",
        "outputId": "4365115a-7d24-4c8f-8eb5-6f6a925b0247"
      },
      "execution_count": null,
      "outputs": [
        {
          "output_type": "display_data",
          "data": {
            "text/plain": [
              "<Figure size 432x288 with 2 Axes>"
            ],
            "image/png": "[encoded data removed]"
          },
          "metadata": {
            "needs_background": "light"
          }
        }
      ]
    },
    {
      "cell_type": "markdown",
      "source": [
        "**random forest confusion matrix**"
      ],
      "metadata": {
        "id": "AjAlrtOGUAy1"
      }
    },
    {
      "cell_type": "code",
      "source": [
        "class_names = ['not', 'reqular', 'semi', 'icu']\n",
        "disp = plot_confusion_matrix(mdl_rfc_ove,x_test, y_test, display_labels=class_names, cmap=plt.cm.Blues, xticks_rotation='vertical')"
      ],
      "metadata": {
        "colab": {
          "base_uri": "https://localhost:8080/",
          "height": 305
        },
        "id": "dSgx3Bc_UHBZ",
        "outputId": "4813e031-3dc8-4fb5-a617-d922fb299cfd"
      },
      "execution_count": null,
      "outputs": [
        {
          "output_type": "display_data",
          "data": {
            "text/plain": [
              "<Figure size 432x288 with 2 Axes>"
            ],
            "image/png": "[encoded data removed]"
          },
          "metadata": {
            "needs_background": "light"
          }
        }
      ]
    },
    {
      "cell_type": "code",
      "source": [
        "class_names = ['not', 'reqular', 'semi', 'icu']\n",
        "disp = plot_confusion_matrix(mdl_rfc_bal,x_test, y_test, display_labels=class_names, cmap=plt.cm.Blues, xticks_rotation='vertical')"
      ],
      "metadata": {
        "colab": {
          "base_uri": "https://localhost:8080/",
          "height": 305
        },
        "id": "tZx19GICa1_w",
        "outputId": "1ea3f28f-9614-4f31-c61e-6fb0fcaf4dd7"
      },
      "execution_count": null,
      "outputs": [
        {
          "output_type": "display_data",
          "data": {
            "text/plain": [
              "<Figure size 432x288 with 2 Axes>"
            ],
            "image/png": "[encoded data removed]"
          },
          "metadata": {
            "needs_background": "light"
          }
        }
      ]
    },
    {
      "cell_type": "markdown",
      "source": [
        "logistic regression confusion matrix\n",
        "**bold text**"
      ],
      "metadata": {
        "id": "pkC9mEhPUYnl"
      }
    },
    {
      "cell_type": "code",
      "source": [
        "class_names = ['not', 'reqular', 'semi', 'icu']\n",
        "disp = plot_confusion_matrix(mdl_lre_ove,x_test, y_test, display_labels=class_names, cmap=plt.cm.Blues, xticks_rotation='vertical')"
      ],
      "metadata": {
        "colab": {
          "base_uri": "https://localhost:8080/",
          "height": 392
        },
        "id": "6PvyEpcVUuN6",
        "outputId": "08d29e71-68c5-4caa-c33c-e28b5be539b6"
      },
      "execution_count": null,
      "outputs": [
        {
          "output_type": "stream",
          "name": "stderr",
          "text": [
            "Exception ignored in: <function Booster.__del__ at 0x7f9e5e14d7a0>\n",
            "Traceback (most recent call last):\n",
            "  File \"/usr/local/lib/python3.7/dist-packages/xgboost/core.py\", line 957, in __del__\n",
            "    if self.handle is not None:\n",
            "AttributeError: 'Booster' object has no attribute 'handle'\n"
          ]
        },
        {
          "output_type": "display_data",
          "data": {
            "text/plain": [
              "<Figure size 432x288 with 2 Axes>"
            ],
            "image/png": "[encoded data removed]"
          },
          "metadata": {
            "needs_background": "light"
          }
        }
      ]
    },
    {
      "cell_type": "code",
      "source": [
        "class_names = ['not', 'reqular', 'semi', 'icu']\n",
        "disp = plot_confusion_matrix(mdl_lre_bal,x_test, y_test, display_labels=class_names, cmap=plt.cm.Blues, xticks_rotation='vertical')"
      ],
      "metadata": {
        "colab": {
          "base_uri": "https://localhost:8080/",
          "height": 309
        },
        "id": "AISrMn7HbAQf",
        "outputId": "5588ef61-5326-4e69-a2c2-09e56a8e2a72"
      },
      "execution_count": null,
      "outputs": [
        {
          "output_type": "display_data",
          "data": {
            "text/plain": [
              "<Figure size 432x288 with 2 Axes>"
            ],
            "image/png": "[encoded data removed]"
          },
          "metadata": {
            "needs_background": "light"
          }
        }
      ]
    },
    {
      "cell_type": "markdown",
      "source": [
        "**xgb confusion matrix**"
      ],
      "metadata": {
        "id": "riiMTnjmU-7p"
      }
    },
    {
      "cell_type": "code",
      "source": [
        "class_names = ['not', 'reqular', 'semi', 'icu']\n",
        "disp = plot_confusion_matrix(mdl_xgb_ove,x_test, y_test, display_labels=class_names, cmap=plt.cm.Blues, xticks_rotation='vertical')"
      ],
      "metadata": {
        "colab": {
          "base_uri": "https://localhost:8080/",
          "height": 305
        },
        "id": "tPZxppL9VEMj",
        "outputId": "23f0ae78-957c-45d5-a21a-4b7c1f7d3f0c"
      },
      "execution_count": null,
      "outputs": [
        {
          "output_type": "display_data",
          "data": {
            "text/plain": [
              "<Figure size 432x288 with 2 Axes>"
            ],
            "image/png": "[encoded data removed]"
          },
          "metadata": {
            "needs_background": "light"
          }
        }
      ]
    },
    {
      "cell_type": "code",
      "source": [
        "class_names = ['not', 'reqular', 'semi', 'icu']\n",
        "disp = plot_confusion_matrix(mdl_xgb_bal,x_test, y_test, display_labels=class_names, cmap=plt.cm.Blues, xticks_rotation='vertical')"
      ],
      "metadata": {
        "colab": {
          "base_uri": "https://localhost:8080/",
          "height": 305
        },
        "id": "JqgA5IRZbOAg",
        "outputId": "b4fc26b5-ef31-45f3-8d61-7a25d72142f5"
      },
      "execution_count": null,
      "outputs": [
        {
          "output_type": "display_data",
          "data": {
            "text/plain": [
              "<Figure size 432x288 with 2 Axes>"
            ],
            "image/png": "[encoded data removed]"
          },
          "metadata": {
            "needs_background": "light"
          }
        }
      ]
    },
    {
      "cell_type": "markdown",
      "source": [
        "**svm confusion matrix**"
      ],
      "metadata": {
        "id": "oSYfW0T-VebN"
      }
    },
    {
      "cell_type": "code",
      "source": [
        "class_names = ['not', 'reqular', 'semi', 'icu']\n",
        "disp = plot_confusion_matrix(mdl_svm_ove,x_test, y_test, display_labels=class_names, cmap=plt.cm.Blues, xticks_rotation='vertical')"
      ],
      "metadata": {
        "colab": {
          "base_uri": "https://localhost:8080/",
          "height": 306
        },
        "id": "4m40EF25V6os",
        "outputId": "71ed2000-e066-407b-86cd-c3571241ee24"
      },
      "execution_count": null,
      "outputs": [
        {
          "output_type": "display_data",
          "data": {
            "text/plain": [
              "<Figure size 432x288 with 2 Axes>"
            ],
            "image/png": "[encoded data removed]"
          },
          "metadata": {
            "needs_background": "light"
          }
        }
      ]
    },
    {
      "cell_type": "code",
      "source": [
        "class_names = ['not', 'reqular', 'semi', 'icu']\n",
        "disp = plot_confusion_matrix(mdl_svm_bal,x_test, y_test, display_labels=class_names, cmap=plt.cm.Blues, xticks_rotation='vertical')"
      ],
      "metadata": {
        "colab": {
          "base_uri": "https://localhost:8080/",
          "height": 305
        },
        "id": "uXJmJsGEbYJR",
        "outputId": "2a2cab9b-5606-4ca4-ec57-c71dfc1a6439"
      },
      "execution_count": null,
      "outputs": [
        {
          "output_type": "display_data",
          "data": {
            "text/plain": [
              "<Figure size 432x288 with 2 Axes>"
            ],
            "image/png": "[encoded data removed]"
          },
          "metadata": {
            "needs_background": "light"
          }
        }
      ]
    },
    {
      "cell_type": "code",
      "source": [
        "y_pred= mdl_lre_ove.predict(x_test)\n",
        "print(confusion_matrix(y_test, y_pred))\n",
        "\n",
        "# Print the precision and recall, among other metrics\n",
        "print(classification_report(y_test, y_pred, digits=4))"
      ],
      "metadata": {
        "colab": {
          "base_uri": "https://localhost:8080/"
        },
        "outputId": "c558f46a-4258-4a41-86f6-ea0d8614031e",
        "id": "MvC2YSk61kIc"
      },
      "execution_count": null,
      "outputs": [
        {
          "output_type": "stream",
          "name": "stdout",
          "text": [
            "[[39 13 12  7]\n",
            " [ 2  3  1  3]\n",
            " [ 0  3  1  2]\n",
            " [ 0  1  1  2]]\n",
            "              precision    recall  f1-score   support\n",
            "\n",
            "           0     0.9512    0.5493    0.6964        71\n",
            "           1     0.1500    0.3333    0.2069         9\n",
            "           2     0.0667    0.1667    0.0952         6\n",
            "           3     0.1429    0.5000    0.2222         4\n",
            "\n",
            "    accuracy                         0.5000        90\n",
            "   macro avg     0.3277    0.3873    0.3052        90\n",
            "weighted avg     0.7762    0.5000    0.5863        90\n",
            "\n"
          ]
        }
      ]
    },
    {
      "cell_type": "code",
      "source": [
        "y_pred= mdl_lre_bal.predict(x_test)\n",
        "print(confusion_matrix(y_test, y_pred))\n",
        "\n",
        "# Print the precision and recall, among other metrics\n",
        "print(classification_report(y_test, y_pred, digits=4))"
      ],
      "metadata": {
        "colab": {
          "base_uri": "https://localhost:8080/"
        },
        "id": "mYLLXFwKYD2v",
        "outputId": "db5b7420-04e7-4de8-f1b6-17283be91f99"
      },
      "execution_count": null,
      "outputs": [
        {
          "output_type": "stream",
          "name": "stdout",
          "text": [
            "[[40 15  4 12]\n",
            " [ 3  5  1  0]\n",
            " [ 2  3  0  1]\n",
            " [ 0  1  0  3]]\n",
            "              precision    recall  f1-score   support\n",
            "\n",
            "           0     0.8889    0.5634    0.6897        71\n",
            "           1     0.2083    0.5556    0.3030         9\n",
            "           2     0.0000    0.0000    0.0000         6\n",
            "           3     0.1875    0.7500    0.3000         4\n",
            "\n",
            "    accuracy                         0.5333        90\n",
            "   macro avg     0.3212    0.4672    0.3232        90\n",
            "weighted avg     0.7304    0.5333    0.5877        90\n",
            "\n"
          ]
        }
      ]
    },
    {
      "cell_type": "code",
      "source": [
        "y_pred= mdl_svm_ove.predict(x_test)\n",
        "print(confusion_matrix(y_test, y_pred))\n",
        "\n",
        "# Print the precision and recall, among other metrics\n",
        "print(classification_report(y_test, y_pred, digits=4))"
      ],
      "metadata": {
        "colab": {
          "base_uri": "https://localhost:8080/"
        },
        "outputId": "23ac060b-dfc0-4488-cd7d-f407540b11c6",
        "id": "eLZgh1bl10-z"
      },
      "execution_count": null,
      "outputs": [
        {
          "output_type": "stream",
          "name": "stdout",
          "text": [
            "[[61  2  4  4]\n",
            " [ 4  2  2  1]\n",
            " [ 2  1  1  2]\n",
            " [ 2  0  0  2]]\n",
            "              precision    recall  f1-score   support\n",
            "\n",
            "           0     0.8841    0.8592    0.8714        71\n",
            "           1     0.4000    0.2222    0.2857         9\n",
            "           2     0.1429    0.1667    0.1538         6\n",
            "           3     0.2222    0.5000    0.3077         4\n",
            "\n",
            "    accuracy                         0.7333        90\n",
            "   macro avg     0.4123    0.4370    0.4047        90\n",
            "weighted avg     0.7568    0.7333    0.7400        90\n",
            "\n"
          ]
        }
      ]
    },
    {
      "cell_type": "code",
      "source": [
        "y_pred= mdl_svm_bal.predict(x_test)\n",
        "print(confusion_matrix(y_test, y_pred))\n",
        "\n",
        "# Print the precision and recall, among other metrics\n",
        "print(classification_report(y_test, y_pred, digits=4))"
      ],
      "metadata": {
        "colab": {
          "base_uri": "https://localhost:8080/"
        },
        "id": "QjNr-EjdYcWv",
        "outputId": "22e701d0-7365-4137-ebf2-8fca765f6236"
      },
      "execution_count": null,
      "outputs": [
        {
          "output_type": "stream",
          "name": "stdout",
          "text": [
            "[[47 11  6  7]\n",
            " [ 3  3  2  1]\n",
            " [ 0  4  1  1]\n",
            " [ 0  1  1  2]]\n",
            "              precision    recall  f1-score   support\n",
            "\n",
            "           0     0.9400    0.6620    0.7769        71\n",
            "           1     0.1579    0.3333    0.2143         9\n",
            "           2     0.1000    0.1667    0.1250         6\n",
            "           3     0.1818    0.5000    0.2667         4\n",
            "\n",
            "    accuracy                         0.5889        90\n",
            "   macro avg     0.3449    0.4155    0.3457        90\n",
            "weighted avg     0.7721    0.5889    0.6545        90\n",
            "\n"
          ]
        }
      ]
    },
    {
      "cell_type": "code",
      "source": [
        "y_pred= mdl_xgb_ove.predict(x_test)\n",
        "print(confusion_matrix(y_test, y_pred))\n",
        "\n",
        "# Print the precision and recall, among other metrics\n",
        "print(classification_report(y_test, y_pred, digits=4))"
      ],
      "metadata": {
        "colab": {
          "base_uri": "https://localhost:8080/"
        },
        "outputId": "5bd4839f-de9f-48e9-9236-016c3b4a3ccc",
        "id": "NuNwt-ih2IqK"
      },
      "execution_count": null,
      "outputs": [
        {
          "output_type": "stream",
          "name": "stdout",
          "text": [
            "[[67  1  2  1]\n",
            " [ 8  1  0  0]\n",
            " [ 2  3  0  1]\n",
            " [ 0  0  2  2]]\n",
            "              precision    recall  f1-score   support\n",
            "\n",
            "           0     0.8701    0.9437    0.9054        71\n",
            "           1     0.2000    0.1111    0.1429         9\n",
            "           2     0.0000    0.0000    0.0000         6\n",
            "           3     0.5000    0.5000    0.5000         4\n",
            "\n",
            "    accuracy                         0.7778        90\n",
            "   macro avg     0.3925    0.3887    0.3871        90\n",
            "weighted avg     0.7287    0.7778    0.7508        90\n",
            "\n"
          ]
        }
      ]
    },
    {
      "cell_type": "code",
      "source": [
        "y_pred= mdl_xgb_bal.predict(x_test)\n",
        "print(confusion_matrix(y_test, y_pred))\n",
        "\n",
        "# Print the precision and recall, among other metrics\n",
        "print(classification_report(y_test, y_pred, digits=4))"
      ],
      "metadata": {
        "colab": {
          "base_uri": "https://localhost:8080/"
        },
        "id": "DQFvCFFUYp2l",
        "outputId": "5972a698-6da1-4862-e453-c88151e04eed"
      },
      "execution_count": null,
      "outputs": [
        {
          "output_type": "stream",
          "name": "stdout",
          "text": [
            "[[69  1  0  1]\n",
            " [ 8  1  0  0]\n",
            " [ 2  2  2  0]\n",
            " [ 3  0  1  0]]\n",
            "              precision    recall  f1-score   support\n",
            "\n",
            "           0     0.8415    0.9718    0.9020        71\n",
            "           1     0.2500    0.1111    0.1538         9\n",
            "           2     0.6667    0.3333    0.4444         6\n",
            "           3     0.0000    0.0000    0.0000         4\n",
            "\n",
            "    accuracy                         0.8000        90\n",
            "   macro avg     0.4395    0.3541    0.3751        90\n",
            "weighted avg     0.7333    0.8000    0.7566        90\n",
            "\n"
          ]
        }
      ]
    },
    {
      "cell_type": "code",
      "source": [
        "y_pred= mdl_bst_ove.predict(x_test)\n",
        "print(confusion_matrix(y_test, y_pred))\n",
        "\n",
        "# Print the precision and recall, among other metrics\n",
        "print(classification_report(y_test, y_pred, digits=4))"
      ],
      "metadata": {
        "colab": {
          "base_uri": "https://localhost:8080/"
        },
        "id": "llEwjCe1Y7Hf",
        "outputId": "d1b417b0-51c2-481c-f592-ba27dce84f6a"
      },
      "execution_count": null,
      "outputs": [
        {
          "output_type": "stream",
          "name": "stdout",
          "text": [
            "[[68  1  0  2]\n",
            " [ 7  2  0  0]\n",
            " [ 4  1  1  0]\n",
            " [ 0  0  3  1]]\n",
            "              precision    recall  f1-score   support\n",
            "\n",
            "           0     0.8608    0.9577    0.9067        71\n",
            "           1     0.5000    0.2222    0.3077         9\n",
            "           2     0.2500    0.1667    0.2000         6\n",
            "           3     0.3333    0.2500    0.2857         4\n",
            "\n",
            "    accuracy                         0.8000        90\n",
            "   macro avg     0.4860    0.3992    0.4250        90\n",
            "weighted avg     0.7605    0.8000    0.7721        90\n",
            "\n"
          ]
        }
      ]
    },
    {
      "cell_type": "code",
      "source": [
        "y_pred= mdl_bst_bal.predict(x_test)\n",
        "print(confusion_matrix(y_test, y_pred))\n",
        "\n",
        "# Print the precision and recall, among other metrics\n",
        "print(classification_report(y_test, y_pred, digits=4))"
      ],
      "metadata": {
        "id": "-gouuumTZKFn",
        "outputId": "728c748f-acc1-42ad-e56e-ac5f4d22e441",
        "colab": {
          "base_uri": "https://localhost:8080/"
        }
      },
      "execution_count": null,
      "outputs": [
        {
          "output_type": "stream",
          "name": "stdout",
          "text": [
            "[[71  0  0  0]\n",
            " [ 8  1  0  0]\n",
            " [ 3  2  0  1]\n",
            " [ 1  0  3  0]]\n",
            "              precision    recall  f1-score   support\n",
            "\n",
            "           0     0.8554    1.0000    0.9221        71\n",
            "           1     0.3333    0.1111    0.1667         9\n",
            "           2     0.0000    0.0000    0.0000         6\n",
            "           3     0.0000    0.0000    0.0000         4\n",
            "\n",
            "    accuracy                         0.8000        90\n",
            "   macro avg     0.2972    0.2778    0.2722        90\n",
            "weighted avg     0.7082    0.8000    0.7441        90\n",
            "\n"
          ]
        }
      ]
    },
    {
      "cell_type": "code",
      "source": [
        "def bootstrap_resampling(x_test, y_test, rs_number, sample_size):\n",
        "    # Generate X sample\n",
        "    bootstrap_x = resample(x_test, replace=True, n_samples=sample_size, random_state=rs_number)\n",
        "    # Get index for X to get Y value\n",
        "    bootstrap_y = y_test.loc[bootstrap_x.index]\n",
        "    # Return\n",
        "    return bootstrap_x, bootstrap_y"
      ],
      "metadata": {
        "id": "XY-VaF8FQlJy"
      },
      "execution_count": null,
      "outputs": []
    },
    {
      "cell_type": "code",
      "source": [
        "def bootstrap_confidence_interval(values):\n",
        "    percents = np.percentile(values, [2.5, 97.5])\n",
        "    lower_bound = round(max(0.0, percents[0]), 3)\n",
        "    upper_bound = round(min(1.0, percents[1]), 3)\n",
        "    mean_value = round(np.mean(values), 3)\n",
        "    return (lower_bound, mean_value, upper_bound)"
      ],
      "metadata": {
        "id": "bwdZhgC7Qp1Z"
      },
      "execution_count": null,
      "outputs": []
    }
  ]
}