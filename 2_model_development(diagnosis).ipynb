{
  "cells": [
    {
      "cell_type": "markdown",
      "metadata": {
        "id": "uI1Ngs21cW4i"
      },
      "source": [
        "# Models Development(diagnosis)\n",
        "by: masood janbackloo\n",
        "\n",
        "## Steps\n",
        "- Importing Data\n",
        "- Train Test Split \n",
        "- Oversampling\n",
        "- Transforming data\n",
        "- Auxiliar functions\n",
        "- Hyper parameters optimization\n",
        "- Dummy Classifier\n",
        "- Backtest creation\n",
        "- Exporting all results/models from here\n",
        "\n",
        "\n",
        "## Modules"
      ]
    },
    {
      "cell_type": "code",
      "execution_count": null,
      "metadata": {
        "id": "BzcYE7SQcW4n"
      },
      "outputs": [],
      "source": [
        "# Standard modules\n",
        "from time import sleep\n",
        "import warnings\n",
        "import numpy as np\n",
        "import pandas as pd\n",
        "warnings.filterwarnings('ignore')\n",
        "\n",
        "# Graphical modules\n",
        "import matplotlib.pyplot as plt\n",
        "import seaborn as sns\n",
        "%matplotlib inline\n",
        "\n",
        "# Preparation\n",
        "from sklearn.preprocessing import MinMaxScaler\n",
        "from sklearn.model_selection import train_test_split\n",
        "from imblearn.over_sampling import SMOTE\n",
        "\n",
        "# Workaround for skopt with sklearn==0.23.1\n",
        "from numpy.ma import MaskedArray\n",
        "import sklearn.utils.fixes\n",
        "sklearn.utils.fixes.MaskedArray = MaskedArray\n",
        "\n",
        "# Development\n",
        "from skopt import BayesSearchCV\n",
        "from skopt.space import Real, Categorical, Integer\n",
        "from sklearn.model_selection import RandomizedSearchCV, GridSearchCV, StratifiedKFold\n",
        "from sklearn.svm import SVC\n",
        "from sklearn.dummy import DummyClassifier\n",
        "from sklearn.ensemble import RandomForestClassifier\n",
        "from sklearn.linear_model import LogisticRegression\n",
        "import xgboost as XGBoost\n",
        "from xgboost.sklearn import XGBClassifier\n",
        "from sklearn.ensemble import GradientBoostingClassifier\n",
        "\n",
        "# Evaluation\n",
        "from scipy import stats\n",
        "from sklearn.metrics import classification_report, confusion_matrix, accuracy_score, f1_score, recall_score, precision_score\n",
        "\n",
        "# Export\n",
        "import joblib"
      ]
    },
    {
      "cell_type": "code",
      "source": [
        "!pip install scikit-optimize"
      ],
      "metadata": {
        "colab": {
          "base_uri": "https://localhost:8080/"
        },
        "id": "Qq8sx8yFd7RE",
        "outputId": "ce10cae7-be8e-483d-cb24-b9550450ef78"
      },
      "execution_count": null,
      "outputs": [
        {
          "output_type": "stream",
          "name": "stdout",
          "text": [
            "Looking in indexes: https://pypi.org/simple, https://us-python.pkg.dev/colab-wheels/public/simple/\n",
            "Collecting scikit-optimize\n",
            "  Downloading scikit_optimize-0.9.0-py2.py3-none-any.whl (100 kB)\n",
            "\u001b[K     |████████████████████████████████| 100 kB 3.4 MB/s \n",
            "\u001b[?25hRequirement already satisfied: scikit-learn>=0.20.0 in /usr/local/lib/python3.7/dist-packages (from scikit-optimize) (1.0.2)\n",
            "Requirement already satisfied: joblib>=0.11 in /usr/local/lib/python3.7/dist-packages (from scikit-optimize) (1.1.0)\n",
            "Requirement already satisfied: numpy>=1.13.3 in /usr/local/lib/python3.7/dist-packages (from scikit-optimize) (1.21.6)\n",
            "Requirement already satisfied: scipy>=0.19.1 in /usr/local/lib/python3.7/dist-packages (from scikit-optimize) (1.5.4)\n",
            "Collecting pyaml>=16.9\n",
            "  Downloading pyaml-21.10.1-py2.py3-none-any.whl (24 kB)\n",
            "Requirement already satisfied: PyYAML in /usr/local/lib/python3.7/dist-packages (from pyaml>=16.9->scikit-optimize) (3.13)\n",
            "Requirement already satisfied: threadpoolctl>=2.0.0 in /usr/local/lib/python3.7/dist-packages (from scikit-learn>=0.20.0->scikit-optimize) (3.1.0)\n",
            "Installing collected packages: pyaml, scikit-optimize\n",
            "Successfully installed pyaml-21.10.1 scikit-optimize-0.9.0\n"
          ]
        }
      ]
    },
    {
      "cell_type": "markdown",
      "metadata": {
        "id": "O0vNgCQvcW4s"
      },
      "source": [
        "# Importing Data"
      ]
    },
    {
      "cell_type": "code",
      "execution_count": null,
      "metadata": {
        "id": "MiEIe_3McW4v"
      },
      "outputs": [],
      "source": [
        "# Dataset\n",
        "df = pd.read_csv('paper_dataset.csv')"
      ]
    },
    {
      "cell_type": "code",
      "source": [
        "df.info()"
      ],
      "metadata": {
        "colab": {
          "base_uri": "https://localhost:8080/"
        },
        "id": "DDFLen_feUXL",
        "outputId": "d7c454b7-1e52-400a-a3a9-db594f43f6c1"
      },
      "execution_count": null,
      "outputs": [
        {
          "output_type": "stream",
          "name": "stdout",
          "text": [
            "<class 'pandas.core.frame.DataFrame'>\n",
            "RangeIndex: 598 entries, 0 to 597\n",
            "Data columns (total 15 columns):\n",
            " #   Column                         Non-Null Count  Dtype  \n",
            "---  ------                         --------------  -----  \n",
            " 0   COVID-19 Exam result           598 non-null    int64  \n",
            " 1   Patient admission              598 non-null    int64  \n",
            " 2   Patient age quantile           598 non-null    int64  \n",
            " 3   Basophils                      598 non-null    float64\n",
            " 4   Eosinophils                    598 non-null    float64\n",
            " 5   Hemoglobin                     598 non-null    float64\n",
            " 6   Leukocytes                     598 non-null    float64\n",
            " 7   Lymphocytes                    598 non-null    float64\n",
            " 8   MCHC                           598 non-null    float64\n",
            " 9   MCV                            598 non-null    float64\n",
            " 10  MPV                            598 non-null    float64\n",
            " 11  Monocytes                      598 non-null    float64\n",
            " 12  Platelets                      598 non-null    float64\n",
            " 13  RDW                            598 non-null    float64\n",
            " 14  Respiratory Disease detection  598 non-null    int64  \n",
            "dtypes: float64(11), int64(4)\n",
            "memory usage: 70.2 KB\n"
          ]
        }
      ]
    },
    {
      "cell_type": "markdown",
      "metadata": {
        "id": "wH48-GawcW4x"
      },
      "source": [
        "# Train Test Split"
      ]
    },
    {
      "cell_type": "code",
      "execution_count": null,
      "metadata": {
        "id": "Xdu5WxpncW4y"
      },
      "outputs": [],
      "source": [
        "# Define X and Y\n",
        "features = ['Patient age quantile','Basophils', 'Eosinophils','Hemoglobin', 'Leukocytes', 'Lymphocytes','MCHC','MCV','MPV',\n",
        "            'Monocytes', 'Platelets', 'RDW']\n",
        "# Get X and Y\n",
        "x = df[features]\n",
        "y = df['COVID-19 Exam result']"
      ]
    },
    {
      "cell_type": "code",
      "execution_count": null,
      "metadata": {
        "id": "iNnHjZE1cW4z"
      },
      "outputs": [],
      "source": [
        "# Split\n",
        "x_train, x_test, y_train, y_test = train_test_split(x, y, test_size = 0.15, random_state = 101, stratify=y)"
      ]
    },
    {
      "cell_type": "code",
      "execution_count": null,
      "metadata": {
        "id": "b7x1sfDacW40",
        "outputId": "9e748f16-a2ae-4866-a534-b212c2526ec1",
        "colab": {
          "base_uri": "https://localhost:8080/"
        }
      },
      "outputs": [
        {
          "output_type": "execute_result",
          "data": {
            "text/plain": [
              "0    0.864173\n",
              "1    0.135827\n",
              "Name: COVID-19 Exam result, dtype: float64"
            ]
          },
          "metadata": {},
          "execution_count": 7
        }
      ],
      "source": [
        "# % of target class in train set\n",
        "pd.Series(y_train).value_counts()/len(y_train)"
      ]
    },
    {
      "cell_type": "code",
      "execution_count": null,
      "metadata": {
        "colab": {
          "base_uri": "https://localhost:8080/"
        },
        "id": "3bPlbTUlcW42",
        "outputId": "919b44ab-fad1-487e-bb33-877d430b0324"
      },
      "outputs": [
        {
          "output_type": "execute_result",
          "data": {
            "text/plain": [
              "0    439\n",
              "1     69\n",
              "Name: COVID-19 Exam result, dtype: int64"
            ]
          },
          "metadata": {},
          "execution_count": 8
        }
      ],
      "source": [
        "# target class in train set\n",
        "pd.Series(y_train).value_counts()"
      ]
    },
    {
      "cell_type": "code",
      "execution_count": null,
      "metadata": {
        "id": "iEWmrHXYcW43",
        "outputId": "dbdd61c7-0347-429c-db44-c58ab56a8854",
        "colab": {
          "base_uri": "https://localhost:8080/"
        }
      },
      "outputs": [
        {
          "output_type": "execute_result",
          "data": {
            "text/plain": [
              "0    0.866667\n",
              "1    0.133333\n",
              "Name: COVID-19 Exam result, dtype: float64"
            ]
          },
          "metadata": {},
          "execution_count": 9
        }
      ],
      "source": [
        "# % of target class in test set\n",
        "y_test.value_counts()/len(y_test)"
      ]
    },
    {
      "cell_type": "code",
      "execution_count": null,
      "metadata": {
        "colab": {
          "base_uri": "https://localhost:8080/"
        },
        "id": "BgVIwx8mcW44",
        "outputId": "fc4a6df0-e47c-440b-9d3c-4cfa3e53339f"
      },
      "outputs": [
        {
          "output_type": "execute_result",
          "data": {
            "text/plain": [
              "0    78\n",
              "1    12\n",
              "Name: COVID-19 Exam result, dtype: int64"
            ]
          },
          "metadata": {},
          "execution_count": 10
        }
      ],
      "source": [
        "# target class in test set\n",
        "y_test.value_counts()"
      ]
    },
    {
      "cell_type": "markdown",
      "metadata": {
        "id": "AmSRo7dJcW45"
      },
      "source": [
        "# Oversampling\n",
        "Basically balance our data creating new synth samples for positive cases, using **default parameters**, i.e. `k` equals to 5."
      ]
    },
    {
      "cell_type": "code",
      "execution_count": null,
      "metadata": {
        "id": "lbcxHHnocW46"
      },
      "outputs": [],
      "source": [
        "# create SMOTE object\n",
        "smt = SMOTE(random_state=1206)\n",
        "\n",
        "# Do the process\n",
        "x_train_smt, y_train_smt = smt.fit_resample(x_train, y_train)"
      ]
    },
    {
      "cell_type": "markdown",
      "metadata": {
        "id": "_sl0nHwtcW47"
      },
      "source": [
        "## Numerical Distribution for synthetic Cases"
      ]
    },
    {
      "cell_type": "code",
      "execution_count": null,
      "metadata": {
        "id": "5qqHSQPtcW48"
      },
      "outputs": [],
      "source": [
        ",# Get copy of created samples\n",
        "synth_samples_y = y_train_smt.copy()\n",
        "# Create a new category for synth samples\n",
        "synth_samples_y[len(y_train):] = 2\n",
        "# Create a dataframe using oversampled data\n",
        "df_synth = x_train_smt.copy()\n",
        "df_synth['target'] = synth_samples_y\n",
        "# Get slices for positive cases and synth positive cases\n",
        "target_1 = df_synth[df_synth['target'] == 1]\n",
        "target_2 = df_synth[df_synth['target'] == 2]"
      ]
    },
    {
      "cell_type": "code",
      "execution_count": null,
      "metadata": {
        "id": "AdMFViLqcW49",
        "outputId": "e5750cd2-44d1-42e0-e8aa-1af9dbf9ef31",
        "colab": {
          "base_uri": "https://localhost:8080/",
          "height": 729
        }
      },
      "outputs": [
        {
          "output_type": "display_data",
          "data": {
            "text/plain": [
              "<Figure size 1080x720 with 12 Axes>"
            ],
            "image/png": "[encoded data removed]"
          },
          "metadata": {
            "needs_background": "light"
          }
        }
      ],
      "source": [
        "# PLOT - KDE Dist plots\n",
        "fig, axes = plt.subplots(nrows=6, ncols=2, figsize=(15,10))\n",
        "r = 0      # Index row\n",
        "c = 0      # Index col\n",
        "\n",
        "num_features = ['Basophils', 'Basophils', 'Eosinophils','Hemoglobin', 'Leukocytes', 'Lymphocytes','MCHC','MCV','MPV',\n",
        "                'Monocytes', 'Platelets', 'RDW']\n",
        "\n",
        "for f in num_features:\n",
        "    # Plot distribuição\n",
        "    sns.kdeplot(list(target_1[f]), shade=True, color='#F06C61', ax=axes[r][c], label='Positive')\n",
        "    sns.kdeplot(list(target_2[f]), shade=True, color='Green', ax=axes[r][c], label='Synth Positive')\n",
        "    # Plot configs\n",
        "    axes[r][c].legend(title='COVID-19 Exams', loc='upper right')\n",
        "    axes[r][c].set_title('Variable - ' + f)\n",
        "    # Index control\n",
        "    c += 1\n",
        "    if c > 1:\n",
        "        c = 0\n",
        "        r += 1\n",
        "\n",
        "plt.tight_layout()"
      ]
    },
    {
      "cell_type": "markdown",
      "metadata": {
        "id": "7Hc87_9GcW4-"
      },
      "source": [
        "## New correlation heatmap with synth features"
      ]
    },
    {
      "cell_type": "code",
      "execution_count": null,
      "metadata": {
        "id": "hCqD1gNScW4_",
        "outputId": "6119611c-6a3e-415c-aa69-e32566f876a0",
        "colab": {
          "base_uri": "https://localhost:8080/",
          "height": 1000
        }
      },
      "outputs": [
        {
          "output_type": "display_data",
          "data": {
            "text/plain": [
              "<Figure size 1440x1280 with 2 Axes>"
            ],
            "image/png": "[encoded data removed]"
          },
          "metadata": {}
        }
      ],
      "source": [
        "# Correlation calculation\n",
        "spearman_corr = df_synth[num_features].corr('spearman')\n",
        "matrix = np.triu(spearman_corr)\n",
        "\n",
        "# Plot\n",
        "plt.figure(figsize=(18, 16), dpi= 80, facecolor='w', edgecolor='k')\n",
        "sns.heatmap(spearman_corr, annot = True, mask=matrix)\n",
        "plt.tight_layout()"
      ]
    },
    {
      "cell_type": "markdown",
      "metadata": {
        "id": "dmBy2TXKcW5A"
      },
      "source": [
        "### Commentary\n",
        "SMOTE increases some correlations, but not high enough ( > 0.8) to give any danger."
      ]
    },
    {
      "cell_type": "code",
      "execution_count": null,
      "metadata": {
        "id": "BS5zaT1dcW5A",
        "outputId": "81bbc9c9-5c33-44bf-e7b1-a0c55750dbcf",
        "colab": {
          "base_uri": "https://localhost:8080/"
        }
      },
      "outputs": [
        {
          "output_type": "execute_result",
          "data": {
            "text/plain": [
              "[0, 1, 2, 3, 4, 5, 6, 7, 8, 9, 10, 11, 12, 13, 14, 15, 16, 17, 18, 19]"
            ]
          },
          "metadata": {},
          "execution_count": 15
        }
      ],
      "source": [
        "sorted(list(pd.unique(x_train_smt['Patient age quantile'])))"
      ]
    },
    {
      "cell_type": "markdown",
      "metadata": {
        "id": "L2OHap8OcW5B"
      },
      "source": [
        "# Transforming data\n",
        "\n",
        "Apply `MinMaxScaler` for **Patient age quantile** to reduce the scale difference between this variable and the numerical features\n",
        "\n",
        "## See expected results\n",
        "\n",
        "It's known that maximum is 19 and minimum is 0"
      ]
    },
    {
      "cell_type": "code",
      "execution_count": null,
      "metadata": {
        "id": "A2igxRtlcW5B",
        "outputId": "cf3d173b-5587-426b-9088-03825165c5d4",
        "colab": {
          "base_uri": "https://localhost:8080/"
        }
      },
      "outputs": [
        {
          "output_type": "stream",
          "name": "stdout",
          "text": [
            "0 -> 0.0\n",
            "1 -> 0.052632\n",
            "2 -> 0.105263\n",
            "3 -> 0.157895\n",
            "4 -> 0.210526\n",
            "5 -> 0.263158\n",
            "6 -> 0.315789\n",
            "7 -> 0.368421\n",
            "8 -> 0.421053\n",
            "9 -> 0.473684\n",
            "10 -> 0.526316\n",
            "11 -> 0.578947\n",
            "12 -> 0.631579\n",
            "13 -> 0.684211\n",
            "14 -> 0.736842\n",
            "15 -> 0.789474\n",
            "16 -> 0.842105\n",
            "17 -> 0.894737\n",
            "18 -> 0.947368\n",
            "19 -> 1.0\n"
          ]
        }
      ],
      "source": [
        "age_origin = sorted(list(pd.unique(x_train['Patient age quantile'])))\n",
        "age_transf = sorted(list(pd.unique(x_train['Patient age quantile'])/19))\n",
        "for origin, transf in zip(age_origin, age_transf):\n",
        "    print(origin, '->', round(transf,6))"
      ]
    },
    {
      "cell_type": "markdown",
      "metadata": {
        "id": "r2gpjO0AcW5B"
      },
      "source": [
        "## Apply Transformation"
      ]
    },
    {
      "cell_type": "code",
      "execution_count": null,
      "metadata": {
        "id": "VLsR0NPzcW5B"
      },
      "outputs": [],
      "source": [
        "# Define instance and fit in train set\n",
        "mms = MinMaxScaler().fit(np.array(x_train['Patient age quantile']).reshape(-1, 1))"
      ]
    },
    {
      "cell_type": "code",
      "execution_count": null,
      "metadata": {
        "id": "20wOMoEYcW5C"
      },
      "outputs": [],
      "source": [
        "# Apply transformation x train\n",
        "x_train['Patient age quantile'] = mms.transform(np.array(x_train['Patient age quantile']).reshape(-1, 1)).round(6)\n",
        "# Apply transformation x test\n",
        "x_test['Patient age quantile'] = mms.transform(np.array(x_test['Patient age quantile']).reshape(-1, 1)).round(6)\n",
        "# Apply transformation x train with SMOTE\n",
        "x_train_smt['Patient age quantile'] = mms.transform(np.array(x_train_smt['Patient age quantile']).reshape(-1, 1)).round(6)\n",
        "# Apply transformation df\n",
        "df['Patient age quantile'] = mms.transform(np.array(df['Patient age quantile']).reshape(-1, 1)).round(6)"
      ]
    },
    {
      "cell_type": "code",
      "source": [
        "x_train.head()"
      ],
      "metadata": {
        "colab": {
          "base_uri": "https://localhost:8080/",
          "height": 206
        },
        "id": "tpKUWE_7Pkrk",
        "outputId": "5b098241-f5bd-4715-8a87-a09690d5d02c"
      },
      "execution_count": null,
      "outputs": [
        {
          "output_type": "execute_result",
          "data": {
            "text/plain": [
              "     Patient age quantile  Basophils  Eosinophils  Hemoglobin  Leukocytes  \\\n",
              "371              0.473684  -0.529226    -0.203417   -0.460932    0.178103   \n",
              "586              0.368421  -1.140144     0.428674   -1.588740   -0.509246   \n",
              "28               0.789474  -1.140144    -0.835508   -0.460932   -1.138157   \n",
              "162              0.684211   0.692611     0.133698   -0.836868   -0.909968   \n",
              "293              0.210526  -0.529226    -0.793368   -1.651396    0.155841   \n",
              "\n",
              "     Lymphocytes      MCHC       MCV       MPV  Monocytes  Platelets       RDW  \n",
              "371     0.625411 -0.054585  0.386517 -0.550290  -0.456613   1.844207 -0.536617  \n",
              "586     0.437772 -1.349101 -0.594931 -2.120995   0.830284   1.668342  0.171035  \n",
              "28     -0.671003 -0.154166  0.807138  1.132609  -0.220244  -0.542537 -0.005877  \n",
              "162     1.307735  0.044991  0.046015 -1.447836  -0.430350   0.286543 -0.182790  \n",
              "293    -0.116616  1.339507  0.967375 -1.223449   1.355549   1.366858 -0.005877  "
            ],
            "text/html": [
              "\n",
              "  <div id=\"df-23481e1f-f0ca-4b39-871f-659272986521\">\n",
              "    <div class=\"colab-df-container\">\n",
              "      <div>\n",
              "<style scoped>\n",
              "    .dataframe tbody tr th:only-of-type {\n",
              "        vertical-align: middle;\n",
              "    }\n",
              "\n",
              "    .dataframe tbody tr th {\n",
              "        vertical-align: top;\n",
              "    }\n",
              "\n",
              "    .dataframe thead th {\n",
              "        text-align: right;\n",
              "    }\n",
              "</style>\n",
              "<table border=\"1\" class=\"dataframe\">\n",
              "  <thead>\n",
              "    <tr style=\"text-align: right;\">\n",
              "      <th></th>\n",
              "      <th>Patient age quantile</th>\n",
              "      <th>Basophils</th>\n",
              "      <th>Eosinophils</th>\n",
              "      <th>Hemoglobin</th>\n",
              "      <th>Leukocytes</th>\n",
              "      <th>Lymphocytes</th>\n",
              "      <th>MCHC</th>\n",
              "      <th>MCV</th>\n",
              "      <th>MPV</th>\n",
              "      <th>Monocytes</th>\n",
              "      <th>Platelets</th>\n",
              "      <th>RDW</th>\n",
              "    </tr>\n",
              "  </thead>\n",
              "  <tbody>\n",
              "    <tr>\n",
              "      <th>371</th>\n",
              "      <td>0.473684</td>\n",
              "      <td>-0.529226</td>\n",
              "      <td>-0.203417</td>\n",
              "      <td>-0.460932</td>\n",
              "      <td>0.178103</td>\n",
              "      <td>0.625411</td>\n",
              "      <td>-0.054585</td>\n",
              "      <td>0.386517</td>\n",
              "      <td>-0.550290</td>\n",
              "      <td>-0.456613</td>\n",
              "      <td>1.844207</td>\n",
              "      <td>-0.536617</td>\n",
              "    </tr>\n",
              "    <tr>\n",
              "      <th>586</th>\n",
              "      <td>0.368421</td>\n",
              "      <td>-1.140144</td>\n",
              "      <td>0.428674</td>\n",
              "      <td>-1.588740</td>\n",
              "      <td>-0.509246</td>\n",
              "      <td>0.437772</td>\n",
              "      <td>-1.349101</td>\n",
              "      <td>-0.594931</td>\n",
              "      <td>-2.120995</td>\n",
              "      <td>0.830284</td>\n",
              "      <td>1.668342</td>\n",
              "      <td>0.171035</td>\n",
              "    </tr>\n",
              "    <tr>\n",
              "      <th>28</th>\n",
              "      <td>0.789474</td>\n",
              "      <td>-1.140144</td>\n",
              "      <td>-0.835508</td>\n",
              "      <td>-0.460932</td>\n",
              "      <td>-1.138157</td>\n",
              "      <td>-0.671003</td>\n",
              "      <td>-0.154166</td>\n",
              "      <td>0.807138</td>\n",
              "      <td>1.132609</td>\n",
              "      <td>-0.220244</td>\n",
              "      <td>-0.542537</td>\n",
              "      <td>-0.005877</td>\n",
              "    </tr>\n",
              "    <tr>\n",
              "      <th>162</th>\n",
              "      <td>0.684211</td>\n",
              "      <td>0.692611</td>\n",
              "      <td>0.133698</td>\n",
              "      <td>-0.836868</td>\n",
              "      <td>-0.909968</td>\n",
              "      <td>1.307735</td>\n",
              "      <td>0.044991</td>\n",
              "      <td>0.046015</td>\n",
              "      <td>-1.447836</td>\n",
              "      <td>-0.430350</td>\n",
              "      <td>0.286543</td>\n",
              "      <td>-0.182790</td>\n",
              "    </tr>\n",
              "    <tr>\n",
              "      <th>293</th>\n",
              "      <td>0.210526</td>\n",
              "      <td>-0.529226</td>\n",
              "      <td>-0.793368</td>\n",
              "      <td>-1.651396</td>\n",
              "      <td>0.155841</td>\n",
              "      <td>-0.116616</td>\n",
              "      <td>1.339507</td>\n",
              "      <td>0.967375</td>\n",
              "      <td>-1.223449</td>\n",
              "      <td>1.355549</td>\n",
              "      <td>1.366858</td>\n",
              "      <td>-0.005877</td>\n",
              "    </tr>\n",
              "  </tbody>\n",
              "</table>\n",
              "</div>\n",
              "      <button class=\"colab-df-convert\" onclick=\"convertToInteractive('df-23481e1f-f0ca-4b39-871f-659272986521')\"\n",
              "              title=\"Convert this dataframe to an interactive table.\"\n",
              "              style=\"display:none;\">\n",
              "        \n",
              "  <svg xmlns=\"http://www.w3.org/2000/svg\" height=\"24px\"viewBox=\"0 0 24 24\"\n",
              "       width=\"24px\">\n",
              "    <path d=\"M0 0h24v24H0V0z\" fill=\"none\"/>\n",
              "    <path d=\"M18.56 5.44l.94 2.06.94-2.06 2.06-.94-2.06-.94-.94-2.06-.94 2.06-2.06.94zm-11 1L8.5 8.5l.94-2.06 2.06-.94-2.06-.94L8.5 2.5l-.94 2.06-2.06.94zm10 10l.94 2.06.94-2.06 2.06-.94-2.06-.94-.94-2.06-.94 2.06-2.06.94z\"/><path d=\"M17.41 7.96l-1.37-1.37c-.4-.4-.92-.59-1.43-.59-.52 0-1.04.2-1.43.59L10.3 9.45l-7.72 7.72c-.78.78-.78 2.05 0 2.83L4 21.41c.39.39.9.59 1.41.59.51 0 1.02-.2 1.41-.59l7.78-7.78 2.81-2.81c.8-.78.8-2.07 0-2.86zM5.41 20L4 18.59l7.72-7.72 1.47 1.35L5.41 20z\"/>\n",
              "  </svg>\n",
              "      </button>\n",
              "      \n",
              "  <style>\n",
              "    .colab-df-container {\n",
              "      display:flex;\n",
              "      flex-wrap:wrap;\n",
              "      gap: 12px;\n",
              "    }\n",
              "\n",
              "    .colab-df-convert {\n",
              "      background-color: #E8F0FE;\n",
              "      border: none;\n",
              "      border-radius: 50%;\n",
              "      cursor: pointer;\n",
              "      display: none;\n",
              "      fill: #1967D2;\n",
              "      height: 32px;\n",
              "      padding: 0 0 0 0;\n",
              "      width: 32px;\n",
              "    }\n",
              "\n",
              "    .colab-df-convert:hover {\n",
              "      background-color: #E2EBFA;\n",
              "      box-shadow: 0px 1px 2px rgba(60, 64, 67, 0.3), 0px 1px 3px 1px rgba(60, 64, 67, 0.15);\n",
              "      fill: #174EA6;\n",
              "    }\n",
              "\n",
              "    [theme=dark] .colab-df-convert {\n",
              "      background-color: #3B4455;\n",
              "      fill: #D2E3FC;\n",
              "    }\n",
              "\n",
              "    [theme=dark] .colab-df-convert:hover {\n",
              "      background-color: #434B5C;\n",
              "      box-shadow: 0px 1px 3px 1px rgba(0, 0, 0, 0.15);\n",
              "      filter: drop-shadow(0px 1px 2px rgba(0, 0, 0, 0.3));\n",
              "      fill: #FFFFFF;\n",
              "    }\n",
              "  </style>\n",
              "\n",
              "      <script>\n",
              "        const buttonEl =\n",
              "          document.querySelector('#df-23481e1f-f0ca-4b39-871f-659272986521 button.colab-df-convert');\n",
              "        buttonEl.style.display =\n",
              "          google.colab.kernel.accessAllowed ? 'block' : 'none';\n",
              "\n",
              "        async function convertToInteractive(key) {\n",
              "          const element = document.querySelector('#df-23481e1f-f0ca-4b39-871f-659272986521');\n",
              "          const dataTable =\n",
              "            await google.colab.kernel.invokeFunction('convertToInteractive',\n",
              "                                                     [key], {});\n",
              "          if (!dataTable) return;\n",
              "\n",
              "          const docLinkHtml = 'Like what you see? Visit the ' +\n",
              "            '<a target=\"_blank\" href=https://colab.research.google.com/notebooks/data_table.ipynb>data table notebook</a>'\n",
              "            + ' to learn more about interactive tables.';\n",
              "          element.innerHTML = '';\n",
              "          dataTable['output_type'] = 'display_data';\n",
              "          await google.colab.output.renderOutput(dataTable, element);\n",
              "          const docLink = document.createElement('div');\n",
              "          docLink.innerHTML = docLinkHtml;\n",
              "          element.appendChild(docLink);\n",
              "        }\n",
              "      </script>\n",
              "    </div>\n",
              "  </div>\n",
              "  "
            ]
          },
          "metadata": {},
          "execution_count": 14
        }
      ]
    },
    {
      "cell_type": "markdown",
      "metadata": {
        "id": "lgHp_wEUcW5E"
      },
      "source": [
        "# Auxiliar Functions"
      ]
    },
    {
      "cell_type": "code",
      "execution_count": null,
      "metadata": {
        "id": "uQYzCfNGcW5F"
      },
      "outputs": [],
      "source": [
        "def printModelGeneralInfo(model, hp, score, metric_evaluated):\n",
        "    print('#####################################################')\n",
        "    print('Model:', type(model).__name__)\n",
        "    print('Metric: ', metric_evaluated, ' | Score (%): ', 100*round(score,5))\n",
        "    print('Best Parameters: ', hp)\n",
        "    print('#####################################################\\n')"
      ]
    },
    {
      "cell_type": "code",
      "execution_count": null,
      "metadata": {
        "id": "GDGV3p2bcW5F"
      },
      "outputs": [],
      "source": [
        "def optimizationGridCV(model_estimator, params, metric_to_eval, cv_generator, features, target):\n",
        "    \"\"\"\n",
        "    Function to evaluate the best set of HP given a specific metric using Grid Search CV.\n",
        "    \n",
        "    Arguments:\n",
        "        model_estimator: Model to be evaluated\n",
        "        params: hyper parameters grid\n",
        "        metric_to_eval: metric to be evaluated in the search (model evaluation)\n",
        "        cv_generator: Stratified K-Fold Generator to guarantee reproductibility\n",
        "        features: x train set to be used\n",
        "        target: y train set to be used\n",
        "    \n",
        "    Returns:\n",
        "        (best_model, best_hiperparameters, best_metric_score)\n",
        "    \"\"\"\n",
        "    # Define Random Search CV object\n",
        "    hp_search = GridSearchCV(estimator=model_estimator,param_grid=params,cv=cv_generator,\n",
        "                             scoring=metric_to_eval,verbose=2,n_jobs=-1)\n",
        "    # Search\n",
        "    hp_search.fit(features, target)\n",
        "    # Finish\n",
        "    return (hp_search.best_estimator_, hp_search.best_params_, hp_search.best_score_, hp_search.cv_results_)"
      ]
    },
    {
      "cell_type": "code",
      "execution_count": null,
      "metadata": {
        "id": "QaEXiZJccW5G"
      },
      "outputs": [],
      "source": [
        "def optimizationRandomCV(model_estimator, params, metric_to_eval, cv_generator, n_iter, features, target):\n",
        "    \"\"\"\n",
        "    Function to evaluate the best set of HP given a specific metric using Random Search CV.\n",
        "    \n",
        "    Arguments:\n",
        "        model_estimator: Model to be evaluated\n",
        "        params: hyper parameters grid\n",
        "        metric_to_eval: metric to be evaluated in the search (model evaluation)\n",
        "        cv_generator: Stratified K-Fold Generator to guarantee reproductibility\n",
        "        n_iter: iterations in RandomizedSearchCV\n",
        "        features: x train set to be used\n",
        "        target: y train set to be used\n",
        "    \n",
        "    Returns:\n",
        "        (best_model, best_hiperparameters, best_metric_score)\n",
        "    \"\"\"\n",
        "    # Define Random Search CV object\n",
        "    hp_search = RandomizedSearchCV(estimator=model_estimator,\n",
        "                                   param_distributions=params, \n",
        "                                   n_iter=n_iter,\n",
        "                                   cv=cv_generator,\n",
        "                                   scoring=metric_to_eval,\n",
        "                                   verbose=2,\n",
        "                                   random_state=101,\n",
        "                                   n_jobs=-1)\n",
        "    # Search\n",
        "    hp_search.fit(features, target)\n",
        "    # Finish\n",
        "    return (hp_search.best_estimator_, hp_search.best_params_, hp_search.best_score_, hp_search.cv_results_)"
      ]
    },
    {
      "cell_type": "code",
      "execution_count": null,
      "metadata": {
        "id": "PQwuGMGvcW5G"
      },
      "outputs": [],
      "source": [
        "def optimizationBayesCV(model_estimator, params, metric_to_eval, cv_generator, n_iter, features, target):\n",
        "    \"\"\"\n",
        "    Function to evaluate the best set of HP given a specific metric using Bayes Optimization Search CV.\n",
        "    \n",
        "    Arguments:\n",
        "        model_estimator: Model to be evaluated\n",
        "        params: hyper parameters grid\n",
        "        metric_to_eval: metric to be evaluated in the search (model evaluation)\n",
        "        cv_generator: Stratified K-Fold Generator to guarantee reproductibility\n",
        "        n_iter: iterations in BayesSearchCV\n",
        "        features: x train set to be used\n",
        "        target: y train set to be used\n",
        "    \n",
        "    Returns:\n",
        "        (best_model, best_hiperparameters, best_metric_score)\n",
        "    \"\"\"\n",
        "    # Define Search CV object\n",
        "    hp_search = BayesSearchCV(estimator=model_estimator,\n",
        "                              search_spaces=params,\n",
        "                              n_iter=n_iter,\n",
        "                              cv=cv_generator,\n",
        "                              scoring=metric_to_eval,\n",
        "                              verbose=0,\n",
        "                              random_state=101,\n",
        "                              n_jobs=5,\n",
        "                              n_points=5)\n",
        "    # Search\n",
        "    hp_search.fit(features, target)\n",
        "    # Finish\n",
        "    return (hp_search.best_estimator_, hp_search.best_params_, hp_search.best_score_, hp_search.cv_results_)"
      ]
    },
    {
      "cell_type": "code",
      "execution_count": null,
      "metadata": {
        "id": "53xDoEuDcW5G"
      },
      "outputs": [],
      "source": [
        "def optimizationPipeline(estimator,params,x_train,y_train,metric_eval,cv_generator,opt_option='grid',n_iter=None):\n",
        "    \"\"\"\n",
        "    Function to apply a specific HP optimization and present results.\n",
        "    Arguments:\n",
        "        estimator: Model to be evaluated\n",
        "        params: hyper parameters grid\n",
        "        x_train: self explanatory\n",
        "        y_train: self explanatory\n",
        "        metric_to_eval: metric to be evaluated in the search (model evaluation)\n",
        "        opt_option: define the methodology to HP Optimization. Can be 'grid','random' or 'bayes'\n",
        "        cv_generator: Stratified K-Fold Generator to guarantee reproductibility\n",
        "        n_iter: iterations in RandomSearchCV or BayesOptimization. It's ignored if opt_option is 'grid'.\n",
        "    Returns:\n",
        "        dictionary with overall results\n",
        "    \"\"\"  \n",
        "    # 1 - SEARCH\n",
        "    if opt_option == 'grid':\n",
        "        best_model,best_params,best_score,cv_results = optimizationGridCV(estimator,params,metric_eval,cv_generator,\n",
        "                                                                          x_train,y_train)\n",
        "    elif opt_option == 'random':\n",
        "        best_model,best_params,best_score,cv_results = optimizationRandomCV(estimator,params,metric_eval,cv_generator,\n",
        "                                                                            n_iter,x_train,y_train)\n",
        "    elif opt_option == 'bayes':\n",
        "        best_model,best_params,best_score,cv_results = optimizationBayesCV(estimator,params,metric_eval,cv_generator,\n",
        "                                                                           n_iter,x_train,y_train)\n",
        "    else:\n",
        "        print('ERROR - Wrong opt_option selected')\n",
        "        return\n",
        "    \n",
        "    # Wait for results\n",
        "    sleep(1.5)    \n",
        "    # 2 - Show Model Results\n",
        "    printModelGeneralInfo(best_model, best_params, best_score, metric_eval)\n",
        "    # 3 - Returns\n",
        "    returned_dict = {'best_model':best_model,'best_params':best_params,'best_score':best_score,\n",
        "                     'cv_res':pd.DataFrame(cv_results),'metric_used':metric_eval}\n",
        "    return returned_dict"
      ]
    },
    {
      "cell_type": "markdown",
      "metadata": {
        "id": "pyRvImLScW5H"
      },
      "source": [
        "# Hyper parameters optimization\n",
        "\n",
        "Details:\n",
        "- **Metrics**: `f1` which represents F1-Score\n",
        "- **Models**: Logistic Regression, SVM, Random Forest, Gradient Boosting and XGBoost\n",
        "- **Process to optimize**: CV 5-Fold Strafied. Optimization algorithm is Bayes Optimization."
      ]
    },
    {
      "cell_type": "code",
      "execution_count": null,
      "metadata": {
        "id": "HNBJ9nqPcW5H"
      },
      "outputs": [],
      "source": [
        "# Metric used\n",
        "metric_optimize = 'f1'"
      ]
    },
    {
      "cell_type": "code",
      "execution_count": null,
      "metadata": {
        "id": "PGPCNdQUcW5I"
      },
      "outputs": [],
      "source": [
        "# Stratified K-Fold generator - Generate a general split to be able to compare all models with CV results\n",
        "strat_cv_5folds = StratifiedKFold(n_splits=5,random_state=101, shuffle=True)"
      ]
    },
    {
      "cell_type": "markdown",
      "metadata": {
        "id": "SOgtQIzAcW5I"
      },
      "source": [
        "## HPO Procedure"
      ]
    },
    {
      "cell_type": "markdown",
      "metadata": {
        "id": "20RxCCrVcW5I"
      },
      "source": [
        "### Logistic Regression oversampled"
      ]
    },
    {
      "cell_type": "code",
      "execution_count": null,
      "metadata": {
        "id": "ieiv9Db5cW5J",
        "outputId": "ff45051a-ef0a-4187-e0fa-04c600b05fb9",
        "colab": {
          "base_uri": "https://localhost:8080/"
        }
      },
      "outputs": [
        {
          "output_type": "stream",
          "name": "stdout",
          "text": [
            "#####################################################\n",
            "Model: LogisticRegression\n",
            "Metric:  f1  | Score (%):  83.136\n",
            "Best Parameters:  OrderedDict([('C', 0.05520658088086791), ('class_weight', None), ('l1_ratio', 1.0)])\n",
            "#####################################################\n",
            "\n"
          ]
        }
      ],
      "source": [
        "## Define Estimator\n",
        "estimator = LogisticRegression(random_state=1206,penalty='elasticnet', solver='saga', max_iter=5000)\n",
        "## Define Parameters\n",
        "params = {'C': Real(1e-4, 10, prior='log-uniform'),\n",
        "          'l1_ratio': Real(0, 1, prior='uniform'),\n",
        "          'class_weight': Categorical(['balanced',None], transform='onehot')}\n",
        "\n",
        "## HP Optimization\n",
        "lre_res_ove = optimizationPipeline(estimator,params,x_train_smt,y_train_smt,metric_optimize, \n",
        "                                   strat_cv_5folds,opt_option='bayes',n_iter=100)"
      ]
    },
    {
      "cell_type": "markdown",
      "metadata": {
        "id": "xdxlYJyIwvFt"
      },
      "source": [
        "### Logistic Regression imbalanced"
      ]
    },
    {
      "cell_type": "code",
      "execution_count": null,
      "metadata": {
        "outputId": "ffce22f7-bd72-4dfa-9988-66ae644c23f5",
        "colab": {
          "base_uri": "https://localhost:8080/"
        },
        "id": "LKXcl_-jwvFx"
      },
      "outputs": [
        {
          "output_type": "stream",
          "name": "stdout",
          "text": [
            "#####################################################\n",
            "Model: LogisticRegression\n",
            "Metric:  f1  | Score (%):  50.196\n",
            "Best Parameters:  OrderedDict([('C', 0.04181776160662577), ('class_weight', 'balanced'), ('l1_ratio', 0.292546405054023)])\n",
            "#####################################################\n",
            "\n"
          ]
        }
      ],
      "source": [
        "## Define Estimator\n",
        "estimator = LogisticRegression(random_state=1206,penalty='elasticnet', solver='saga', max_iter=5000)\n",
        "## Define Parameters\n",
        "params = {'C': Real(1e-4, 10, prior='log-uniform'),\n",
        "          'l1_ratio': Real(0, 1, prior='uniform'),\n",
        "          'class_weight': Categorical(['balanced',None], transform='onehot')}\n",
        "\n",
        "## HP Optimization\n",
        "lre_res_bal = optimizationPipeline(estimator,params,x_train,y_train,metric_optimize, \n",
        "                                   strat_cv_5folds,opt_option='bayes',n_iter=100)"
      ]
    },
    {
      "cell_type": "markdown",
      "metadata": {
        "id": "8KOvOgsycW5J"
      },
      "source": [
        "### SVM oversampled"
      ]
    },
    {
      "cell_type": "code",
      "execution_count": null,
      "metadata": {
        "id": "s3qrACJccW5J",
        "outputId": "98146f77-d2ed-4446-c33d-25544a193cbe",
        "colab": {
          "base_uri": "https://localhost:8080/"
        }
      },
      "outputs": [
        {
          "output_type": "stream",
          "name": "stdout",
          "text": [
            "#####################################################\n",
            "Model: SVC\n",
            "Metric:  f1  | Score (%):  95.56099999999999\n",
            "Best Parameters:  OrderedDict([('C', 10.0), ('class_weight', 'balanced'), ('gamma', 'scale'), ('kernel', 'rbf'), ('shrinking', False)])\n",
            "#####################################################\n",
            "\n"
          ]
        }
      ],
      "source": [
        "## Define Estimator\n",
        "estimator = SVC(random_state=1206, probability=True)\n",
        "## Define Parameters\n",
        "params = {'C': Real(1e-4, 10, prior='log-uniform'),\n",
        "          'shrinking': Categorical([True, False], transform='onehot'),\n",
        "          'kernel': Categorical(['linear','rbf','poly','sigmoid'], transform='onehot'),\n",
        "          'gamma': Categorical(['scale', 'auto'], transform='onehot'),\n",
        "          'class_weight': Categorical(['balanced',None], transform='onehot')}\n",
        "\n",
        "## HP Optimization\n",
        "svm_res_ove = optimizationPipeline(estimator,params,x_train_smt,y_train_smt,metric_optimize,strat_cv_5folds,\n",
        "                                   opt_option='bayes',n_iter=100)"
      ]
    },
    {
      "cell_type": "markdown",
      "metadata": {
        "id": "zsDANs9ELzo6"
      },
      "source": [
        "### SVM imbalnced"
      ]
    },
    {
      "cell_type": "code",
      "execution_count": null,
      "metadata": {
        "outputId": "ccaedb14-4866-4dd3-d57b-21f10e9c8c76",
        "colab": {
          "base_uri": "https://localhost:8080/"
        },
        "id": "p2NuYtiuLzo_"
      },
      "outputs": [
        {
          "output_type": "stream",
          "name": "stdout",
          "text": [
            "#####################################################\n",
            "Model: SVC\n",
            "Metric:  f1  | Score (%):  60.757000000000005\n",
            "Best Parameters:  OrderedDict([('C', 10.0), ('class_weight', 'balanced'), ('gamma', 'auto'), ('kernel', 'rbf'), ('shrinking', False)])\n",
            "#####################################################\n",
            "\n"
          ]
        }
      ],
      "source": [
        "## Define Estimator\n",
        "estimator = SVC(random_state=1206, probability=True)\n",
        "## Define Parameters\n",
        "params = {'C': Real(1e-4, 10, prior='log-uniform'),\n",
        "          'shrinking': Categorical([True, False], transform='onehot'),\n",
        "          'kernel': Categorical(['linear','rbf','poly','sigmoid'], transform='onehot'),\n",
        "          'gamma': Categorical(['scale', 'auto'], transform='onehot'),\n",
        "          'class_weight': Categorical(['balanced',None], transform='onehot')}\n",
        "\n",
        "## HP Optimization\n",
        "svm_res_bal = optimizationPipeline(estimator,params,x_train,y_train,metric_optimize,strat_cv_5folds,\n",
        "                                   opt_option='bayes',n_iter=100)"
      ]
    },
    {
      "cell_type": "markdown",
      "metadata": {
        "id": "UJyc9gWYcW5K"
      },
      "source": [
        "### Random Forest oversampled"
      ]
    },
    {
      "cell_type": "code",
      "execution_count": null,
      "metadata": {
        "id": "7mknp-S6cW5K",
        "outputId": "00935e70-9197-48f1-9873-c1e92c0efca8",
        "colab": {
          "base_uri": "https://localhost:8080/"
        }
      },
      "outputs": [
        {
          "output_type": "stream",
          "name": "stdout",
          "text": [
            "#####################################################\n",
            "Model: RandomForestClassifier\n",
            "Metric:  f1  | Score (%):  95.253\n",
            "Best Parameters:  OrderedDict([('class_weight', 'balanced'), ('max_depth', 19), ('max_features', 'sqrt'), ('min_samples_leaf', 1), ('min_samples_split', 2), ('n_estimators', 1000)])\n",
            "#####################################################\n",
            "\n"
          ]
        }
      ],
      "source": [
        "## Define Estimator\n",
        "estimator = RandomForestClassifier(random_state=1206, criterion='gini', warm_start=True)\n",
        "## Define Parameters Grid\n",
        "params = {'n_estimators': Integer(100, 1000, prior='uniform'),\n",
        "          'max_depth': Integer(2, 32, prior='uniform'),\n",
        "          'min_samples_split': Integer(2, 16, prior='uniform'),\n",
        "          'min_samples_leaf': Integer(1, 8, prior='uniform'),\n",
        "          'class_weight': Categorical(['balanced','balanced_subsample',None], transform='onehot'),\n",
        "          'max_features': Categorical(['sqrt','log2'], transform='onehot')}\n",
        "## HP Optimization\n",
        "rfc_res_ove = optimizationPipeline(estimator,params,x_train_smt,y_train_smt,metric_optimize,strat_cv_5folds,\n",
        "                                   opt_option='bayes',n_iter=100)"
      ]
    },
    {
      "cell_type": "markdown",
      "metadata": {
        "id": "RmlOMV_fPHZ-"
      },
      "source": [
        "### Random Forest imbalnced "
      ]
    },
    {
      "cell_type": "code",
      "execution_count": null,
      "metadata": {
        "outputId": "35a9e6b9-b202-48e5-eda6-62ed910b4744",
        "colab": {
          "base_uri": "https://localhost:8080/"
        },
        "id": "T37yhSzhPHZ_"
      },
      "outputs": [
        {
          "output_type": "stream",
          "name": "stdout",
          "text": [
            "#####################################################\n",
            "Model: RandomForestClassifier\n",
            "Metric:  f1  | Score (%):  57.156\n",
            "Best Parameters:  OrderedDict([('class_weight', 'balanced'), ('max_depth', 18), ('max_features', 'log2'), ('min_samples_leaf', 4), ('min_samples_split', 3), ('n_estimators', 334)])\n",
            "#####################################################\n",
            "\n"
          ]
        }
      ],
      "source": [
        "## Define Estimator\n",
        "estimator = RandomForestClassifier(random_state=1206, criterion='gini', warm_start=True)\n",
        "## Define Parameters Grid\n",
        "params = {'n_estimators': Integer(100, 1000, prior='uniform'),\n",
        "          'max_depth': Integer(2, 32, prior='uniform'),\n",
        "          'min_samples_split': Integer(2, 16, prior='uniform'),\n",
        "          'min_samples_leaf': Integer(1, 8, prior='uniform'),\n",
        "          'class_weight': Categorical(['balanced','balanced_subsample',None], transform='onehot'),\n",
        "          'max_features': Categorical(['sqrt','log2'], transform='onehot')}\n",
        "## HP Optimization\n",
        "rfc_res_ove = optimizationPipeline(estimator,params,x_train,y_train,metric_optimize,strat_cv_5folds,\n",
        "                                   opt_option='bayes',n_iter=100)"
      ]
    },
    {
      "cell_type": "markdown",
      "metadata": {
        "id": "VjzvvYyDcW5L"
      },
      "source": [
        "### Gradient Boosting oversampled "
      ]
    },
    {
      "cell_type": "code",
      "execution_count": null,
      "metadata": {
        "id": "aCSm2JEdcW5M",
        "outputId": "70134713-cc0e-42a1-a0b1-948d2dc815d2",
        "colab": {
          "base_uri": "https://localhost:8080/",
          "height": 353
        }
      },
      "outputs": [
        {
          "output_type": "error",
          "ename": "KeyboardInterrupt",
          "evalue": "ignored",
          "traceback": [
            "\u001b[0;31m---------------------------------------------------------------------------\u001b[0m",
            "\u001b[0;31mKeyboardInterrupt\u001b[0m                         Traceback (most recent call last)",
            "\u001b[0;32m<ipython-input-29-40fb71aa8246>\u001b[0m in \u001b[0;36m<module>\u001b[0;34m()\u001b[0m\n\u001b[1;32m     11\u001b[0m \u001b[0;31m## HP Optimization\u001b[0m\u001b[0;34m\u001b[0m\u001b[0;34m\u001b[0m\u001b[0;34m\u001b[0m\u001b[0m\n\u001b[1;32m     12\u001b[0m bst_res_ove = optimizationPipeline(estimator,params,x_train_smt,y_train_smt,metric_optimize,strat_cv_5folds,\n\u001b[0;32m---> 13\u001b[0;31m                                    opt_option='bayes',n_iter=100)\n\u001b[0m",
            "\u001b[0;32m<ipython-input-18-b7b983e9a7cf>\u001b[0m in \u001b[0;36moptimizationPipeline\u001b[0;34m(estimator, params, x_train, y_train, metric_eval, cv_generator, opt_option, n_iter)\u001b[0m\n\u001b[1;32m     23\u001b[0m     \u001b[0;32melif\u001b[0m \u001b[0mopt_option\u001b[0m \u001b[0;34m==\u001b[0m \u001b[0;34m'bayes'\u001b[0m\u001b[0;34m:\u001b[0m\u001b[0;34m\u001b[0m\u001b[0;34m\u001b[0m\u001b[0m\n\u001b[1;32m     24\u001b[0m         best_model,best_params,best_score,cv_results = optimizationBayesCV(estimator,params,metric_eval,cv_generator,\n\u001b[0;32m---> 25\u001b[0;31m                                                                            n_iter,x_train,y_train)\n\u001b[0m\u001b[1;32m     26\u001b[0m     \u001b[0;32melse\u001b[0m\u001b[0;34m:\u001b[0m\u001b[0;34m\u001b[0m\u001b[0;34m\u001b[0m\u001b[0m\n\u001b[1;32m     27\u001b[0m         \u001b[0mprint\u001b[0m\u001b[0;34m(\u001b[0m\u001b[0;34m'ERROR - Wrong opt_option selected'\u001b[0m\u001b[0;34m)\u001b[0m\u001b[0;34m\u001b[0m\u001b[0;34m\u001b[0m\u001b[0m\n",
            "\u001b[0;32m<ipython-input-17-12ba8c827dce>\u001b[0m in \u001b[0;36moptimizationBayesCV\u001b[0;34m(model_estimator, params, metric_to_eval, cv_generator, n_iter, features, target)\u001b[0m\n\u001b[1;32m     26\u001b[0m                               n_points=5)\n\u001b[1;32m     27\u001b[0m     \u001b[0;31m# Search\u001b[0m\u001b[0;34m\u001b[0m\u001b[0;34m\u001b[0m\u001b[0;34m\u001b[0m\u001b[0m\n\u001b[0;32m---> 28\u001b[0;31m     \u001b[0mhp_search\u001b[0m\u001b[0;34m.\u001b[0m\u001b[0mfit\u001b[0m\u001b[0;34m(\u001b[0m\u001b[0mfeatures\u001b[0m\u001b[0;34m,\u001b[0m \u001b[0mtarget\u001b[0m\u001b[0;34m)\u001b[0m\u001b[0;34m\u001b[0m\u001b[0;34m\u001b[0m\u001b[0m\n\u001b[0m\u001b[1;32m     29\u001b[0m     \u001b[0;31m# Finish\u001b[0m\u001b[0;34m\u001b[0m\u001b[0;34m\u001b[0m\u001b[0;34m\u001b[0m\u001b[0m\n\u001b[1;32m     30\u001b[0m     \u001b[0;32mreturn\u001b[0m \u001b[0;34m(\u001b[0m\u001b[0mhp_search\u001b[0m\u001b[0;34m.\u001b[0m\u001b[0mbest_estimator_\u001b[0m\u001b[0;34m,\u001b[0m \u001b[0mhp_search\u001b[0m\u001b[0;34m.\u001b[0m\u001b[0mbest_params_\u001b[0m\u001b[0;34m,\u001b[0m \u001b[0mhp_search\u001b[0m\u001b[0;34m.\u001b[0m\u001b[0mbest_score_\u001b[0m\u001b[0;34m,\u001b[0m \u001b[0mhp_search\u001b[0m\u001b[0;34m.\u001b[0m\u001b[0mcv_results_\u001b[0m\u001b[0;34m)\u001b[0m\u001b[0;34m\u001b[0m\u001b[0;34m\u001b[0m\u001b[0m\n",
            "\u001b[0;32m/usr/local/lib/python3.7/dist-packages/skopt/searchcv.py\u001b[0m in \u001b[0;36mfit\u001b[0;34m(self, X, y, groups, callback, **fit_params)\u001b[0m\n\u001b[1;32m    464\u001b[0m             \u001b[0mself\u001b[0m\u001b[0;34m.\u001b[0m\u001b[0moptimizer_kwargs_\u001b[0m \u001b[0;34m=\u001b[0m \u001b[0mdict\u001b[0m\u001b[0;34m(\u001b[0m\u001b[0mself\u001b[0m\u001b[0;34m.\u001b[0m\u001b[0moptimizer_kwargs\u001b[0m\u001b[0;34m)\u001b[0m\u001b[0;34m\u001b[0m\u001b[0;34m\u001b[0m\u001b[0m\n\u001b[1;32m    465\u001b[0m \u001b[0;34m\u001b[0m\u001b[0m\n\u001b[0;32m--> 466\u001b[0;31m         \u001b[0msuper\u001b[0m\u001b[0;34m(\u001b[0m\u001b[0;34m)\u001b[0m\u001b[0;34m.\u001b[0m\u001b[0mfit\u001b[0m\u001b[0;34m(\u001b[0m\u001b[0mX\u001b[0m\u001b[0;34m=\u001b[0m\u001b[0mX\u001b[0m\u001b[0;34m,\u001b[0m \u001b[0my\u001b[0m\u001b[0;34m=\u001b[0m\u001b[0my\u001b[0m\u001b[0;34m,\u001b[0m \u001b[0mgroups\u001b[0m\u001b[0;34m=\u001b[0m\u001b[0mgroups\u001b[0m\u001b[0;34m,\u001b[0m \u001b[0;34m**\u001b[0m\u001b[0mfit_params\u001b[0m\u001b[0;34m)\u001b[0m\u001b[0;34m\u001b[0m\u001b[0;34m\u001b[0m\u001b[0m\n\u001b[0m\u001b[1;32m    467\u001b[0m \u001b[0;34m\u001b[0m\u001b[0m\n\u001b[1;32m    468\u001b[0m         \u001b[0;31m# BaseSearchCV never ranked train scores,\u001b[0m\u001b[0;34m\u001b[0m\u001b[0;34m\u001b[0m\u001b[0;34m\u001b[0m\u001b[0m\n",
            "\u001b[0;32m/usr/local/lib/python3.7/dist-packages/sklearn/model_selection/_search.py\u001b[0m in \u001b[0;36mfit\u001b[0;34m(self, X, y, groups, **fit_params)\u001b[0m\n\u001b[1;32m    889\u001b[0m                 \u001b[0;32mreturn\u001b[0m \u001b[0mresults\u001b[0m\u001b[0;34m\u001b[0m\u001b[0;34m\u001b[0m\u001b[0m\n\u001b[1;32m    890\u001b[0m \u001b[0;34m\u001b[0m\u001b[0m\n\u001b[0;32m--> 891\u001b[0;31m             \u001b[0mself\u001b[0m\u001b[0;34m.\u001b[0m\u001b[0m_run_search\u001b[0m\u001b[0;34m(\u001b[0m\u001b[0mevaluate_candidates\u001b[0m\u001b[0;34m)\u001b[0m\u001b[0;34m\u001b[0m\u001b[0;34m\u001b[0m\u001b[0m\n\u001b[0m\u001b[1;32m    892\u001b[0m \u001b[0;34m\u001b[0m\u001b[0m\n\u001b[1;32m    893\u001b[0m             \u001b[0;31m# multimetric is determined here because in the case of a callable\u001b[0m\u001b[0;34m\u001b[0m\u001b[0;34m\u001b[0m\u001b[0;34m\u001b[0m\u001b[0m\n",
            "\u001b[0;32m/usr/local/lib/python3.7/dist-packages/skopt/searchcv.py\u001b[0m in \u001b[0;36m_run_search\u001b[0;34m(self, evaluate_candidates)\u001b[0m\n\u001b[1;32m    512\u001b[0m                 optim_result = self._step(\n\u001b[1;32m    513\u001b[0m                     \u001b[0msearch_space\u001b[0m\u001b[0;34m,\u001b[0m \u001b[0moptimizer\u001b[0m\u001b[0;34m,\u001b[0m\u001b[0;34m\u001b[0m\u001b[0;34m\u001b[0m\u001b[0m\n\u001b[0;32m--> 514\u001b[0;31m                     \u001b[0mevaluate_candidates\u001b[0m\u001b[0;34m,\u001b[0m \u001b[0mn_points\u001b[0m\u001b[0;34m=\u001b[0m\u001b[0mn_points_adjusted\u001b[0m\u001b[0;34m\u001b[0m\u001b[0;34m\u001b[0m\u001b[0m\n\u001b[0m\u001b[1;32m    515\u001b[0m                 )\n\u001b[1;32m    516\u001b[0m                 \u001b[0mn_iter\u001b[0m \u001b[0;34m-=\u001b[0m \u001b[0mn_points\u001b[0m\u001b[0;34m\u001b[0m\u001b[0;34m\u001b[0m\u001b[0m\n",
            "\u001b[0;32m/usr/local/lib/python3.7/dist-packages/skopt/searchcv.py\u001b[0m in \u001b[0;36m_step\u001b[0;34m(self, search_space, optimizer, evaluate_candidates, n_points)\u001b[0m\n\u001b[1;32m    410\u001b[0m         \u001b[0;31m# Optimizer minimizes objective, hence provide negative score\u001b[0m\u001b[0;34m\u001b[0m\u001b[0;34m\u001b[0m\u001b[0;34m\u001b[0m\u001b[0m\n\u001b[1;32m    411\u001b[0m         \u001b[0mlocal_results\u001b[0m \u001b[0;34m=\u001b[0m \u001b[0mall_results\u001b[0m\u001b[0;34m[\u001b[0m\u001b[0;34m\"mean_test_score\"\u001b[0m\u001b[0;34m]\u001b[0m\u001b[0;34m[\u001b[0m\u001b[0;34m-\u001b[0m\u001b[0mlen\u001b[0m\u001b[0;34m(\u001b[0m\u001b[0mparams\u001b[0m\u001b[0;34m)\u001b[0m\u001b[0;34m:\u001b[0m\u001b[0;34m]\u001b[0m\u001b[0;34m\u001b[0m\u001b[0;34m\u001b[0m\u001b[0m\n\u001b[0;32m--> 412\u001b[0;31m         \u001b[0;32mreturn\u001b[0m \u001b[0moptimizer\u001b[0m\u001b[0;34m.\u001b[0m\u001b[0mtell\u001b[0m\u001b[0;34m(\u001b[0m\u001b[0mparams\u001b[0m\u001b[0;34m,\u001b[0m \u001b[0;34m[\u001b[0m\u001b[0;34m-\u001b[0m\u001b[0mscore\u001b[0m \u001b[0;32mfor\u001b[0m \u001b[0mscore\u001b[0m \u001b[0;32min\u001b[0m \u001b[0mlocal_results\u001b[0m\u001b[0;34m]\u001b[0m\u001b[0;34m)\u001b[0m\u001b[0;34m\u001b[0m\u001b[0;34m\u001b[0m\u001b[0m\n\u001b[0m\u001b[1;32m    413\u001b[0m \u001b[0;34m\u001b[0m\u001b[0m\n\u001b[1;32m    414\u001b[0m     \u001b[0;34m@\u001b[0m\u001b[0mproperty\u001b[0m\u001b[0;34m\u001b[0m\u001b[0;34m\u001b[0m\u001b[0m\n",
            "\u001b[0;32m/usr/local/lib/python3.7/dist-packages/skopt/optimizer/optimizer.py\u001b[0m in \u001b[0;36mtell\u001b[0;34m(self, x, y, fit)\u001b[0m\n\u001b[1;32m    491\u001b[0m                 \u001b[0my\u001b[0m\u001b[0;34m[\u001b[0m\u001b[0;36m1\u001b[0m\u001b[0;34m]\u001b[0m \u001b[0;34m=\u001b[0m \u001b[0mlog\u001b[0m\u001b[0;34m(\u001b[0m\u001b[0my\u001b[0m\u001b[0;34m[\u001b[0m\u001b[0;36m1\u001b[0m\u001b[0;34m]\u001b[0m\u001b[0;34m)\u001b[0m\u001b[0;34m\u001b[0m\u001b[0;34m\u001b[0m\u001b[0m\n\u001b[1;32m    492\u001b[0m \u001b[0;34m\u001b[0m\u001b[0m\n\u001b[0;32m--> 493\u001b[0;31m         \u001b[0;32mreturn\u001b[0m \u001b[0mself\u001b[0m\u001b[0;34m.\u001b[0m\u001b[0m_tell\u001b[0m\u001b[0;34m(\u001b[0m\u001b[0mx\u001b[0m\u001b[0;34m,\u001b[0m \u001b[0my\u001b[0m\u001b[0;34m,\u001b[0m \u001b[0mfit\u001b[0m\u001b[0;34m=\u001b[0m\u001b[0mfit\u001b[0m\u001b[0;34m)\u001b[0m\u001b[0;34m\u001b[0m\u001b[0;34m\u001b[0m\u001b[0m\n\u001b[0m\u001b[1;32m    494\u001b[0m \u001b[0;34m\u001b[0m\u001b[0m\n\u001b[1;32m    495\u001b[0m     \u001b[0;32mdef\u001b[0m \u001b[0m_tell\u001b[0m\u001b[0;34m(\u001b[0m\u001b[0mself\u001b[0m\u001b[0;34m,\u001b[0m \u001b[0mx\u001b[0m\u001b[0;34m,\u001b[0m \u001b[0my\u001b[0m\u001b[0;34m,\u001b[0m \u001b[0mfit\u001b[0m\u001b[0;34m=\u001b[0m\u001b[0;32mTrue\u001b[0m\u001b[0;34m)\u001b[0m\u001b[0;34m:\u001b[0m\u001b[0;34m\u001b[0m\u001b[0;34m\u001b[0m\u001b[0m\n",
            "\u001b[0;32m/usr/local/lib/python3.7/dist-packages/skopt/optimizer/optimizer.py\u001b[0m in \u001b[0;36m_tell\u001b[0;34m(self, x, y, fit)\u001b[0m\n\u001b[1;32m    534\u001b[0m             \u001b[0;32mwith\u001b[0m \u001b[0mwarnings\u001b[0m\u001b[0;34m.\u001b[0m\u001b[0mcatch_warnings\u001b[0m\u001b[0;34m(\u001b[0m\u001b[0;34m)\u001b[0m\u001b[0;34m:\u001b[0m\u001b[0;34m\u001b[0m\u001b[0;34m\u001b[0m\u001b[0m\n\u001b[1;32m    535\u001b[0m                 \u001b[0mwarnings\u001b[0m\u001b[0;34m.\u001b[0m\u001b[0msimplefilter\u001b[0m\u001b[0;34m(\u001b[0m\u001b[0;34m\"ignore\"\u001b[0m\u001b[0;34m)\u001b[0m\u001b[0;34m\u001b[0m\u001b[0;34m\u001b[0m\u001b[0m\n\u001b[0;32m--> 536\u001b[0;31m                 \u001b[0mest\u001b[0m\u001b[0;34m.\u001b[0m\u001b[0mfit\u001b[0m\u001b[0;34m(\u001b[0m\u001b[0mself\u001b[0m\u001b[0;34m.\u001b[0m\u001b[0mspace\u001b[0m\u001b[0;34m.\u001b[0m\u001b[0mtransform\u001b[0m\u001b[0;34m(\u001b[0m\u001b[0mself\u001b[0m\u001b[0;34m.\u001b[0m\u001b[0mXi\u001b[0m\u001b[0;34m)\u001b[0m\u001b[0;34m,\u001b[0m \u001b[0mself\u001b[0m\u001b[0;34m.\u001b[0m\u001b[0myi\u001b[0m\u001b[0;34m)\u001b[0m\u001b[0;34m\u001b[0m\u001b[0;34m\u001b[0m\u001b[0m\n\u001b[0m\u001b[1;32m    537\u001b[0m \u001b[0;34m\u001b[0m\u001b[0m\n\u001b[1;32m    538\u001b[0m             \u001b[0;32mif\u001b[0m \u001b[0mhasattr\u001b[0m\u001b[0;34m(\u001b[0m\u001b[0mself\u001b[0m\u001b[0;34m,\u001b[0m \u001b[0;34m\"next_xs_\"\u001b[0m\u001b[0;34m)\u001b[0m \u001b[0;32mand\u001b[0m \u001b[0mself\u001b[0m\u001b[0;34m.\u001b[0m\u001b[0macq_func\u001b[0m \u001b[0;34m==\u001b[0m \u001b[0;34m\"gp_hedge\"\u001b[0m\u001b[0;34m:\u001b[0m\u001b[0;34m\u001b[0m\u001b[0;34m\u001b[0m\u001b[0m\n",
            "\u001b[0;32m/usr/local/lib/python3.7/dist-packages/skopt/learning/gaussian_process/gpr.py\u001b[0m in \u001b[0;36mfit\u001b[0;34m(self, X, y)\u001b[0m\n\u001b[1;32m    193\u001b[0m                 \u001b[0mnoise_level\u001b[0m\u001b[0;34m=\u001b[0m\u001b[0mself\u001b[0m\u001b[0;34m.\u001b[0m\u001b[0mnoise\u001b[0m\u001b[0;34m,\u001b[0m \u001b[0mnoise_level_bounds\u001b[0m\u001b[0;34m=\u001b[0m\u001b[0;34m\"fixed\"\u001b[0m\u001b[0;34m\u001b[0m\u001b[0;34m\u001b[0m\u001b[0m\n\u001b[1;32m    194\u001b[0m             )\n\u001b[0;32m--> 195\u001b[0;31m         \u001b[0msuper\u001b[0m\u001b[0;34m(\u001b[0m\u001b[0mGaussianProcessRegressor\u001b[0m\u001b[0;34m,\u001b[0m \u001b[0mself\u001b[0m\u001b[0;34m)\u001b[0m\u001b[0;34m.\u001b[0m\u001b[0mfit\u001b[0m\u001b[0;34m(\u001b[0m\u001b[0mX\u001b[0m\u001b[0;34m,\u001b[0m \u001b[0my\u001b[0m\u001b[0;34m)\u001b[0m\u001b[0;34m\u001b[0m\u001b[0;34m\u001b[0m\u001b[0m\n\u001b[0m\u001b[1;32m    196\u001b[0m \u001b[0;34m\u001b[0m\u001b[0m\n\u001b[1;32m    197\u001b[0m         \u001b[0mself\u001b[0m\u001b[0;34m.\u001b[0m\u001b[0mnoise_\u001b[0m \u001b[0;34m=\u001b[0m \u001b[0;32mNone\u001b[0m\u001b[0;34m\u001b[0m\u001b[0;34m\u001b[0m\u001b[0m\n",
            "\u001b[0;32m/usr/local/lib/python3.7/dist-packages/sklearn/gaussian_process/_gpr.py\u001b[0m in \u001b[0;36mfit\u001b[0;34m(self, X, y)\u001b[0m\n\u001b[1;32m    271\u001b[0m                 (\n\u001b[1;32m    272\u001b[0m                     self._constrained_optimization(\n\u001b[0;32m--> 273\u001b[0;31m                         \u001b[0mobj_func\u001b[0m\u001b[0;34m,\u001b[0m \u001b[0mself\u001b[0m\u001b[0;34m.\u001b[0m\u001b[0mkernel_\u001b[0m\u001b[0;34m.\u001b[0m\u001b[0mtheta\u001b[0m\u001b[0;34m,\u001b[0m \u001b[0mself\u001b[0m\u001b[0;34m.\u001b[0m\u001b[0mkernel_\u001b[0m\u001b[0;34m.\u001b[0m\u001b[0mbounds\u001b[0m\u001b[0;34m\u001b[0m\u001b[0;34m\u001b[0m\u001b[0m\n\u001b[0m\u001b[1;32m    274\u001b[0m                     )\n\u001b[1;32m    275\u001b[0m                 )\n",
            "\u001b[0;32m/usr/local/lib/python3.7/dist-packages/sklearn/gaussian_process/_gpr.py\u001b[0m in \u001b[0;36m_constrained_optimization\u001b[0;34m(self, obj_func, initial_theta, bounds)\u001b[0m\n\u001b[1;32m    606\u001b[0m                 \u001b[0mmethod\u001b[0m\u001b[0;34m=\u001b[0m\u001b[0;34m\"L-BFGS-B\"\u001b[0m\u001b[0;34m,\u001b[0m\u001b[0;34m\u001b[0m\u001b[0;34m\u001b[0m\u001b[0m\n\u001b[1;32m    607\u001b[0m                 \u001b[0mjac\u001b[0m\u001b[0;34m=\u001b[0m\u001b[0;32mTrue\u001b[0m\u001b[0;34m,\u001b[0m\u001b[0;34m\u001b[0m\u001b[0;34m\u001b[0m\u001b[0m\n\u001b[0;32m--> 608\u001b[0;31m                 \u001b[0mbounds\u001b[0m\u001b[0;34m=\u001b[0m\u001b[0mbounds\u001b[0m\u001b[0;34m,\u001b[0m\u001b[0;34m\u001b[0m\u001b[0;34m\u001b[0m\u001b[0m\n\u001b[0m\u001b[1;32m    609\u001b[0m             )\n\u001b[1;32m    610\u001b[0m             \u001b[0m_check_optimize_result\u001b[0m\u001b[0;34m(\u001b[0m\u001b[0;34m\"lbfgs\"\u001b[0m\u001b[0;34m,\u001b[0m \u001b[0mopt_res\u001b[0m\u001b[0;34m)\u001b[0m\u001b[0;34m\u001b[0m\u001b[0;34m\u001b[0m\u001b[0m\n",
            "\u001b[0;32m/usr/local/lib/python3.7/dist-packages/scipy/optimize/_minimize.py\u001b[0m in \u001b[0;36mminimize\u001b[0;34m(fun, x0, args, method, jac, hess, hessp, bounds, constraints, tol, callback, options)\u001b[0m\n\u001b[1;32m    616\u001b[0m     \u001b[0;32melif\u001b[0m \u001b[0mmeth\u001b[0m \u001b[0;34m==\u001b[0m \u001b[0;34m'l-bfgs-b'\u001b[0m\u001b[0;34m:\u001b[0m\u001b[0;34m\u001b[0m\u001b[0;34m\u001b[0m\u001b[0m\n\u001b[1;32m    617\u001b[0m         return _minimize_lbfgsb(fun, x0, args, jac, bounds,\n\u001b[0;32m--> 618\u001b[0;31m                                 callback=callback, **options)\n\u001b[0m\u001b[1;32m    619\u001b[0m     \u001b[0;32melif\u001b[0m \u001b[0mmeth\u001b[0m \u001b[0;34m==\u001b[0m \u001b[0;34m'tnc'\u001b[0m\u001b[0;34m:\u001b[0m\u001b[0;34m\u001b[0m\u001b[0;34m\u001b[0m\u001b[0m\n\u001b[1;32m    620\u001b[0m         return _minimize_tnc(fun, x0, args, jac, bounds, callback=callback,\n",
            "\u001b[0;32m/usr/local/lib/python3.7/dist-packages/scipy/optimize/lbfgsb.py\u001b[0m in \u001b[0;36m_minimize_lbfgsb\u001b[0;34m(fun, x0, args, jac, bounds, disp, maxcor, ftol, gtol, eps, maxfun, maxiter, iprint, callback, maxls, finite_diff_rel_step, **unknown_options)\u001b[0m\n\u001b[1;32m    358\u001b[0m             \u001b[0;31m# until the completion of the current minimization iteration.\u001b[0m\u001b[0;34m\u001b[0m\u001b[0;34m\u001b[0m\u001b[0;34m\u001b[0m\u001b[0m\n\u001b[1;32m    359\u001b[0m             \u001b[0;31m# Overwrite f and g:\u001b[0m\u001b[0;34m\u001b[0m\u001b[0;34m\u001b[0m\u001b[0;34m\u001b[0m\u001b[0m\n\u001b[0;32m--> 360\u001b[0;31m             \u001b[0mf\u001b[0m\u001b[0;34m,\u001b[0m \u001b[0mg\u001b[0m \u001b[0;34m=\u001b[0m \u001b[0mfunc_and_grad\u001b[0m\u001b[0;34m(\u001b[0m\u001b[0mx\u001b[0m\u001b[0;34m)\u001b[0m\u001b[0;34m\u001b[0m\u001b[0;34m\u001b[0m\u001b[0m\n\u001b[0m\u001b[1;32m    361\u001b[0m         \u001b[0;32melif\u001b[0m \u001b[0mtask_str\u001b[0m\u001b[0;34m.\u001b[0m\u001b[0mstartswith\u001b[0m\u001b[0;34m(\u001b[0m\u001b[0;34mb'NEW_X'\u001b[0m\u001b[0;34m)\u001b[0m\u001b[0;34m:\u001b[0m\u001b[0;34m\u001b[0m\u001b[0;34m\u001b[0m\u001b[0m\n\u001b[1;32m    362\u001b[0m             \u001b[0;31m# new iteration\u001b[0m\u001b[0;34m\u001b[0m\u001b[0;34m\u001b[0m\u001b[0;34m\u001b[0m\u001b[0m\n",
            "\u001b[0;32m/usr/local/lib/python3.7/dist-packages/scipy/optimize/_differentiable_functions.py\u001b[0m in \u001b[0;36mfun_and_grad\u001b[0;34m(self, x)\u001b[0m\n\u001b[1;32m    198\u001b[0m         \u001b[0;32mif\u001b[0m \u001b[0;32mnot\u001b[0m \u001b[0mnp\u001b[0m\u001b[0;34m.\u001b[0m\u001b[0marray_equal\u001b[0m\u001b[0;34m(\u001b[0m\u001b[0mx\u001b[0m\u001b[0;34m,\u001b[0m \u001b[0mself\u001b[0m\u001b[0;34m.\u001b[0m\u001b[0mx\u001b[0m\u001b[0;34m)\u001b[0m\u001b[0;34m:\u001b[0m\u001b[0;34m\u001b[0m\u001b[0;34m\u001b[0m\u001b[0m\n\u001b[1;32m    199\u001b[0m             \u001b[0mself\u001b[0m\u001b[0;34m.\u001b[0m\u001b[0m_update_x_impl\u001b[0m\u001b[0;34m(\u001b[0m\u001b[0mx\u001b[0m\u001b[0;34m)\u001b[0m\u001b[0;34m\u001b[0m\u001b[0;34m\u001b[0m\u001b[0m\n\u001b[0;32m--> 200\u001b[0;31m         \u001b[0mself\u001b[0m\u001b[0;34m.\u001b[0m\u001b[0m_update_fun\u001b[0m\u001b[0;34m(\u001b[0m\u001b[0;34m)\u001b[0m\u001b[0;34m\u001b[0m\u001b[0;34m\u001b[0m\u001b[0m\n\u001b[0m\u001b[1;32m    201\u001b[0m         \u001b[0mself\u001b[0m\u001b[0;34m.\u001b[0m\u001b[0m_update_grad\u001b[0m\u001b[0;34m(\u001b[0m\u001b[0;34m)\u001b[0m\u001b[0;34m\u001b[0m\u001b[0;34m\u001b[0m\u001b[0m\n\u001b[1;32m    202\u001b[0m         \u001b[0;32mreturn\u001b[0m \u001b[0mself\u001b[0m\u001b[0;34m.\u001b[0m\u001b[0mf\u001b[0m\u001b[0;34m,\u001b[0m \u001b[0mself\u001b[0m\u001b[0;34m.\u001b[0m\u001b[0mg\u001b[0m\u001b[0;34m\u001b[0m\u001b[0;34m\u001b[0m\u001b[0m\n",
            "\u001b[0;32m/usr/local/lib/python3.7/dist-packages/scipy/optimize/_differentiable_functions.py\u001b[0m in \u001b[0;36m_update_fun\u001b[0;34m(self)\u001b[0m\n\u001b[1;32m    164\u001b[0m     \u001b[0;32mdef\u001b[0m \u001b[0m_update_fun\u001b[0m\u001b[0;34m(\u001b[0m\u001b[0mself\u001b[0m\u001b[0;34m)\u001b[0m\u001b[0;34m:\u001b[0m\u001b[0;34m\u001b[0m\u001b[0;34m\u001b[0m\u001b[0m\n\u001b[1;32m    165\u001b[0m         \u001b[0;32mif\u001b[0m \u001b[0;32mnot\u001b[0m \u001b[0mself\u001b[0m\u001b[0;34m.\u001b[0m\u001b[0mf_updated\u001b[0m\u001b[0;34m:\u001b[0m\u001b[0;34m\u001b[0m\u001b[0;34m\u001b[0m\u001b[0m\n\u001b[0;32m--> 166\u001b[0;31m             \u001b[0mself\u001b[0m\u001b[0;34m.\u001b[0m\u001b[0m_update_fun_impl\u001b[0m\u001b[0;34m(\u001b[0m\u001b[0;34m)\u001b[0m\u001b[0;34m\u001b[0m\u001b[0;34m\u001b[0m\u001b[0m\n\u001b[0m\u001b[1;32m    167\u001b[0m             \u001b[0mself\u001b[0m\u001b[0;34m.\u001b[0m\u001b[0mf_updated\u001b[0m \u001b[0;34m=\u001b[0m \u001b[0;32mTrue\u001b[0m\u001b[0;34m\u001b[0m\u001b[0;34m\u001b[0m\u001b[0m\n\u001b[1;32m    168\u001b[0m \u001b[0;34m\u001b[0m\u001b[0m\n",
            "\u001b[0;32m/usr/local/lib/python3.7/dist-packages/scipy/optimize/_differentiable_functions.py\u001b[0m in \u001b[0;36mupdate_fun\u001b[0;34m()\u001b[0m\n\u001b[1;32m     71\u001b[0m \u001b[0;34m\u001b[0m\u001b[0m\n\u001b[1;32m     72\u001b[0m         \u001b[0;32mdef\u001b[0m \u001b[0mupdate_fun\u001b[0m\u001b[0;34m(\u001b[0m\u001b[0;34m)\u001b[0m\u001b[0;34m:\u001b[0m\u001b[0;34m\u001b[0m\u001b[0;34m\u001b[0m\u001b[0m\n\u001b[0;32m---> 73\u001b[0;31m             \u001b[0mself\u001b[0m\u001b[0;34m.\u001b[0m\u001b[0mf\u001b[0m \u001b[0;34m=\u001b[0m \u001b[0mfun_wrapped\u001b[0m\u001b[0;34m(\u001b[0m\u001b[0mself\u001b[0m\u001b[0;34m.\u001b[0m\u001b[0mx\u001b[0m\u001b[0;34m)\u001b[0m\u001b[0;34m\u001b[0m\u001b[0;34m\u001b[0m\u001b[0m\n\u001b[0m\u001b[1;32m     74\u001b[0m \u001b[0;34m\u001b[0m\u001b[0m\n\u001b[1;32m     75\u001b[0m         \u001b[0mself\u001b[0m\u001b[0;34m.\u001b[0m\u001b[0m_update_fun_impl\u001b[0m \u001b[0;34m=\u001b[0m \u001b[0mupdate_fun\u001b[0m\u001b[0;34m\u001b[0m\u001b[0;34m\u001b[0m\u001b[0m\n",
            "\u001b[0;32m/usr/local/lib/python3.7/dist-packages/scipy/optimize/_differentiable_functions.py\u001b[0m in \u001b[0;36mfun_wrapped\u001b[0;34m(x)\u001b[0m\n\u001b[1;32m     68\u001b[0m         \u001b[0;32mdef\u001b[0m \u001b[0mfun_wrapped\u001b[0m\u001b[0;34m(\u001b[0m\u001b[0mx\u001b[0m\u001b[0;34m)\u001b[0m\u001b[0;34m:\u001b[0m\u001b[0;34m\u001b[0m\u001b[0;34m\u001b[0m\u001b[0m\n\u001b[1;32m     69\u001b[0m             \u001b[0mself\u001b[0m\u001b[0;34m.\u001b[0m\u001b[0mnfev\u001b[0m \u001b[0;34m+=\u001b[0m \u001b[0;36m1\u001b[0m\u001b[0;34m\u001b[0m\u001b[0;34m\u001b[0m\u001b[0m\n\u001b[0;32m---> 70\u001b[0;31m             \u001b[0;32mreturn\u001b[0m \u001b[0mfun\u001b[0m\u001b[0;34m(\u001b[0m\u001b[0mx\u001b[0m\u001b[0;34m,\u001b[0m \u001b[0;34m*\u001b[0m\u001b[0margs\u001b[0m\u001b[0;34m)\u001b[0m\u001b[0;34m\u001b[0m\u001b[0;34m\u001b[0m\u001b[0m\n\u001b[0m\u001b[1;32m     71\u001b[0m \u001b[0;34m\u001b[0m\u001b[0m\n\u001b[1;32m     72\u001b[0m         \u001b[0;32mdef\u001b[0m \u001b[0mupdate_fun\u001b[0m\u001b[0;34m(\u001b[0m\u001b[0;34m)\u001b[0m\u001b[0;34m:\u001b[0m\u001b[0;34m\u001b[0m\u001b[0;34m\u001b[0m\u001b[0m\n",
            "\u001b[0;32m/usr/local/lib/python3.7/dist-packages/scipy/optimize/optimize.py\u001b[0m in \u001b[0;36m__call__\u001b[0;34m(self, x, *args)\u001b[0m\n\u001b[1;32m     72\u001b[0m     \u001b[0;32mdef\u001b[0m \u001b[0m__call__\u001b[0m\u001b[0;34m(\u001b[0m\u001b[0mself\u001b[0m\u001b[0;34m,\u001b[0m \u001b[0mx\u001b[0m\u001b[0;34m,\u001b[0m \u001b[0;34m*\u001b[0m\u001b[0margs\u001b[0m\u001b[0;34m)\u001b[0m\u001b[0;34m:\u001b[0m\u001b[0;34m\u001b[0m\u001b[0;34m\u001b[0m\u001b[0m\n\u001b[1;32m     73\u001b[0m         \u001b[0;34m\"\"\" returns the the function value \"\"\"\u001b[0m\u001b[0;34m\u001b[0m\u001b[0;34m\u001b[0m\u001b[0m\n\u001b[0;32m---> 74\u001b[0;31m         \u001b[0mself\u001b[0m\u001b[0;34m.\u001b[0m\u001b[0m_compute_if_needed\u001b[0m\u001b[0;34m(\u001b[0m\u001b[0mx\u001b[0m\u001b[0;34m,\u001b[0m \u001b[0;34m*\u001b[0m\u001b[0margs\u001b[0m\u001b[0;34m)\u001b[0m\u001b[0;34m\u001b[0m\u001b[0;34m\u001b[0m\u001b[0m\n\u001b[0m\u001b[1;32m     75\u001b[0m         \u001b[0;32mreturn\u001b[0m \u001b[0mself\u001b[0m\u001b[0;34m.\u001b[0m\u001b[0m_value\u001b[0m\u001b[0;34m\u001b[0m\u001b[0;34m\u001b[0m\u001b[0m\n\u001b[1;32m     76\u001b[0m \u001b[0;34m\u001b[0m\u001b[0m\n",
            "\u001b[0;32m/usr/local/lib/python3.7/dist-packages/scipy/optimize/optimize.py\u001b[0m in \u001b[0;36m_compute_if_needed\u001b[0;34m(self, x, *args)\u001b[0m\n\u001b[1;32m     66\u001b[0m         \u001b[0;32mif\u001b[0m \u001b[0;32mnot\u001b[0m \u001b[0mnp\u001b[0m\u001b[0;34m.\u001b[0m\u001b[0mall\u001b[0m\u001b[0;34m(\u001b[0m\u001b[0mx\u001b[0m \u001b[0;34m==\u001b[0m \u001b[0mself\u001b[0m\u001b[0;34m.\u001b[0m\u001b[0mx\u001b[0m\u001b[0;34m)\u001b[0m \u001b[0;32mor\u001b[0m \u001b[0mself\u001b[0m\u001b[0;34m.\u001b[0m\u001b[0m_value\u001b[0m \u001b[0;32mis\u001b[0m \u001b[0;32mNone\u001b[0m \u001b[0;32mor\u001b[0m \u001b[0mself\u001b[0m\u001b[0;34m.\u001b[0m\u001b[0mjac\u001b[0m \u001b[0;32mis\u001b[0m \u001b[0;32mNone\u001b[0m\u001b[0;34m:\u001b[0m\u001b[0;34m\u001b[0m\u001b[0;34m\u001b[0m\u001b[0m\n\u001b[1;32m     67\u001b[0m             \u001b[0mself\u001b[0m\u001b[0;34m.\u001b[0m\u001b[0mx\u001b[0m \u001b[0;34m=\u001b[0m \u001b[0mnp\u001b[0m\u001b[0;34m.\u001b[0m\u001b[0masarray\u001b[0m\u001b[0;34m(\u001b[0m\u001b[0mx\u001b[0m\u001b[0;34m)\u001b[0m\u001b[0;34m.\u001b[0m\u001b[0mcopy\u001b[0m\u001b[0;34m(\u001b[0m\u001b[0;34m)\u001b[0m\u001b[0;34m\u001b[0m\u001b[0;34m\u001b[0m\u001b[0m\n\u001b[0;32m---> 68\u001b[0;31m             \u001b[0mfg\u001b[0m \u001b[0;34m=\u001b[0m \u001b[0mself\u001b[0m\u001b[0;34m.\u001b[0m\u001b[0mfun\u001b[0m\u001b[0;34m(\u001b[0m\u001b[0mx\u001b[0m\u001b[0;34m,\u001b[0m \u001b[0;34m*\u001b[0m\u001b[0margs\u001b[0m\u001b[0;34m)\u001b[0m\u001b[0;34m\u001b[0m\u001b[0;34m\u001b[0m\u001b[0m\n\u001b[0m\u001b[1;32m     69\u001b[0m             \u001b[0mself\u001b[0m\u001b[0;34m.\u001b[0m\u001b[0mjac\u001b[0m \u001b[0;34m=\u001b[0m \u001b[0mfg\u001b[0m\u001b[0;34m[\u001b[0m\u001b[0;36m1\u001b[0m\u001b[0;34m]\u001b[0m\u001b[0;34m\u001b[0m\u001b[0;34m\u001b[0m\u001b[0m\n\u001b[1;32m     70\u001b[0m             \u001b[0mself\u001b[0m\u001b[0;34m.\u001b[0m\u001b[0m_value\u001b[0m \u001b[0;34m=\u001b[0m \u001b[0mfg\u001b[0m\u001b[0;34m[\u001b[0m\u001b[0;36m0\u001b[0m\u001b[0;34m]\u001b[0m\u001b[0;34m\u001b[0m\u001b[0;34m\u001b[0m\u001b[0m\n",
            "\u001b[0;32m/usr/local/lib/python3.7/dist-packages/sklearn/gaussian_process/_gpr.py\u001b[0m in \u001b[0;36mobj_func\u001b[0;34m(theta, eval_gradient)\u001b[0m\n\u001b[1;32m    261\u001b[0m                 \u001b[0;32mif\u001b[0m \u001b[0meval_gradient\u001b[0m\u001b[0;34m:\u001b[0m\u001b[0;34m\u001b[0m\u001b[0;34m\u001b[0m\u001b[0m\n\u001b[1;32m    262\u001b[0m                     lml, grad = self.log_marginal_likelihood(\n\u001b[0;32m--> 263\u001b[0;31m                         \u001b[0mtheta\u001b[0m\u001b[0;34m,\u001b[0m \u001b[0meval_gradient\u001b[0m\u001b[0;34m=\u001b[0m\u001b[0;32mTrue\u001b[0m\u001b[0;34m,\u001b[0m \u001b[0mclone_kernel\u001b[0m\u001b[0;34m=\u001b[0m\u001b[0;32mFalse\u001b[0m\u001b[0;34m\u001b[0m\u001b[0;34m\u001b[0m\u001b[0m\n\u001b[0m\u001b[1;32m    264\u001b[0m                     )\n\u001b[1;32m    265\u001b[0m                     \u001b[0;32mreturn\u001b[0m \u001b[0;34m-\u001b[0m\u001b[0mlml\u001b[0m\u001b[0;34m,\u001b[0m \u001b[0;34m-\u001b[0m\u001b[0mgrad\u001b[0m\u001b[0;34m\u001b[0m\u001b[0;34m\u001b[0m\u001b[0m\n",
            "\u001b[0;32m/usr/local/lib/python3.7/dist-packages/sklearn/gaussian_process/_gpr.py\u001b[0m in \u001b[0;36mlog_marginal_likelihood\u001b[0;34m(self, theta, eval_gradient, clone_kernel)\u001b[0m\n\u001b[1;32m    532\u001b[0m         \u001b[0mK\u001b[0m\u001b[0;34m[\u001b[0m\u001b[0mnp\u001b[0m\u001b[0;34m.\u001b[0m\u001b[0mdiag_indices_from\u001b[0m\u001b[0;34m(\u001b[0m\u001b[0mK\u001b[0m\u001b[0;34m)\u001b[0m\u001b[0;34m]\u001b[0m \u001b[0;34m+=\u001b[0m \u001b[0mself\u001b[0m\u001b[0;34m.\u001b[0m\u001b[0malpha\u001b[0m\u001b[0;34m\u001b[0m\u001b[0;34m\u001b[0m\u001b[0m\n\u001b[1;32m    533\u001b[0m         \u001b[0;32mtry\u001b[0m\u001b[0;34m:\u001b[0m\u001b[0;34m\u001b[0m\u001b[0;34m\u001b[0m\u001b[0m\n\u001b[0;32m--> 534\u001b[0;31m             \u001b[0mL\u001b[0m \u001b[0;34m=\u001b[0m \u001b[0mcholesky\u001b[0m\u001b[0;34m(\u001b[0m\u001b[0mK\u001b[0m\u001b[0;34m,\u001b[0m \u001b[0mlower\u001b[0m\u001b[0;34m=\u001b[0m\u001b[0mGPR_CHOLESKY_LOWER\u001b[0m\u001b[0;34m,\u001b[0m \u001b[0mcheck_finite\u001b[0m\u001b[0;34m=\u001b[0m\u001b[0;32mFalse\u001b[0m\u001b[0;34m)\u001b[0m\u001b[0;34m\u001b[0m\u001b[0;34m\u001b[0m\u001b[0m\n\u001b[0m\u001b[1;32m    535\u001b[0m         \u001b[0;32mexcept\u001b[0m \u001b[0mnp\u001b[0m\u001b[0;34m.\u001b[0m\u001b[0mlinalg\u001b[0m\u001b[0;34m.\u001b[0m\u001b[0mLinAlgError\u001b[0m\u001b[0;34m:\u001b[0m\u001b[0;34m\u001b[0m\u001b[0;34m\u001b[0m\u001b[0m\n\u001b[1;32m    536\u001b[0m             \u001b[0;32mreturn\u001b[0m \u001b[0;34m(\u001b[0m\u001b[0;34m-\u001b[0m\u001b[0mnp\u001b[0m\u001b[0;34m.\u001b[0m\u001b[0minf\u001b[0m\u001b[0;34m,\u001b[0m \u001b[0mnp\u001b[0m\u001b[0;34m.\u001b[0m\u001b[0mzeros_like\u001b[0m\u001b[0;34m(\u001b[0m\u001b[0mtheta\u001b[0m\u001b[0;34m)\u001b[0m\u001b[0;34m)\u001b[0m \u001b[0;32mif\u001b[0m \u001b[0meval_gradient\u001b[0m \u001b[0;32melse\u001b[0m \u001b[0;34m-\u001b[0m\u001b[0mnp\u001b[0m\u001b[0;34m.\u001b[0m\u001b[0minf\u001b[0m\u001b[0;34m\u001b[0m\u001b[0;34m\u001b[0m\u001b[0m\n",
            "\u001b[0;32m/usr/local/lib/python3.7/dist-packages/scipy/linalg/decomp_cholesky.py\u001b[0m in \u001b[0;36mcholesky\u001b[0;34m(a, lower, overwrite_a, check_finite)\u001b[0m\n\u001b[1;32m     87\u001b[0m     \"\"\"\n\u001b[1;32m     88\u001b[0m     c, lower = _cholesky(a, lower=lower, overwrite_a=overwrite_a, clean=True,\n\u001b[0;32m---> 89\u001b[0;31m                          check_finite=check_finite)\n\u001b[0m\u001b[1;32m     90\u001b[0m     \u001b[0;32mreturn\u001b[0m \u001b[0mc\u001b[0m\u001b[0;34m\u001b[0m\u001b[0;34m\u001b[0m\u001b[0m\n\u001b[1;32m     91\u001b[0m \u001b[0;34m\u001b[0m\u001b[0m\n",
            "\u001b[0;32m/usr/local/lib/python3.7/dist-packages/scipy/linalg/decomp_cholesky.py\u001b[0m in \u001b[0;36m_cholesky\u001b[0;34m(a, lower, overwrite_a, clean, check_finite)\u001b[0m\n\u001b[1;32m     33\u001b[0m     \u001b[0moverwrite_a\u001b[0m \u001b[0;34m=\u001b[0m \u001b[0moverwrite_a\u001b[0m \u001b[0;32mor\u001b[0m \u001b[0m_datacopied\u001b[0m\u001b[0;34m(\u001b[0m\u001b[0ma1\u001b[0m\u001b[0;34m,\u001b[0m \u001b[0ma\u001b[0m\u001b[0;34m)\u001b[0m\u001b[0;34m\u001b[0m\u001b[0;34m\u001b[0m\u001b[0m\n\u001b[1;32m     34\u001b[0m     \u001b[0mpotrf\u001b[0m\u001b[0;34m,\u001b[0m \u001b[0;34m=\u001b[0m \u001b[0mget_lapack_funcs\u001b[0m\u001b[0;34m(\u001b[0m\u001b[0;34m(\u001b[0m\u001b[0;34m'potrf'\u001b[0m\u001b[0;34m,\u001b[0m\u001b[0;34m)\u001b[0m\u001b[0;34m,\u001b[0m \u001b[0;34m(\u001b[0m\u001b[0ma1\u001b[0m\u001b[0;34m,\u001b[0m\u001b[0;34m)\u001b[0m\u001b[0;34m)\u001b[0m\u001b[0;34m\u001b[0m\u001b[0;34m\u001b[0m\u001b[0m\n\u001b[0;32m---> 35\u001b[0;31m     \u001b[0mc\u001b[0m\u001b[0;34m,\u001b[0m \u001b[0minfo\u001b[0m \u001b[0;34m=\u001b[0m \u001b[0mpotrf\u001b[0m\u001b[0;34m(\u001b[0m\u001b[0ma1\u001b[0m\u001b[0;34m,\u001b[0m \u001b[0mlower\u001b[0m\u001b[0;34m=\u001b[0m\u001b[0mlower\u001b[0m\u001b[0;34m,\u001b[0m \u001b[0moverwrite_a\u001b[0m\u001b[0;34m=\u001b[0m\u001b[0moverwrite_a\u001b[0m\u001b[0;34m,\u001b[0m \u001b[0mclean\u001b[0m\u001b[0;34m=\u001b[0m\u001b[0mclean\u001b[0m\u001b[0;34m)\u001b[0m\u001b[0;34m\u001b[0m\u001b[0;34m\u001b[0m\u001b[0m\n\u001b[0m\u001b[1;32m     36\u001b[0m     \u001b[0;32mif\u001b[0m \u001b[0minfo\u001b[0m \u001b[0;34m>\u001b[0m \u001b[0;36m0\u001b[0m\u001b[0;34m:\u001b[0m\u001b[0;34m\u001b[0m\u001b[0;34m\u001b[0m\u001b[0m\n\u001b[1;32m     37\u001b[0m         raise LinAlgError(\"%d-th leading minor of the array is not positive \"\n",
            "\u001b[0;31mKeyboardInterrupt\u001b[0m: "
          ]
        }
      ],
      "source": [
        "## Define Estimator\n",
        "estimator = GradientBoostingClassifier(random_state=1206, loss='deviance', criterion='friedman_mse', warm_start=True)\n",
        "## Define Parameters\n",
        "params = {'n_estimators': Integer(100, 1000, prior='uniform'),\n",
        "          'min_samples_leaf': Integer(1, 8, prior='uniform'),\n",
        "          'min_samples_split': Integer(2, 16, prior='uniform'),\n",
        "          'max_depth': Integer(2, 32, prior='uniform'),\n",
        "          'subsample': Real(0.75, 1, prior='uniform'),\n",
        "          'learning_rate': Real(1e-5, 10, prior='log-uniform'),\n",
        "          'max_features': Categorical(['sqrt','log2'], transform='onehot')}\n",
        "## HP Optimization\n",
        "bst_res_ove = optimizationPipeline(estimator,params,x_train_smt,y_train_smt,metric_optimize,strat_cv_5folds,\n",
        "                                   opt_option='bayes',n_iter=100)"
      ]
    },
    {
      "cell_type": "markdown",
      "metadata": {
        "id": "sbAvxxzNUtTC"
      },
      "source": [
        "### Gradient Boosting imbalnced "
      ]
    },
    {
      "cell_type": "code",
      "execution_count": null,
      "metadata": {
        "outputId": "9182aefe-b8b3-4c9c-be66-307ce9c64ade",
        "colab": {
          "base_uri": "https://localhost:8080/"
        },
        "id": "_rFnOdaUUtTG"
      },
      "outputs": [
        {
          "output_type": "stream",
          "name": "stdout",
          "text": [
            "#####################################################\n",
            "Model: GradientBoostingClassifier\n",
            "Metric:  f1  | Score (%):  50.3\n",
            "Best Parameters:  OrderedDict([('learning_rate', 0.6410921070892291), ('max_depth', 32), ('max_features', 'sqrt'), ('min_samples_leaf', 8), ('min_samples_split', 8), ('n_estimators', 100), ('subsample', 1.0)])\n",
            "#####################################################\n",
            "\n"
          ]
        }
      ],
      "source": [
        "## Define Estimator\n",
        "estimator = GradientBoostingClassifier(random_state=1206, loss='deviance', criterion='friedman_mse', warm_start=True)\n",
        "## Define Parameters\n",
        "params = {'n_estimators': Integer(100, 1000, prior='uniform'),\n",
        "          'min_samples_leaf': Integer(1, 8, prior='uniform'),\n",
        "          'min_samples_split': Integer(2, 16, prior='uniform'),\n",
        "          'max_depth': Integer(2, 32, prior='uniform'),\n",
        "          'subsample': Real(0.75, 1, prior='uniform'),\n",
        "          'learning_rate': Real(1e-5, 10, prior='log-uniform'),\n",
        "          'max_features': Categorical(['sqrt','log2'], transform='onehot')}\n",
        "## HP Optimization\n",
        "bst_res_ove = optimizationPipeline(estimator,params,x_train,y_train ,metric_optimize,strat_cv_5folds,\n",
        "                                   opt_option='bayes',n_iter=100)"
      ]
    },
    {
      "cell_type": "markdown",
      "metadata": {
        "id": "NwVC7-PPcW5M"
      },
      "source": [
        "\n",
        "\n",
        "```\n",
        "# This is formatted as code\n",
        "```\n",
        "\n",
        "### XGBoost oversampled\n"
      ]
    },
    {
      "cell_type": "code",
      "execution_count": null,
      "metadata": {
        "id": "W0Fhf9ogcW5M",
        "outputId": "323a8314-7251-43c8-f493-081f67bcbcd0",
        "colab": {
          "base_uri": "https://localhost:8080/"
        }
      },
      "outputs": [
        {
          "output_type": "stream",
          "name": "stdout",
          "text": [
            "#####################################################\n",
            "Model: XGBClassifier\n",
            "Metric:  f1  | Score (%):  94.65599999999999\n",
            "Best Parameters:  OrderedDict([('colsample_bytree', 1.0), ('gamma', 0.0001), ('learning_rate', 0.6498023209664956), ('max_depth', 7), ('min_child_weight', 1), ('n_estimators', 693), ('reg_alpha', 0.001), ('reg_lambda', 10.0), ('scale_pos_weight', 0.9228096215629069), ('subsample', 0.75)])\n",
            "#####################################################\n",
            "\n"
          ]
        }
      ],
      "source": [
        "## Define Estimator\n",
        "estimator = XGBClassifier(objective='binary:logistic',random_state=1206,booster='gbtree', eval_metric='logloss')\n",
        "## Define Parameters\n",
        "params = {'n_estimators': Integer(100, 1000, prior='uniform'),\n",
        "          'min_child_weight': Integer(1, 10, prior='uniform'),\n",
        "          'max_depth': Integer(2, 32, prior='uniform'),\n",
        "          'subsample': Real(0.75, 1, prior='uniform'),\n",
        "          'colsample_bytree': Real(0.75, 1, prior='uniform'),\n",
        "          'scale_pos_weight': Real(0.75, 1, prior='uniform'),\n",
        "          'learning_rate': Real(1e-6, 10, prior='log-uniform'),\n",
        "          'gamma': Real(1e-4, 10, prior='log-uniform'),\n",
        "          'reg_alpha': Real(1e-3, 10, prior='log-uniform'),\n",
        "          'reg_lambda': Real(1e-3, 10, prior='log-uniform')}\n",
        "## HP Optimization\n",
        "xgb_res_ove = optimizationPipeline(estimator,params,x_train_smt,y_train_smt,metric_optimize,strat_cv_5folds,\n",
        "                                   opt_option='bayes',n_iter=100)"
      ]
    },
    {
      "cell_type": "markdown",
      "metadata": {
        "id": "ouvnx7fwbxWl"
      },
      "source": [
        "### XGBoost imbalanced "
      ]
    },
    {
      "cell_type": "code",
      "execution_count": null,
      "metadata": {
        "outputId": "f13a9d98-2aa7-42c9-e410-d067b942da0b",
        "colab": {
          "base_uri": "https://localhost:8080/"
        },
        "id": "DgoZLFwqbxWr"
      },
      "outputs": [
        {
          "output_type": "stream",
          "name": "stdout",
          "text": [
            "#####################################################\n",
            "Model: XGBClassifier\n",
            "Metric:  f1  | Score (%):  45.111000000000004\n",
            "Best Parameters:  OrderedDict([('colsample_bytree', 0.802078857522152), ('gamma', 0.014391393532718445), ('learning_rate', 0.2752619704188678), ('max_depth', 27), ('min_child_weight', 7), ('n_estimators', 162), ('reg_alpha', 0.08201966342731955), ('reg_lambda', 0.002644907648702297), ('scale_pos_weight', 0.9354692268991764), ('subsample', 0.9009380661900361)])\n",
            "#####################################################\n",
            "\n"
          ]
        }
      ],
      "source": [
        "## Define Estimator\n",
        "estimator = XGBClassifier(objective='binary:logistic',random_state=1206,booster='gbtree', eval_metric='logloss')\n",
        "## Define Parameters\n",
        "params = {'n_estimators': Integer(100, 1000, prior='uniform'),\n",
        "          'min_child_weight': Integer(1, 10, prior='uniform'),\n",
        "          'max_depth': Integer(2, 32, prior='uniform'),\n",
        "          'subsample': Real(0.75, 1, prior='uniform'),\n",
        "          'colsample_bytree': Real(0.75, 1, prior='uniform'),\n",
        "          'scale_pos_weight': Real(0.75, 1, prior='uniform'),\n",
        "          'learning_rate': Real(1e-6, 10, prior='log-uniform'),\n",
        "          'gamma': Real(1e-4, 10, prior='log-uniform'),\n",
        "          'reg_alpha': Real(1e-3, 10, prior='log-uniform'),\n",
        "          'reg_lambda': Real(1e-3, 10, prior='log-uniform')}\n",
        "## HP Optimization\n",
        "xgb_res_ove = optimizationPipeline(estimator,params,x_train,y_train,metric_optimize,strat_cv_5folds,\n",
        "                                   opt_option='bayes',n_iter=100)"
      ]
    },
    {
      "cell_type": "markdown",
      "metadata": {
        "id": "Rq2zbHwTcW5N"
      },
      "source": [
        "## Saving BO5-CV results in a dataframe"
      ]
    },
    {
      "cell_type": "code",
      "execution_count": null,
      "metadata": {
        "id": "U1Un2iUucW5N"
      },
      "outputs": [],
      "source": [
        "# Columns to save for overall results\n",
        "cols_cv = ['split0_test_score', 'split1_test_score', 'split2_test_score','split3_test_score', 'split4_test_score', \n",
        "           'mean_test_score','std_test_score','rank_test_score']"
      ]
    },
    {
      "cell_type": "code",
      "execution_count": null,
      "metadata": {
        "id": "ohm1Z29IcW5O",
        "outputId": "645b3a57-91d3-475a-9d70-21d8c5588b67",
        "colab": {
          "base_uri": "https://localhost:8080/",
          "height": 896
        }
      },
      "outputs": [
        {
          "output_type": "execute_result",
          "data": {
            "text/plain": [
              "    split0_test_score  split1_test_score  split2_test_score  \\\n",
              "0            0.835165           0.847458           0.858696   \n",
              "1            0.977778           0.967033           0.977528   \n",
              "2            0.977778           0.967033           0.977528   \n",
              "3            0.977778           0.967033           0.977528   \n",
              "4            0.977778           0.967033           0.977528   \n",
              "5            0.977778           0.967033           0.977528   \n",
              "6            0.977778           0.967033           0.977528   \n",
              "7            0.977778           0.967033           0.977528   \n",
              "8            0.977778           0.967033           0.977528   \n",
              "9            0.977778           0.967033           0.977528   \n",
              "10           0.977778           0.967033           0.977528   \n",
              "11           0.977778           0.967033           0.977528   \n",
              "12           0.977778           0.967033           0.977528   \n",
              "13           0.977778           0.967033           0.977528   \n",
              "14           0.977778           0.967033           0.977528   \n",
              "15           0.977778           0.967033           0.977528   \n",
              "16           0.977778           0.967033           0.977528   \n",
              "17           0.977778           0.967033           0.977528   \n",
              "18           0.977778           0.967033           0.977528   \n",
              "19           0.977778           0.967033           0.977528   \n",
              "20           0.977778           0.967033           0.977528   \n",
              "21           0.956044           0.972067           0.977273   \n",
              "22           0.956044           0.972067           0.977273   \n",
              "23           0.956044           0.972067           0.977273   \n",
              "24           0.956044           0.972067           0.977273   \n",
              "25           0.972067           0.977528           0.982659   \n",
              "26           0.960894           0.966292           0.948571   \n",
              "\n",
              "    split3_test_score  split4_test_score  mean_test_score  std_test_score  \\\n",
              "0            0.834225           0.781250         0.831359        0.026609   \n",
              "1            0.910053           0.945652         0.955609        0.025600   \n",
              "2            0.910053           0.945652         0.955609        0.025600   \n",
              "3            0.910053           0.945652         0.955609        0.025600   \n",
              "4            0.910053           0.945652         0.955609        0.025600   \n",
              "5            0.910053           0.945652         0.955609        0.025600   \n",
              "6            0.910053           0.945652         0.955609        0.025600   \n",
              "7            0.910053           0.945652         0.955609        0.025600   \n",
              "8            0.910053           0.945652         0.955609        0.025600   \n",
              "9            0.910053           0.945652         0.955609        0.025600   \n",
              "10           0.910053           0.945652         0.955609        0.025600   \n",
              "11           0.910053           0.945652         0.955609        0.025600   \n",
              "12           0.910053           0.945652         0.955609        0.025600   \n",
              "13           0.910053           0.945652         0.955609        0.025600   \n",
              "14           0.910053           0.945652         0.955609        0.025600   \n",
              "15           0.910053           0.945652         0.955609        0.025600   \n",
              "16           0.910053           0.945652         0.955609        0.025600   \n",
              "17           0.910053           0.945652         0.955609        0.025600   \n",
              "18           0.910053           0.945652         0.955609        0.025600   \n",
              "19           0.910053           0.945652         0.955609        0.025600   \n",
              "20           0.910053           0.945652         0.955609        0.025600   \n",
              "21           0.933333           0.923913         0.952526        0.020946   \n",
              "22           0.933333           0.923913         0.952526        0.020946   \n",
              "23           0.933333           0.923913         0.952526        0.020946   \n",
              "24           0.933333           0.923913         0.952526        0.020946   \n",
              "25           0.939227           0.945652         0.963427        0.017578   \n",
              "26           0.939891           0.917127         0.946555        0.017376   \n",
              "\n",
              "    rank_test_score  \n",
              "0                 1  \n",
              "1                 1  \n",
              "2                 1  \n",
              "3                 1  \n",
              "4                 1  \n",
              "5                 1  \n",
              "6                 1  \n",
              "7                 1  \n",
              "8                 1  \n",
              "9                 1  \n",
              "10                1  \n",
              "11                1  \n",
              "12                1  \n",
              "13                1  \n",
              "14                1  \n",
              "15                1  \n",
              "16                1  \n",
              "17                1  \n",
              "18                1  \n",
              "19                1  \n",
              "20                1  \n",
              "21                1  \n",
              "22                1  \n",
              "23                1  \n",
              "24                1  \n",
              "25                1  \n",
              "26                1  "
            ],
            "text/html": [
              "\n",
              "  <div id=\"df-d13b590f-f335-4134-8fce-7d9bd818eeb8\">\n",
              "    <div class=\"colab-df-container\">\n",
              "      <div>\n",
              "<style scoped>\n",
              "    .dataframe tbody tr th:only-of-type {\n",
              "        vertical-align: middle;\n",
              "    }\n",
              "\n",
              "    .dataframe tbody tr th {\n",
              "        vertical-align: top;\n",
              "    }\n",
              "\n",
              "    .dataframe thead th {\n",
              "        text-align: right;\n",
              "    }\n",
              "</style>\n",
              "<table border=\"1\" class=\"dataframe\">\n",
              "  <thead>\n",
              "    <tr style=\"text-align: right;\">\n",
              "      <th></th>\n",
              "      <th>split0_test_score</th>\n",
              "      <th>split1_test_score</th>\n",
              "      <th>split2_test_score</th>\n",
              "      <th>split3_test_score</th>\n",
              "      <th>split4_test_score</th>\n",
              "      <th>mean_test_score</th>\n",
              "      <th>std_test_score</th>\n",
              "      <th>rank_test_score</th>\n",
              "    </tr>\n",
              "  </thead>\n",
              "  <tbody>\n",
              "    <tr>\n",
              "      <th>0</th>\n",
              "      <td>0.835165</td>\n",
              "      <td>0.847458</td>\n",
              "      <td>0.858696</td>\n",
              "      <td>0.834225</td>\n",
              "      <td>0.781250</td>\n",
              "      <td>0.831359</td>\n",
              "      <td>0.026609</td>\n",
              "      <td>1</td>\n",
              "    </tr>\n",
              "    <tr>\n",
              "      <th>1</th>\n",
              "      <td>0.977778</td>\n",
              "      <td>0.967033</td>\n",
              "      <td>0.977528</td>\n",
              "      <td>0.910053</td>\n",
              "      <td>0.945652</td>\n",
              "      <td>0.955609</td>\n",
              "      <td>0.025600</td>\n",
              "      <td>1</td>\n",
              "    </tr>\n",
              "    <tr>\n",
              "      <th>2</th>\n",
              "      <td>0.977778</td>\n",
              "      <td>0.967033</td>\n",
              "      <td>0.977528</td>\n",
              "      <td>0.910053</td>\n",
              "      <td>0.945652</td>\n",
              "      <td>0.955609</td>\n",
              "      <td>0.025600</td>\n",
              "      <td>1</td>\n",
              "    </tr>\n",
              "    <tr>\n",
              "      <th>3</th>\n",
              "      <td>0.977778</td>\n",
              "      <td>0.967033</td>\n",
              "      <td>0.977528</td>\n",
              "      <td>0.910053</td>\n",
              "      <td>0.945652</td>\n",
              "      <td>0.955609</td>\n",
              "      <td>0.025600</td>\n",
              "      <td>1</td>\n",
              "    </tr>\n",
              "    <tr>\n",
              "      <th>4</th>\n",
              "      <td>0.977778</td>\n",
              "      <td>0.967033</td>\n",
              "      <td>0.977528</td>\n",
              "      <td>0.910053</td>\n",
              "      <td>0.945652</td>\n",
              "      <td>0.955609</td>\n",
              "      <td>0.025600</td>\n",
              "      <td>1</td>\n",
              "    </tr>\n",
              "    <tr>\n",
              "      <th>5</th>\n",
              "      <td>0.977778</td>\n",
              "      <td>0.967033</td>\n",
              "      <td>0.977528</td>\n",
              "      <td>0.910053</td>\n",
              "      <td>0.945652</td>\n",
              "      <td>0.955609</td>\n",
              "      <td>0.025600</td>\n",
              "      <td>1</td>\n",
              "    </tr>\n",
              "    <tr>\n",
              "      <th>6</th>\n",
              "      <td>0.977778</td>\n",
              "      <td>0.967033</td>\n",
              "      <td>0.977528</td>\n",
              "      <td>0.910053</td>\n",
              "      <td>0.945652</td>\n",
              "      <td>0.955609</td>\n",
              "      <td>0.025600</td>\n",
              "      <td>1</td>\n",
              "    </tr>\n",
              "    <tr>\n",
              "      <th>7</th>\n",
              "      <td>0.977778</td>\n",
              "      <td>0.967033</td>\n",
              "      <td>0.977528</td>\n",
              "      <td>0.910053</td>\n",
              "      <td>0.945652</td>\n",
              "      <td>0.955609</td>\n",
              "      <td>0.025600</td>\n",
              "      <td>1</td>\n",
              "    </tr>\n",
              "    <tr>\n",
              "      <th>8</th>\n",
              "      <td>0.977778</td>\n",
              "      <td>0.967033</td>\n",
              "      <td>0.977528</td>\n",
              "      <td>0.910053</td>\n",
              "      <td>0.945652</td>\n",
              "      <td>0.955609</td>\n",
              "      <td>0.025600</td>\n",
              "      <td>1</td>\n",
              "    </tr>\n",
              "    <tr>\n",
              "      <th>9</th>\n",
              "      <td>0.977778</td>\n",
              "      <td>0.967033</td>\n",
              "      <td>0.977528</td>\n",
              "      <td>0.910053</td>\n",
              "      <td>0.945652</td>\n",
              "      <td>0.955609</td>\n",
              "      <td>0.025600</td>\n",
              "      <td>1</td>\n",
              "    </tr>\n",
              "    <tr>\n",
              "      <th>10</th>\n",
              "      <td>0.977778</td>\n",
              "      <td>0.967033</td>\n",
              "      <td>0.977528</td>\n",
              "      <td>0.910053</td>\n",
              "      <td>0.945652</td>\n",
              "      <td>0.955609</td>\n",
              "      <td>0.025600</td>\n",
              "      <td>1</td>\n",
              "    </tr>\n",
              "    <tr>\n",
              "      <th>11</th>\n",
              "      <td>0.977778</td>\n",
              "      <td>0.967033</td>\n",
              "      <td>0.977528</td>\n",
              "      <td>0.910053</td>\n",
              "      <td>0.945652</td>\n",
              "      <td>0.955609</td>\n",
              "      <td>0.025600</td>\n",
              "      <td>1</td>\n",
              "    </tr>\n",
              "    <tr>\n",
              "      <th>12</th>\n",
              "      <td>0.977778</td>\n",
              "      <td>0.967033</td>\n",
              "      <td>0.977528</td>\n",
              "      <td>0.910053</td>\n",
              "      <td>0.945652</td>\n",
              "      <td>0.955609</td>\n",
              "      <td>0.025600</td>\n",
              "      <td>1</td>\n",
              "    </tr>\n",
              "    <tr>\n",
              "      <th>13</th>\n",
              "      <td>0.977778</td>\n",
              "      <td>0.967033</td>\n",
              "      <td>0.977528</td>\n",
              "      <td>0.910053</td>\n",
              "      <td>0.945652</td>\n",
              "      <td>0.955609</td>\n",
              "      <td>0.025600</td>\n",
              "      <td>1</td>\n",
              "    </tr>\n",
              "    <tr>\n",
              "      <th>14</th>\n",
              "      <td>0.977778</td>\n",
              "      <td>0.967033</td>\n",
              "      <td>0.977528</td>\n",
              "      <td>0.910053</td>\n",
              "      <td>0.945652</td>\n",
              "      <td>0.955609</td>\n",
              "      <td>0.025600</td>\n",
              "      <td>1</td>\n",
              "    </tr>\n",
              "    <tr>\n",
              "      <th>15</th>\n",
              "      <td>0.977778</td>\n",
              "      <td>0.967033</td>\n",
              "      <td>0.977528</td>\n",
              "      <td>0.910053</td>\n",
              "      <td>0.945652</td>\n",
              "      <td>0.955609</td>\n",
              "      <td>0.025600</td>\n",
              "      <td>1</td>\n",
              "    </tr>\n",
              "    <tr>\n",
              "      <th>16</th>\n",
              "      <td>0.977778</td>\n",
              "      <td>0.967033</td>\n",
              "      <td>0.977528</td>\n",
              "      <td>0.910053</td>\n",
              "      <td>0.945652</td>\n",
              "      <td>0.955609</td>\n",
              "      <td>0.025600</td>\n",
              "      <td>1</td>\n",
              "    </tr>\n",
              "    <tr>\n",
              "      <th>17</th>\n",
              "      <td>0.977778</td>\n",
              "      <td>0.967033</td>\n",
              "      <td>0.977528</td>\n",
              "      <td>0.910053</td>\n",
              "      <td>0.945652</td>\n",
              "      <td>0.955609</td>\n",
              "      <td>0.025600</td>\n",
              "      <td>1</td>\n",
              "    </tr>\n",
              "    <tr>\n",
              "      <th>18</th>\n",
              "      <td>0.977778</td>\n",
              "      <td>0.967033</td>\n",
              "      <td>0.977528</td>\n",
              "      <td>0.910053</td>\n",
              "      <td>0.945652</td>\n",
              "      <td>0.955609</td>\n",
              "      <td>0.025600</td>\n",
              "      <td>1</td>\n",
              "    </tr>\n",
              "    <tr>\n",
              "      <th>19</th>\n",
              "      <td>0.977778</td>\n",
              "      <td>0.967033</td>\n",
              "      <td>0.977528</td>\n",
              "      <td>0.910053</td>\n",
              "      <td>0.945652</td>\n",
              "      <td>0.955609</td>\n",
              "      <td>0.025600</td>\n",
              "      <td>1</td>\n",
              "    </tr>\n",
              "    <tr>\n",
              "      <th>20</th>\n",
              "      <td>0.977778</td>\n",
              "      <td>0.967033</td>\n",
              "      <td>0.977528</td>\n",
              "      <td>0.910053</td>\n",
              "      <td>0.945652</td>\n",
              "      <td>0.955609</td>\n",
              "      <td>0.025600</td>\n",
              "      <td>1</td>\n",
              "    </tr>\n",
              "    <tr>\n",
              "      <th>21</th>\n",
              "      <td>0.956044</td>\n",
              "      <td>0.972067</td>\n",
              "      <td>0.977273</td>\n",
              "      <td>0.933333</td>\n",
              "      <td>0.923913</td>\n",
              "      <td>0.952526</td>\n",
              "      <td>0.020946</td>\n",
              "      <td>1</td>\n",
              "    </tr>\n",
              "    <tr>\n",
              "      <th>22</th>\n",
              "      <td>0.956044</td>\n",
              "      <td>0.972067</td>\n",
              "      <td>0.977273</td>\n",
              "      <td>0.933333</td>\n",
              "      <td>0.923913</td>\n",
              "      <td>0.952526</td>\n",
              "      <td>0.020946</td>\n",
              "      <td>1</td>\n",
              "    </tr>\n",
              "    <tr>\n",
              "      <th>23</th>\n",
              "      <td>0.956044</td>\n",
              "      <td>0.972067</td>\n",
              "      <td>0.977273</td>\n",
              "      <td>0.933333</td>\n",
              "      <td>0.923913</td>\n",
              "      <td>0.952526</td>\n",
              "      <td>0.020946</td>\n",
              "      <td>1</td>\n",
              "    </tr>\n",
              "    <tr>\n",
              "      <th>24</th>\n",
              "      <td>0.956044</td>\n",
              "      <td>0.972067</td>\n",
              "      <td>0.977273</td>\n",
              "      <td>0.933333</td>\n",
              "      <td>0.923913</td>\n",
              "      <td>0.952526</td>\n",
              "      <td>0.020946</td>\n",
              "      <td>1</td>\n",
              "    </tr>\n",
              "    <tr>\n",
              "      <th>25</th>\n",
              "      <td>0.972067</td>\n",
              "      <td>0.977528</td>\n",
              "      <td>0.982659</td>\n",
              "      <td>0.939227</td>\n",
              "      <td>0.945652</td>\n",
              "      <td>0.963427</td>\n",
              "      <td>0.017578</td>\n",
              "      <td>1</td>\n",
              "    </tr>\n",
              "    <tr>\n",
              "      <th>26</th>\n",
              "      <td>0.960894</td>\n",
              "      <td>0.966292</td>\n",
              "      <td>0.948571</td>\n",
              "      <td>0.939891</td>\n",
              "      <td>0.917127</td>\n",
              "      <td>0.946555</td>\n",
              "      <td>0.017376</td>\n",
              "      <td>1</td>\n",
              "    </tr>\n",
              "  </tbody>\n",
              "</table>\n",
              "</div>\n",
              "      <button class=\"colab-df-convert\" onclick=\"convertToInteractive('df-d13b590f-f335-4134-8fce-7d9bd818eeb8')\"\n",
              "              title=\"Convert this dataframe to an interactive table.\"\n",
              "              style=\"display:none;\">\n",
              "        \n",
              "  <svg xmlns=\"http://www.w3.org/2000/svg\" height=\"24px\"viewBox=\"0 0 24 24\"\n",
              "       width=\"24px\">\n",
              "    <path d=\"M0 0h24v24H0V0z\" fill=\"none\"/>\n",
              "    <path d=\"M18.56 5.44l.94 2.06.94-2.06 2.06-.94-2.06-.94-.94-2.06-.94 2.06-2.06.94zm-11 1L8.5 8.5l.94-2.06 2.06-.94-2.06-.94L8.5 2.5l-.94 2.06-2.06.94zm10 10l.94 2.06.94-2.06 2.06-.94-2.06-.94-.94-2.06-.94 2.06-2.06.94z\"/><path d=\"M17.41 7.96l-1.37-1.37c-.4-.4-.92-.59-1.43-.59-.52 0-1.04.2-1.43.59L10.3 9.45l-7.72 7.72c-.78.78-.78 2.05 0 2.83L4 21.41c.39.39.9.59 1.41.59.51 0 1.02-.2 1.41-.59l7.78-7.78 2.81-2.81c.8-.78.8-2.07 0-2.86zM5.41 20L4 18.59l7.72-7.72 1.47 1.35L5.41 20z\"/>\n",
              "  </svg>\n",
              "      </button>\n",
              "      \n",
              "  <style>\n",
              "    .colab-df-container {\n",
              "      display:flex;\n",
              "      flex-wrap:wrap;\n",
              "      gap: 12px;\n",
              "    }\n",
              "\n",
              "    .colab-df-convert {\n",
              "      background-color: #E8F0FE;\n",
              "      border: none;\n",
              "      border-radius: 50%;\n",
              "      cursor: pointer;\n",
              "      display: none;\n",
              "      fill: #1967D2;\n",
              "      height: 32px;\n",
              "      padding: 0 0 0 0;\n",
              "      width: 32px;\n",
              "    }\n",
              "\n",
              "    .colab-df-convert:hover {\n",
              "      background-color: #E2EBFA;\n",
              "      box-shadow: 0px 1px 2px rgba(60, 64, 67, 0.3), 0px 1px 3px 1px rgba(60, 64, 67, 0.15);\n",
              "      fill: #174EA6;\n",
              "    }\n",
              "\n",
              "    [theme=dark] .colab-df-convert {\n",
              "      background-color: #3B4455;\n",
              "      fill: #D2E3FC;\n",
              "    }\n",
              "\n",
              "    [theme=dark] .colab-df-convert:hover {\n",
              "      background-color: #434B5C;\n",
              "      box-shadow: 0px 1px 3px 1px rgba(0, 0, 0, 0.15);\n",
              "      filter: drop-shadow(0px 1px 2px rgba(0, 0, 0, 0.3));\n",
              "      fill: #FFFFFF;\n",
              "    }\n",
              "  </style>\n",
              "\n",
              "      <script>\n",
              "        const buttonEl =\n",
              "          document.querySelector('#df-d13b590f-f335-4134-8fce-7d9bd818eeb8 button.colab-df-convert');\n",
              "        buttonEl.style.display =\n",
              "          google.colab.kernel.accessAllowed ? 'block' : 'none';\n",
              "\n",
              "        async function convertToInteractive(key) {\n",
              "          const element = document.querySelector('#df-d13b590f-f335-4134-8fce-7d9bd818eeb8');\n",
              "          const dataTable =\n",
              "            await google.colab.kernel.invokeFunction('convertToInteractive',\n",
              "                                                     [key], {});\n",
              "          if (!dataTable) return;\n",
              "\n",
              "          const docLinkHtml = 'Like what you see? Visit the ' +\n",
              "            '<a target=\"_blank\" href=https://colab.research.google.com/notebooks/data_table.ipynb>data table notebook</a>'\n",
              "            + ' to learn more about interactive tables.';\n",
              "          element.innerHTML = '';\n",
              "          dataTable['output_type'] = 'display_data';\n",
              "          await google.colab.output.renderOutput(dataTable, element);\n",
              "          const docLink = document.createElement('div');\n",
              "          docLink.innerHTML = docLinkHtml;\n",
              "          element.appendChild(docLink);\n",
              "        }\n",
              "      </script>\n",
              "    </div>\n",
              "  </div>\n",
              "  "
            ]
          },
          "metadata": {},
          "execution_count": 36
        }
      ],
      "source": [
        "# Creating df with B05CV results for all models\n",
        "df_bo5cv_bests = lre_res_ove['cv_res'].loc[lre_res_ove['cv_res']['rank_test_score'] == 1][cols_cv]\n",
        "df_bo5cv_bests = df_bo5cv_bests.append(svm_res_ove['cv_res'].loc[svm_res_ove['cv_res']['rank_test_score'] == 1][cols_cv])\n",
        "df_bo5cv_bests = df_bo5cv_bests.append(rfc_res_ove['cv_res'].loc[rfc_res_ove['cv_res']['rank_test_score'] == 1][cols_cv])\n",
        "df_bo5cv_bests = df_bo5cv_bests.append(bst_res_ove['cv_res'].loc[bst_res_ove['cv_res']['rank_test_score'] == 1][cols_cv])\n",
        "df_bo5cv_bests = df_bo5cv_bests.append(xgb_res_ove['cv_res'].loc[xgb_res_ove['cv_res']['rank_test_score'] == 1][cols_cv])\n",
        "df_bo5cv_bests.reset_index(drop=True, inplace=True)\n",
        "df_bo5cv_bests"
      ]
    },
    {
      "cell_type": "code",
      "execution_count": null,
      "metadata": {
        "id": "tPOI5E5EcW5P",
        "outputId": "4ef6acaf-cc96-46c2-9bce-f37bcbbbbc80",
        "colab": {
          "base_uri": "https://localhost:8080/",
          "height": 206
        }
      },
      "outputs": [
        {
          "output_type": "execute_result",
          "data": {
            "text/plain": [
              "   split0_test_score  split1_test_score  split2_test_score  split3_test_score  \\\n",
              "0           0.835165           0.847458           0.858696           0.834225   \n",
              "1           0.977778           0.967033           0.977528           0.910053   \n",
              "2           0.977778           0.967033           0.977528           0.910053   \n",
              "3           0.977778           0.967033           0.977528           0.910053   \n",
              "4           0.977778           0.967033           0.977528           0.910053   \n",
              "\n",
              "   split4_test_score  mean_test_score  std_test_score  rank_test_score  \n",
              "0           0.781250         0.831359        0.026609                1  \n",
              "1           0.945652         0.955609        0.025600                1  \n",
              "2           0.945652         0.955609        0.025600                1  \n",
              "3           0.945652         0.955609        0.025600                1  \n",
              "4           0.945652         0.955609        0.025600                1  "
            ],
            "text/html": [
              "\n",
              "  <div id=\"df-df5f1226-a389-48c8-bedd-0e1a7304bfbc\">\n",
              "    <div class=\"colab-df-container\">\n",
              "      <div>\n",
              "<style scoped>\n",
              "    .dataframe tbody tr th:only-of-type {\n",
              "        vertical-align: middle;\n",
              "    }\n",
              "\n",
              "    .dataframe tbody tr th {\n",
              "        vertical-align: top;\n",
              "    }\n",
              "\n",
              "    .dataframe thead th {\n",
              "        text-align: right;\n",
              "    }\n",
              "</style>\n",
              "<table border=\"1\" class=\"dataframe\">\n",
              "  <thead>\n",
              "    <tr style=\"text-align: right;\">\n",
              "      <th></th>\n",
              "      <th>split0_test_score</th>\n",
              "      <th>split1_test_score</th>\n",
              "      <th>split2_test_score</th>\n",
              "      <th>split3_test_score</th>\n",
              "      <th>split4_test_score</th>\n",
              "      <th>mean_test_score</th>\n",
              "      <th>std_test_score</th>\n",
              "      <th>rank_test_score</th>\n",
              "    </tr>\n",
              "  </thead>\n",
              "  <tbody>\n",
              "    <tr>\n",
              "      <th>0</th>\n",
              "      <td>0.835165</td>\n",
              "      <td>0.847458</td>\n",
              "      <td>0.858696</td>\n",
              "      <td>0.834225</td>\n",
              "      <td>0.781250</td>\n",
              "      <td>0.831359</td>\n",
              "      <td>0.026609</td>\n",
              "      <td>1</td>\n",
              "    </tr>\n",
              "    <tr>\n",
              "      <th>1</th>\n",
              "      <td>0.977778</td>\n",
              "      <td>0.967033</td>\n",
              "      <td>0.977528</td>\n",
              "      <td>0.910053</td>\n",
              "      <td>0.945652</td>\n",
              "      <td>0.955609</td>\n",
              "      <td>0.025600</td>\n",
              "      <td>1</td>\n",
              "    </tr>\n",
              "    <tr>\n",
              "      <th>2</th>\n",
              "      <td>0.977778</td>\n",
              "      <td>0.967033</td>\n",
              "      <td>0.977528</td>\n",
              "      <td>0.910053</td>\n",
              "      <td>0.945652</td>\n",
              "      <td>0.955609</td>\n",
              "      <td>0.025600</td>\n",
              "      <td>1</td>\n",
              "    </tr>\n",
              "    <tr>\n",
              "      <th>3</th>\n",
              "      <td>0.977778</td>\n",
              "      <td>0.967033</td>\n",
              "      <td>0.977528</td>\n",
              "      <td>0.910053</td>\n",
              "      <td>0.945652</td>\n",
              "      <td>0.955609</td>\n",
              "      <td>0.025600</td>\n",
              "      <td>1</td>\n",
              "    </tr>\n",
              "    <tr>\n",
              "      <th>4</th>\n",
              "      <td>0.977778</td>\n",
              "      <td>0.967033</td>\n",
              "      <td>0.977528</td>\n",
              "      <td>0.910053</td>\n",
              "      <td>0.945652</td>\n",
              "      <td>0.955609</td>\n",
              "      <td>0.025600</td>\n",
              "      <td>1</td>\n",
              "    </tr>\n",
              "  </tbody>\n",
              "</table>\n",
              "</div>\n",
              "      <button class=\"colab-df-convert\" onclick=\"convertToInteractive('df-df5f1226-a389-48c8-bedd-0e1a7304bfbc')\"\n",
              "              title=\"Convert this dataframe to an interactive table.\"\n",
              "              style=\"display:none;\">\n",
              "        \n",
              "  <svg xmlns=\"http://www.w3.org/2000/svg\" height=\"24px\"viewBox=\"0 0 24 24\"\n",
              "       width=\"24px\">\n",
              "    <path d=\"M0 0h24v24H0V0z\" fill=\"none\"/>\n",
              "    <path d=\"M18.56 5.44l.94 2.06.94-2.06 2.06-.94-2.06-.94-.94-2.06-.94 2.06-2.06.94zm-11 1L8.5 8.5l.94-2.06 2.06-.94-2.06-.94L8.5 2.5l-.94 2.06-2.06.94zm10 10l.94 2.06.94-2.06 2.06-.94-2.06-.94-.94-2.06-.94 2.06-2.06.94z\"/><path d=\"M17.41 7.96l-1.37-1.37c-.4-.4-.92-.59-1.43-.59-.52 0-1.04.2-1.43.59L10.3 9.45l-7.72 7.72c-.78.78-.78 2.05 0 2.83L4 21.41c.39.39.9.59 1.41.59.51 0 1.02-.2 1.41-.59l7.78-7.78 2.81-2.81c.8-.78.8-2.07 0-2.86zM5.41 20L4 18.59l7.72-7.72 1.47 1.35L5.41 20z\"/>\n",
              "  </svg>\n",
              "      </button>\n",
              "      \n",
              "  <style>\n",
              "    .colab-df-container {\n",
              "      display:flex;\n",
              "      flex-wrap:wrap;\n",
              "      gap: 12px;\n",
              "    }\n",
              "\n",
              "    .colab-df-convert {\n",
              "      background-color: #E8F0FE;\n",
              "      border: none;\n",
              "      border-radius: 50%;\n",
              "      cursor: pointer;\n",
              "      display: none;\n",
              "      fill: #1967D2;\n",
              "      height: 32px;\n",
              "      padding: 0 0 0 0;\n",
              "      width: 32px;\n",
              "    }\n",
              "\n",
              "    .colab-df-convert:hover {\n",
              "      background-color: #E2EBFA;\n",
              "      box-shadow: 0px 1px 2px rgba(60, 64, 67, 0.3), 0px 1px 3px 1px rgba(60, 64, 67, 0.15);\n",
              "      fill: #174EA6;\n",
              "    }\n",
              "\n",
              "    [theme=dark] .colab-df-convert {\n",
              "      background-color: #3B4455;\n",
              "      fill: #D2E3FC;\n",
              "    }\n",
              "\n",
              "    [theme=dark] .colab-df-convert:hover {\n",
              "      background-color: #434B5C;\n",
              "      box-shadow: 0px 1px 3px 1px rgba(0, 0, 0, 0.15);\n",
              "      filter: drop-shadow(0px 1px 2px rgba(0, 0, 0, 0.3));\n",
              "      fill: #FFFFFF;\n",
              "    }\n",
              "  </style>\n",
              "\n",
              "      <script>\n",
              "        const buttonEl =\n",
              "          document.querySelector('#df-df5f1226-a389-48c8-bedd-0e1a7304bfbc button.colab-df-convert');\n",
              "        buttonEl.style.display =\n",
              "          google.colab.kernel.accessAllowed ? 'block' : 'none';\n",
              "\n",
              "        async function convertToInteractive(key) {\n",
              "          const element = document.querySelector('#df-df5f1226-a389-48c8-bedd-0e1a7304bfbc');\n",
              "          const dataTable =\n",
              "            await google.colab.kernel.invokeFunction('convertToInteractive',\n",
              "                                                     [key], {});\n",
              "          if (!dataTable) return;\n",
              "\n",
              "          const docLinkHtml = 'Like what you see? Visit the ' +\n",
              "            '<a target=\"_blank\" href=https://colab.research.google.com/notebooks/data_table.ipynb>data table notebook</a>'\n",
              "            + ' to learn more about interactive tables.';\n",
              "          element.innerHTML = '';\n",
              "          dataTable['output_type'] = 'display_data';\n",
              "          await google.colab.output.renderOutput(dataTable, element);\n",
              "          const docLink = document.createElement('div');\n",
              "          docLink.innerHTML = docLinkHtml;\n",
              "          element.appendChild(docLink);\n",
              "        }\n",
              "      </script>\n",
              "    </div>\n",
              "  </div>\n",
              "  "
            ]
          },
          "metadata": {},
          "execution_count": 37
        }
      ],
      "source": [
        "# Erase sample 3 because is another RF, but more complex and with the same metrics from sample 2 (another rf)\n",
        "df_bo5cv_bests = df_bo5cv_bests.loc[[0,1,2,4,5],:]\n",
        "df_bo5cv_bests.reset_index(drop=True, inplace=True)\n",
        "df_bo5cv_bests"
      ]
    },
    {
      "cell_type": "code",
      "execution_count": null,
      "metadata": {
        "id": "vuyvNER-cW5P"
      },
      "outputs": [],
      "source": [
        "# Set name columns\n",
        "df_bo5cv_bests['ai_algorithm'] = ['lre','svm','rfc','bst','xgb']"
      ]
    },
    {
      "cell_type": "code",
      "execution_count": null,
      "metadata": {
        "id": "9XQZCtx2cW5Q",
        "outputId": "7a35efb3-bd74-4d33-98fa-7255d9c0fdc0",
        "colab": {
          "base_uri": "https://localhost:8080/",
          "height": 206
        }
      },
      "outputs": [
        {
          "output_type": "execute_result",
          "data": {
            "text/plain": [
              "   split0_test_score  split1_test_score  split2_test_score  split3_test_score  \\\n",
              "0           0.835165           0.847458           0.858696           0.834225   \n",
              "1           0.977778           0.967033           0.977528           0.910053   \n",
              "2           0.977778           0.967033           0.977528           0.910053   \n",
              "3           0.977778           0.967033           0.977528           0.910053   \n",
              "4           0.977778           0.967033           0.977528           0.910053   \n",
              "\n",
              "   split4_test_score  mean_test_score  std_test_score  rank_test_score  \\\n",
              "0           0.781250         0.831359        0.026609                1   \n",
              "1           0.945652         0.955609        0.025600                1   \n",
              "2           0.945652         0.955609        0.025600                1   \n",
              "3           0.945652         0.955609        0.025600                1   \n",
              "4           0.945652         0.955609        0.025600                1   \n",
              "\n",
              "  ai_algorithm  \n",
              "0          lre  \n",
              "1          svm  \n",
              "2          rfc  \n",
              "3          bst  \n",
              "4          xgb  "
            ],
            "text/html": [
              "\n",
              "  <div id=\"df-54259f44-c1f1-4aed-92b3-20af931b6521\">\n",
              "    <div class=\"colab-df-container\">\n",
              "      <div>\n",
              "<style scoped>\n",
              "    .dataframe tbody tr th:only-of-type {\n",
              "        vertical-align: middle;\n",
              "    }\n",
              "\n",
              "    .dataframe tbody tr th {\n",
              "        vertical-align: top;\n",
              "    }\n",
              "\n",
              "    .dataframe thead th {\n",
              "        text-align: right;\n",
              "    }\n",
              "</style>\n",
              "<table border=\"1\" class=\"dataframe\">\n",
              "  <thead>\n",
              "    <tr style=\"text-align: right;\">\n",
              "      <th></th>\n",
              "      <th>split0_test_score</th>\n",
              "      <th>split1_test_score</th>\n",
              "      <th>split2_test_score</th>\n",
              "      <th>split3_test_score</th>\n",
              "      <th>split4_test_score</th>\n",
              "      <th>mean_test_score</th>\n",
              "      <th>std_test_score</th>\n",
              "      <th>rank_test_score</th>\n",
              "      <th>ai_algorithm</th>\n",
              "    </tr>\n",
              "  </thead>\n",
              "  <tbody>\n",
              "    <tr>\n",
              "      <th>0</th>\n",
              "      <td>0.835165</td>\n",
              "      <td>0.847458</td>\n",
              "      <td>0.858696</td>\n",
              "      <td>0.834225</td>\n",
              "      <td>0.781250</td>\n",
              "      <td>0.831359</td>\n",
              "      <td>0.026609</td>\n",
              "      <td>1</td>\n",
              "      <td>lre</td>\n",
              "    </tr>\n",
              "    <tr>\n",
              "      <th>1</th>\n",
              "      <td>0.977778</td>\n",
              "      <td>0.967033</td>\n",
              "      <td>0.977528</td>\n",
              "      <td>0.910053</td>\n",
              "      <td>0.945652</td>\n",
              "      <td>0.955609</td>\n",
              "      <td>0.025600</td>\n",
              "      <td>1</td>\n",
              "      <td>svm</td>\n",
              "    </tr>\n",
              "    <tr>\n",
              "      <th>2</th>\n",
              "      <td>0.977778</td>\n",
              "      <td>0.967033</td>\n",
              "      <td>0.977528</td>\n",
              "      <td>0.910053</td>\n",
              "      <td>0.945652</td>\n",
              "      <td>0.955609</td>\n",
              "      <td>0.025600</td>\n",
              "      <td>1</td>\n",
              "      <td>rfc</td>\n",
              "    </tr>\n",
              "    <tr>\n",
              "      <th>3</th>\n",
              "      <td>0.977778</td>\n",
              "      <td>0.967033</td>\n",
              "      <td>0.977528</td>\n",
              "      <td>0.910053</td>\n",
              "      <td>0.945652</td>\n",
              "      <td>0.955609</td>\n",
              "      <td>0.025600</td>\n",
              "      <td>1</td>\n",
              "      <td>bst</td>\n",
              "    </tr>\n",
              "    <tr>\n",
              "      <th>4</th>\n",
              "      <td>0.977778</td>\n",
              "      <td>0.967033</td>\n",
              "      <td>0.977528</td>\n",
              "      <td>0.910053</td>\n",
              "      <td>0.945652</td>\n",
              "      <td>0.955609</td>\n",
              "      <td>0.025600</td>\n",
              "      <td>1</td>\n",
              "      <td>xgb</td>\n",
              "    </tr>\n",
              "  </tbody>\n",
              "</table>\n",
              "</div>\n",
              "      <button class=\"colab-df-convert\" onclick=\"convertToInteractive('df-54259f44-c1f1-4aed-92b3-20af931b6521')\"\n",
              "              title=\"Convert this dataframe to an interactive table.\"\n",
              "              style=\"display:none;\">\n",
              "        \n",
              "  <svg xmlns=\"http://www.w3.org/2000/svg\" height=\"24px\"viewBox=\"0 0 24 24\"\n",
              "       width=\"24px\">\n",
              "    <path d=\"M0 0h24v24H0V0z\" fill=\"none\"/>\n",
              "    <path d=\"M18.56 5.44l.94 2.06.94-2.06 2.06-.94-2.06-.94-.94-2.06-.94 2.06-2.06.94zm-11 1L8.5 8.5l.94-2.06 2.06-.94-2.06-.94L8.5 2.5l-.94 2.06-2.06.94zm10 10l.94 2.06.94-2.06 2.06-.94-2.06-.94-.94-2.06-.94 2.06-2.06.94z\"/><path d=\"M17.41 7.96l-1.37-1.37c-.4-.4-.92-.59-1.43-.59-.52 0-1.04.2-1.43.59L10.3 9.45l-7.72 7.72c-.78.78-.78 2.05 0 2.83L4 21.41c.39.39.9.59 1.41.59.51 0 1.02-.2 1.41-.59l7.78-7.78 2.81-2.81c.8-.78.8-2.07 0-2.86zM5.41 20L4 18.59l7.72-7.72 1.47 1.35L5.41 20z\"/>\n",
              "  </svg>\n",
              "      </button>\n",
              "      \n",
              "  <style>\n",
              "    .colab-df-container {\n",
              "      display:flex;\n",
              "      flex-wrap:wrap;\n",
              "      gap: 12px;\n",
              "    }\n",
              "\n",
              "    .colab-df-convert {\n",
              "      background-color: #E8F0FE;\n",
              "      border: none;\n",
              "      border-radius: 50%;\n",
              "      cursor: pointer;\n",
              "      display: none;\n",
              "      fill: #1967D2;\n",
              "      height: 32px;\n",
              "      padding: 0 0 0 0;\n",
              "      width: 32px;\n",
              "    }\n",
              "\n",
              "    .colab-df-convert:hover {\n",
              "      background-color: #E2EBFA;\n",
              "      box-shadow: 0px 1px 2px rgba(60, 64, 67, 0.3), 0px 1px 3px 1px rgba(60, 64, 67, 0.15);\n",
              "      fill: #174EA6;\n",
              "    }\n",
              "\n",
              "    [theme=dark] .colab-df-convert {\n",
              "      background-color: #3B4455;\n",
              "      fill: #D2E3FC;\n",
              "    }\n",
              "\n",
              "    [theme=dark] .colab-df-convert:hover {\n",
              "      background-color: #434B5C;\n",
              "      box-shadow: 0px 1px 3px 1px rgba(0, 0, 0, 0.15);\n",
              "      filter: drop-shadow(0px 1px 2px rgba(0, 0, 0, 0.3));\n",
              "      fill: #FFFFFF;\n",
              "    }\n",
              "  </style>\n",
              "\n",
              "      <script>\n",
              "        const buttonEl =\n",
              "          document.querySelector('#df-54259f44-c1f1-4aed-92b3-20af931b6521 button.colab-df-convert');\n",
              "        buttonEl.style.display =\n",
              "          google.colab.kernel.accessAllowed ? 'block' : 'none';\n",
              "\n",
              "        async function convertToInteractive(key) {\n",
              "          const element = document.querySelector('#df-54259f44-c1f1-4aed-92b3-20af931b6521');\n",
              "          const dataTable =\n",
              "            await google.colab.kernel.invokeFunction('convertToInteractive',\n",
              "                                                     [key], {});\n",
              "          if (!dataTable) return;\n",
              "\n",
              "          const docLinkHtml = 'Like what you see? Visit the ' +\n",
              "            '<a target=\"_blank\" href=https://colab.research.google.com/notebooks/data_table.ipynb>data table notebook</a>'\n",
              "            + ' to learn more about interactive tables.';\n",
              "          element.innerHTML = '';\n",
              "          dataTable['output_type'] = 'display_data';\n",
              "          await google.colab.output.renderOutput(dataTable, element);\n",
              "          const docLink = document.createElement('div');\n",
              "          docLink.innerHTML = docLinkHtml;\n",
              "          element.appendChild(docLink);\n",
              "        }\n",
              "      </script>\n",
              "    </div>\n",
              "  </div>\n",
              "  "
            ]
          },
          "metadata": {},
          "execution_count": 39
        }
      ],
      "source": [
        "# Overall dataset\n",
        "df_bo5cv_bests"
      ]
    },
    {
      "cell_type": "markdown",
      "metadata": {
        "id": "Q8FxZYwicW5Q"
      },
      "source": [
        "# Baseline Classifiers"
      ]
    },
    {
      "cell_type": "markdown",
      "metadata": {
        "id": "7lvOylLpcW5R"
      },
      "source": [
        "### Most Frequent"
      ]
    },
    {
      "cell_type": "code",
      "execution_count": null,
      "metadata": {
        "id": "Ad244879cW5R",
        "outputId": "109f79d1-ac85-41c0-e533-fbe2074a43fd",
        "colab": {
          "base_uri": "https://localhost:8080/"
        }
      },
      "outputs": [
        {
          "output_type": "execute_result",
          "data": {
            "text/plain": [
              "DummyClassifier(strategy='most_frequent')"
            ]
          },
          "metadata": {},
          "execution_count": 40
        }
      ],
      "source": [
        "# Create\n",
        "model_dummy_mf_ove = DummyClassifier(strategy=\"most_frequent\")\n",
        "# Fit\n",
        "model_dummy_mf_ove.fit(x_train_smt,y_train_smt)"
      ]
    },
    {
      "cell_type": "markdown",
      "metadata": {
        "id": "d4SaKHNfcW5R"
      },
      "source": [
        "### Stratified"
      ]
    },
    {
      "cell_type": "code",
      "execution_count": null,
      "metadata": {
        "id": "N3hLsZAhcW5R",
        "outputId": "1659e9ed-f660-4a7c-dc8b-a8950cbb5439",
        "colab": {
          "base_uri": "https://localhost:8080/"
        }
      },
      "outputs": [
        {
          "output_type": "execute_result",
          "data": {
            "text/plain": [
              "DummyClassifier(strategy='stratified')"
            ]
          },
          "metadata": {},
          "execution_count": 41
        }
      ],
      "source": [
        "# Create\n",
        "model_dummy_st_ove = DummyClassifier(strategy=\"stratified\")\n",
        "# Fit\n",
        "model_dummy_st_ove.fit(x_train_smt,y_train_smt)"
      ]
    },
    {
      "cell_type": "markdown",
      "metadata": {
        "id": "R9oQEbAdcW5S"
      },
      "source": [
        "# Backtest - Generate dataset\n",
        "Samples from test set where **COVID is negative** and **Any respiratory disease is positive**\n",
        "\n",
        "## Functions"
      ]
    },
    {
      "cell_type": "code",
      "execution_count": null,
      "metadata": {
        "id": "Nb2VouLEcW5S"
      },
      "outputs": [],
      "source": [
        "def getMatchIdx(idx1, idx2):\n",
        "    return list(set(idx1) & set(idx2))\n",
        "\n",
        "def backtestReport(backtestIdx, label, trainIdx, testIdx):\n",
        "    print('###################',label)\n",
        "    print('All Match Condition  -',len(backtestIdx),'samples.')\n",
        "    print('Train Match Conditon -',len(getMatchIdx(trainIdx, backtestIdx)),'samples.')\n",
        "    print('Test Match Conditon  -',len(getMatchIdx(testIdx, backtestIdx)),'samples.')"
      ]
    },
    {
      "cell_type": "markdown",
      "metadata": {
        "id": "wTNxdbTscW5S"
      },
      "source": [
        "## Get all samples"
      ]
    },
    {
      "cell_type": "code",
      "execution_count": null,
      "metadata": {
        "id": "9w98fNhrcW5U"
      },
      "outputs": [],
      "source": [
        "x_resp=df[(df['COVID-19 Exam result'] == 0)&(df['Respiratory Disease detection'] == 1)][features]"
      ]
    },
    {
      "cell_type": "markdown",
      "metadata": {
        "id": "jSn62sH2cW5U"
      },
      "source": [
        "## Get a report about how those samples are distributed"
      ]
    },
    {
      "cell_type": "code",
      "execution_count": null,
      "metadata": {
        "id": "tQKyvp3AcW5U",
        "outputId": "0f92a85c-dfc5-4f3e-d7aa-c22cfd9d5baa",
        "colab": {
          "base_uri": "https://localhost:8080/"
        }
      },
      "outputs": [
        {
          "output_type": "stream",
          "name": "stdout",
          "text": [
            "################### Any Respiratory disease\n",
            "All Match Condition  - 172 samples.\n",
            "Train Match Conditon - 146 samples.\n",
            "Test Match Conditon  - 26 samples.\n"
          ]
        }
      ],
      "source": [
        "backtestReport(x_resp.index, 'Any Respiratory disease', x_train.index, x_test.index)"
      ]
    },
    {
      "cell_type": "markdown",
      "metadata": {
        "id": "y5Y10_02cW5V"
      },
      "source": [
        "## Get backtest samples only present in test set"
      ]
    },
    {
      "cell_type": "code",
      "execution_count": null,
      "metadata": {
        "id": "NW31iKIAcW5V"
      },
      "outputs": [],
      "source": [
        "x_resp = x_resp.loc[getMatchIdx(x_test.index, x_resp.index), :]"
      ]
    },
    {
      "cell_type": "code",
      "execution_count": null,
      "metadata": {
        "id": "q-0HbKtycW5W",
        "outputId": "1a4b6dfa-dae0-4fae-ce1e-42ae624b866a",
        "colab": {
          "base_uri": "https://localhost:8080/"
        }
      },
      "outputs": [
        {
          "output_type": "execute_result",
          "data": {
            "text/plain": [
              "26"
            ]
          },
          "metadata": {},
          "execution_count": 46
        }
      ],
      "source": [
        "# Validate\n",
        "len(x_resp)"
      ]
    },
    {
      "cell_type": "markdown",
      "metadata": {
        "id": "SfaXqsOscW5W"
      },
      "source": [
        "# Export results"
      ]
    },
    {
      "cell_type": "code",
      "execution_count": null,
      "metadata": {
        "id": "Sm0drVffcW5W"
      },
      "outputs": [],
      "source": [
        "# Function to export best models\n",
        "def exportModels(best_models_names, best_models_objects,type_of_dataset):\n",
        "    for model_name, model_object in zip(best_models_names, best_models_objects):\n",
        "        joblib.dump(model_object, 'model_'+model_name+'_'+type_of_dataset+'.sav')"
      ]
    },
    {
      "cell_type": "code",
      "execution_count": null,
      "metadata": {
        "id": "Sl1ZkmcacW5W"
      },
      "outputs": [],
      "source": [
        "# Name of the models\n",
        "models_name_list = ['lre','svm','rfc','bst','xgb','dummy_mf','dummy_st']\n"
      ]
    },
    {
      "cell_type": "markdown",
      "metadata": {
        "id": "-jwqN3ADcW5W"
      },
      "source": [
        "## Saving Datasets..."
      ]
    },
    {
      "cell_type": "code",
      "execution_count": null,
      "metadata": {
        "id": "J5JOW0ducW5Y"
      },
      "outputs": [],
      "source": [
        "# XY trainset before SMOTE\n",
        "x_train.to_csv('results_modelsDevelopment/x_train.csv',index=False)\n",
        "y_train.to_csv('results_modelsDevelopment/y_train.csv',index=False)\n",
        "# XY trainset with SMOTE\n",
        "x_train_smt.to_csv('results_modelsDevelopment/x_train_SMOTE.csv',index=False)\n",
        "y_train_smt.to_csv('results_modelsDevelopment/y_train_SMOTE.csv',index=False)\n",
        "# XY testset\n",
        "x_test.to_csv('results_modelsDevelopment/x_test.csv',index=False)\n",
        "y_test.to_csv('results_modelsDevelopment/y_test.csv',index=False)\n",
        "# Backtest datasets - Only X because Y is a zero array\n",
        "x_resp.to_csv('results_modelsDevelopment/x_resp.csv',index=False)\n",
        "# Dataset with age transformation\n",
        "df.to_csv('results_modelsDevelopment/paper_dataset_age_transformed.csv',index=False)\n",
        "# BO5CV best results for all models\n",
        "df_bo5cv_bests.to_csv('results_modelsDevelopment/BO5CV_best_results.csv',index=False)\n",
        "# BO5CV all results for all models\n",
        "lre_res_ove['cv_res'].to_csv('results_modelsDevelopment/BO5CV_lre_results.csv',index=False)\n",
        "svm_res_ove['cv_res'].to_csv('results_modelsDevelopment/BO5CV_svm_results.csv',index=False)\n",
        "rfc_res_ove['cv_res'].to_csv('results_modelsDevelopment/BO5CV_rfc_results.csv',index=False)\n",
        "bst_res_ove['cv_res'].to_csv('results_modelsDevelopment/BO5CV_bst_results.csv',index=False)\n",
        "xgb_res_ove['cv_res'].to_csv('results_modelsDevelopment/BO5CV_xgb_results.csv',index=False)"
      ]
    },
    {
      "cell_type": "markdown",
      "metadata": {
        "id": "WIJF-NOOcW5Y"
      },
      "source": [
        "## Saving models ..."
      ]
    },
    {
      "cell_type": "code",
      "execution_count": null,
      "metadata": {
        "id": "GyIppObicW5Z"
      },
      "outputs": [],
      "source": [
        "# Define objects\n",
        "models_objects_list = [lre_res_bal['best_model'],svm_res_bal['best_model'],rfc_res_ove['best_model'],bst_res_ove['best_model'],\n",
        "                       xgb_res_ove['best_model'],]\n",
        "# Use the function\n",
        "exportModels(models_name_list, models_objects_list,'balanced')"
      ]
    }
  ],
  "metadata": {
    "kernelspec": {
      "display_name": "Python 3",
      "language": "python",
      "name": "python3"
    },
    "language_info": {
      "codemirror_mode": {
        "name": "ipython",
        "version": 3
      },
      "file_extension": ".py",
      "mimetype": "text/x-python",
      "name": "python",
      "nbconvert_exporter": "python",
      "pygments_lexer": "ipython3",
      "version": "3.8.3"
    },
    "colab": {
      "provenance": [],
      "collapsed_sections": [
        "7lvOylLpcW5R",
        "d4SaKHNfcW5R",
        "wTNxdbTscW5S",
        "jSn62sH2cW5U",
        "y5Y10_02cW5V"
      ]
    }
  },
  "nbformat": 4,
  "nbformat_minor": 0
}