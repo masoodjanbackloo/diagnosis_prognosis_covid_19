{
  "cells": [
    {
      "cell_type": "code",
      "execution_count": null,
      "metadata": {
        "colab": {
          "base_uri": "https://localhost:8080/"
        },
        "id": "j9lQztwlG8MK",
        "outputId": "a916c079-bfcd-4504-ef78-b745655b91af"
      },
      "outputs": [
        {
          "output_type": "stream",
          "name": "stdout",
          "text": [
            "Looking in indexes: https://pypi.org/simple, https://us-python.pkg.dev/colab-wheels/public/simple/\n",
            "Collecting scikit-optimize\n",
            "  Downloading scikit_optimize-0.9.0-py2.py3-none-any.whl (100 kB)\n",
            "\u001b[K     |████████████████████████████████| 100 kB 1.5 MB/s \n",
            "\u001b[?25hRequirement already satisfied: scipy>=0.19.1 in /usr/local/lib/python3.7/dist-packages (from scikit-optimize) (1.7.3)\n",
            "Requirement already satisfied: numpy>=1.13.3 in /usr/local/lib/python3.7/dist-packages (from scikit-optimize) (1.21.6)\n",
            "Collecting pyaml>=16.9\n",
            "  Downloading pyaml-21.10.1-py2.py3-none-any.whl (24 kB)\n",
            "Requirement already satisfied: scikit-learn>=0.20.0 in /usr/local/lib/python3.7/dist-packages (from scikit-optimize) (1.0.2)\n",
            "Requirement already satisfied: joblib>=0.11 in /usr/local/lib/python3.7/dist-packages (from scikit-optimize) (1.1.0)\n",
            "Requirement already satisfied: PyYAML in /usr/local/lib/python3.7/dist-packages (from pyaml>=16.9->scikit-optimize) (3.13)\n",
            "Requirement already satisfied: threadpoolctl>=2.0.0 in /usr/local/lib/python3.7/dist-packages (from scikit-learn>=0.20.0->scikit-optimize) (3.1.0)\n",
            "Installing collected packages: pyaml, scikit-optimize\n",
            "Successfully installed pyaml-21.10.1 scikit-optimize-0.9.0\n"
          ]
        }
      ],
      "source": [
        "!pip install scikit-optimize"
      ]
    },
    {
      "cell_type": "code",
      "execution_count": null,
      "metadata": {
        "id": "BzcYE7SQcW4n"
      },
      "outputs": [],
      "source": [
        "# Standard modules\n",
        "from time import sleep\n",
        "import warnings\n",
        "import numpy as np\n",
        "import pandas as pd\n",
        "warnings.filterwarnings('ignore')\n",
        "\n",
        "# Graphical modules\n",
        "import matplotlib.pyplot as plt\n",
        "import seaborn as sns\n",
        "%matplotlib inline\n",
        "\n",
        "# Preparation\n",
        "from sklearn.preprocessing import MinMaxScaler\n",
        "from sklearn.model_selection import train_test_split\n",
        "from imblearn.over_sampling import SMOTE\n",
        "\n",
        "# Workaround for skopt with sklearn==0.23.1\n",
        "from numpy.ma import MaskedArray\n",
        "import sklearn.utils.fixes\n",
        "sklearn.utils.fixes.MaskedArray = MaskedArray\n",
        "\n",
        "# Development\n",
        "from skopt import BayesSearchCV\n",
        "from skopt.space import Real, Categorical, Integer\n",
        "from sklearn.model_selection import RandomizedSearchCV, GridSearchCV, StratifiedKFold\n",
        "from sklearn.svm import SVC\n",
        "from sklearn.dummy import DummyClassifier\n",
        "from sklearn.ensemble import RandomForestClassifier\n",
        "from sklearn.linear_model import LogisticRegression\n",
        "import xgboost as XGBoost\n",
        "from xgboost.sklearn import XGBClassifier\n",
        "from sklearn.ensemble import GradientBoostingClassifier\n",
        "\n",
        "# Evaluation\n",
        "from scipy import stats\n",
        "from sklearn.metrics import classification_report, confusion_matrix, accuracy_score, f1_score, recall_score, precision_score\n",
        "\n",
        "# Export\n",
        "import joblib"
      ]
    },
    {
      "cell_type": "code",
      "execution_count": null,
      "metadata": {
        "id": "MiEIe_3McW4v"
      },
      "outputs": [],
      "source": [
        "# Dataset\n",
        "df = pd.read_csv('paper_dataset.csv')"
      ]
    },
    {
      "cell_type": "code",
      "execution_count": null,
      "metadata": {
        "colab": {
          "base_uri": "https://localhost:8080/"
        },
        "id": "pN-5wZPTHcpu",
        "outputId": "3b64b7b6-136b-48b6-954e-ab8e63682634"
      },
      "outputs": [
        {
          "name": "stdout",
          "output_type": "stream",
          "text": [
            "<class 'pandas.core.frame.DataFrame'>\n",
            "RangeIndex: 598 entries, 0 to 597\n",
            "Data columns (total 15 columns):\n",
            " #   Column                         Non-Null Count  Dtype  \n",
            "---  ------                         --------------  -----  \n",
            " 0   COVID-19 Exam result           598 non-null    int64  \n",
            " 1   Patient admission              598 non-null    int64  \n",
            " 2   Patient age quantile           598 non-null    int64  \n",
            " 3   Basophils                      598 non-null    float64\n",
            " 4   Eosinophils                    598 non-null    float64\n",
            " 5   Hemoglobin                     598 non-null    float64\n",
            " 6   Leukocytes                     598 non-null    float64\n",
            " 7   Lymphocytes                    598 non-null    float64\n",
            " 8   MCHC                           598 non-null    float64\n",
            " 9   MCV                            598 non-null    float64\n",
            " 10  MPV                            598 non-null    float64\n",
            " 11  Monocytes                      598 non-null    float64\n",
            " 12  Platelets                      598 non-null    float64\n",
            " 13  RDW                            598 non-null    float64\n",
            " 14  Respiratory Disease detection  598 non-null    int64  \n",
            "dtypes: float64(11), int64(4)\n",
            "memory usage: 70.2 KB\n"
          ]
        }
      ],
      "source": [
        "df.info()"
      ]
    },
    {
      "cell_type": "code",
      "execution_count": null,
      "metadata": {
        "id": "Xdu5WxpncW4y"
      },
      "outputs": [],
      "source": [
        "# Define X and Y\n",
        "features = ['Patient age quantile','Basophils', 'Eosinophils','Hemoglobin', 'Leukocytes', 'Lymphocytes','MCHC','MCV','MPV',\n",
        "            'Monocytes', 'Platelets', 'RDW']\n",
        "# Get X and Y\n",
        "x = df[features]\n",
        "y = df['Patient admission']"
      ]
    },
    {
      "cell_type": "code",
      "execution_count": null,
      "metadata": {
        "id": "iNnHjZE1cW4z"
      },
      "outputs": [],
      "source": [
        "# Split\n",
        "x_train, x_test, y_train, y_test = train_test_split(x, y, test_size = 0.15, random_state = 101, stratify=y)"
      ]
    },
    {
      "cell_type": "code",
      "execution_count": null,
      "metadata": {
        "colab": {
          "base_uri": "https://localhost:8080/"
        },
        "id": "b7x1sfDacW40",
        "outputId": "8e374767-ad74-4802-8bc2-7a0e807bea8d"
      },
      "outputs": [
        {
          "output_type": "execute_result",
          "data": {
            "text/plain": [
              "0    0.785433\n",
              "1    0.094488\n",
              "2    0.070866\n",
              "3    0.049213\n",
              "Name: Patient admission, dtype: float64"
            ]
          },
          "metadata": {},
          "execution_count": 6
        }
      ],
      "source": [
        "# % of target class in train set\n",
        "pd.Series(y_train).value_counts()/len(y_train)"
      ]
    },
    {
      "cell_type": "code",
      "execution_count": null,
      "metadata": {
        "colab": {
          "base_uri": "https://localhost:8080/"
        },
        "id": "3flW-fy7IA6j",
        "outputId": "edcad699-c33f-40d6-dd3e-348e58f34133"
      },
      "outputs": [
        {
          "output_type": "execute_result",
          "data": {
            "text/plain": [
              "0    0.788889\n",
              "1    0.100000\n",
              "2    0.066667\n",
              "3    0.044444\n",
              "Name: Patient admission, dtype: float64"
            ]
          },
          "metadata": {},
          "execution_count": 7
        }
      ],
      "source": [
        "# % of target class in test set\n",
        "y_test.value_counts()/len(y_test)"
      ]
    },
    {
      "cell_type": "code",
      "execution_count": null,
      "metadata": {
        "colab": {
          "base_uri": "https://localhost:8080/"
        },
        "id": "-e6dj26-ITcH",
        "outputId": "3b50fe2b-ead4-46f8-e9a9-a1df6726d510"
      },
      "outputs": [
        {
          "output_type": "execute_result",
          "data": {
            "text/plain": [
              "0    399\n",
              "1     48\n",
              "2     36\n",
              "3     25\n",
              "Name: Patient admission, dtype: int64"
            ]
          },
          "metadata": {},
          "execution_count": 8
        }
      ],
      "source": [
        "pd.Series(y_train).value_counts()"
      ]
    },
    {
      "cell_type": "code",
      "execution_count": null,
      "metadata": {
        "colab": {
          "base_uri": "https://localhost:8080/"
        },
        "id": "s0t3b9xVIXUU",
        "outputId": "921c9bf9-78e2-4cf0-a3e6-be695c22a959"
      },
      "outputs": [
        {
          "output_type": "execute_result",
          "data": {
            "text/plain": [
              "0    71\n",
              "1     9\n",
              "2     6\n",
              "3     4\n",
              "Name: Patient admission, dtype: int64"
            ]
          },
          "metadata": {},
          "execution_count": 9
        }
      ],
      "source": [
        "# target class in test set\n",
        "y_test.value_counts()"
      ]
    },
    {
      "cell_type": "code",
      "execution_count": null,
      "metadata": {
        "id": "DJomDv60IjOs"
      },
      "outputs": [],
      "source": [
        "# create SMOTE object\n",
        "smt = SMOTE(random_state=1206)\n",
        "\n",
        "# Do the process\n",
        "x_train_smt, y_train_smt = smt.fit_resample(x_train, y_train)"
      ]
    },
    {
      "cell_type": "code",
      "execution_count": null,
      "metadata": {
        "colab": {
          "base_uri": "https://localhost:8080/"
        },
        "id": "9KqdmCRLInJv",
        "outputId": "477fafff-ac08-4098-868e-7a7aeb5ddd78"
      },
      "outputs": [
        {
          "output_type": "execute_result",
          "data": {
            "text/plain": [
              "0    399\n",
              "1    399\n",
              "3    399\n",
              "2    399\n",
              "Name: Patient admission, dtype: int64"
            ]
          },
          "metadata": {},
          "execution_count": 11
        }
      ],
      "source": [
        "pd.Series(y_train_smt).value_counts()"
      ]
    },
    {
      "cell_type": "code",
      "execution_count": null,
      "metadata": {
        "id": "H98TRAM7vADV"
      },
      "outputs": [],
      "source": [
        "# Get copy of created samples\n",
        "synth_samples_y = y_train_smt.copy()\n",
        "# Create a new category for synth samples\n",
        "synth_samples_y[len(y_train):] = 2\n",
        "# Create a dataframe using oversampled data\n",
        "df_synth = x_train_smt.copy()\n",
        "df_synth['target'] = synth_samples_y\n",
        "# Get slices for positive cases and synth positive cases\n",
        "target_1 = df_synth[df_synth['target'] == 1]\n",
        "target_2 = df_synth[df_synth['target'] == 2]"
      ]
    },
    {
      "cell_type": "code",
      "execution_count": null,
      "metadata": {
        "id": "4jXhDgmpvkTG"
      },
      "outputs": [],
      "source": [
        "num_features = ['Basophils', 'Basophils', 'Eosinophils','Hemoglobin', 'Leukocytes', 'Lymphocytes','MCHC','MCV','MPV',\n",
        "                'Monocytes', 'Platelets', 'RDW']"
      ]
    },
    {
      "cell_type": "code",
      "execution_count": null,
      "metadata": {
        "colab": {
          "base_uri": "https://localhost:8080/",
          "height": 1000
        },
        "id": "Rx5xeocsvhKg",
        "outputId": "81209dc6-0483-4312-a177-5cb95caba93d"
      },
      "outputs": [
        {
          "output_type": "display_data",
          "data": {
            "text/plain": [
              "<Figure size 1440x1280 with 2 Axes>"
            ],
            "image/png": "[encoded data removed]"
          },
          "metadata": {}
        }
      ],
      "source": [
        "# Correlation calculation\n",
        "spearman_corr = df_synth[num_features].corr('spearman')\n",
        "matrix = np.triu(spearman_corr)\n",
        "\n",
        "# Plot\n",
        "plt.figure(figsize=(18, 16), dpi= 80, facecolor='w', edgecolor='k')\n",
        "sns.heatmap(spearman_corr, annot = True, mask=matrix)\n",
        "plt.tight_layout()"
      ]
    },
    {
      "cell_type": "code",
      "execution_count": null,
      "metadata": {
        "id": "IdvUCK1BJVfk"
      },
      "outputs": [],
      "source": [
        "# Define instance and fit in train set\n",
        "mms = MinMaxScaler().fit(np.array(x_train['Patient age quantile']).reshape(-1, 1))"
      ]
    },
    {
      "cell_type": "code",
      "execution_count": null,
      "metadata": {
        "id": "scsgnZbcJbqU"
      },
      "outputs": [],
      "source": [
        "# Apply transformation x train\n",
        "x_train['Patient age quantile'] = mms.transform(np.array(x_train['Patient age quantile']).reshape(-1, 1)).round(6)\n",
        "# Apply transformation x test\n",
        "x_test['Patient age quantile'] = mms.transform(np.array(x_test['Patient age quantile']).reshape(-1, 1)).round(6)\n",
        "# Apply transformation x train with SMOTE\n",
        "x_train_smt['Patient age quantile'] = mms.transform(np.array(x_train_smt['Patient age quantile']).reshape(-1, 1)).round(6)\n",
        "# Apply transformation df\n",
        "df['Patient age quantile'] = mms.transform(np.array(df['Patient age quantile']).reshape(-1, 1)).round(6)"
      ]
    },
    {
      "cell_type": "code",
      "execution_count": null,
      "metadata": {
        "colab": {
          "base_uri": "https://localhost:8080/",
          "height": 206
        },
        "id": "v0IX7soXJfPt",
        "outputId": "5ecd1c95-8644-4ea5-c4bd-d0e24015aa9b"
      },
      "outputs": [
        {
          "data": {
            "text/html": [
              "\n",
              "  <div id=\"df-cfa9e3ae-860f-4fc8-b717-ec34028366f6\">\n",
              "    <div class=\"colab-df-container\">\n",
              "      <div>\n",
              "<style scoped>\n",
              "    .dataframe tbody tr th:only-of-type {\n",
              "        vertical-align: middle;\n",
              "    }\n",
              "\n",
              "    .dataframe tbody tr th {\n",
              "        vertical-align: top;\n",
              "    }\n",
              "\n",
              "    .dataframe thead th {\n",
              "        text-align: right;\n",
              "    }\n",
              "</style>\n",
              "<table border=\"1\" class=\"dataframe\">\n",
              "  <thead>\n",
              "    <tr style=\"text-align: right;\">\n",
              "      <th></th>\n",
              "      <th>Patient age quantile</th>\n",
              "      <th>Basophils</th>\n",
              "      <th>Eosinophils</th>\n",
              "      <th>Hemoglobin</th>\n",
              "      <th>Leukocytes</th>\n",
              "      <th>Lymphocytes</th>\n",
              "      <th>MCHC</th>\n",
              "      <th>MCV</th>\n",
              "      <th>MPV</th>\n",
              "      <th>Monocytes</th>\n",
              "      <th>Platelets</th>\n",
              "      <th>RDW</th>\n",
              "    </tr>\n",
              "  </thead>\n",
              "  <tbody>\n",
              "    <tr>\n",
              "      <th>270</th>\n",
              "      <td>1.000000</td>\n",
              "      <td>0.081693</td>\n",
              "      <td>-0.751229</td>\n",
              "      <td>0.416252</td>\n",
              "      <td>0.673440</td>\n",
              "      <td>-1.617727</td>\n",
              "      <td>-1.149948</td>\n",
              "      <td>1.688438</td>\n",
              "      <td>2.927700</td>\n",
              "      <td>-1.113193</td>\n",
              "      <td>-1.158065</td>\n",
              "      <td>2.470904</td>\n",
              "    </tr>\n",
              "    <tr>\n",
              "      <th>116</th>\n",
              "      <td>0.789474</td>\n",
              "      <td>0.998070</td>\n",
              "      <td>1.018625</td>\n",
              "      <td>0.729532</td>\n",
              "      <td>0.097402</td>\n",
              "      <td>-1.191275</td>\n",
              "      <td>-0.353319</td>\n",
              "      <td>0.146163</td>\n",
              "      <td>-0.213711</td>\n",
              "      <td>-0.404086</td>\n",
              "      <td>-0.127997</td>\n",
              "      <td>1.497882</td>\n",
              "    </tr>\n",
              "    <tr>\n",
              "      <th>404</th>\n",
              "      <td>1.000000</td>\n",
              "      <td>-1.140144</td>\n",
              "      <td>1.271461</td>\n",
              "      <td>-0.335620</td>\n",
              "      <td>2.852366</td>\n",
              "      <td>-0.159261</td>\n",
              "      <td>-1.249524</td>\n",
              "      <td>0.927315</td>\n",
              "      <td>-0.325903</td>\n",
              "      <td>1.355549</td>\n",
              "      <td>2.999894</td>\n",
              "      <td>-0.801985</td>\n",
              "    </tr>\n",
              "    <tr>\n",
              "      <th>74</th>\n",
              "      <td>0.789474</td>\n",
              "      <td>0.692611</td>\n",
              "      <td>-0.498393</td>\n",
              "      <td>0.228284</td>\n",
              "      <td>-0.915534</td>\n",
              "      <td>-0.312784</td>\n",
              "      <td>0.642463</td>\n",
              "      <td>0.086074</td>\n",
              "      <td>-0.550290</td>\n",
              "      <td>2.852552</td>\n",
              "      <td>-0.668155</td>\n",
              "      <td>-0.359703</td>\n",
              "    </tr>\n",
              "    <tr>\n",
              "      <th>558</th>\n",
              "      <td>0.315789</td>\n",
              "      <td>-0.834685</td>\n",
              "      <td>-0.371974</td>\n",
              "      <td>-0.648900</td>\n",
              "      <td>0.350636</td>\n",
              "      <td>-1.063340</td>\n",
              "      <td>1.140354</td>\n",
              "      <td>0.626871</td>\n",
              "      <td>1.244801</td>\n",
              "      <td>-0.640455</td>\n",
              "      <td>-0.165682</td>\n",
              "      <td>-0.448160</td>\n",
              "    </tr>\n",
              "  </tbody>\n",
              "</table>\n",
              "</div>\n",
              "      <button class=\"colab-df-convert\" onclick=\"convertToInteractive('df-cfa9e3ae-860f-4fc8-b717-ec34028366f6')\"\n",
              "              title=\"Convert this dataframe to an interactive table.\"\n",
              "              style=\"display:none;\">\n",
              "        \n",
              "  <svg xmlns=\"http://www.w3.org/2000/svg\" height=\"24px\"viewBox=\"0 0 24 24\"\n",
              "       width=\"24px\">\n",
              "    <path d=\"M0 0h24v24H0V0z\" fill=\"none\"/>\n",
              "    <path d=\"M18.56 5.44l.94 2.06.94-2.06 2.06-.94-2.06-.94-.94-2.06-.94 2.06-2.06.94zm-11 1L8.5 8.5l.94-2.06 2.06-.94-2.06-.94L8.5 2.5l-.94 2.06-2.06.94zm10 10l.94 2.06.94-2.06 2.06-.94-2.06-.94-.94-2.06-.94 2.06-2.06.94z\"/><path d=\"M17.41 7.96l-1.37-1.37c-.4-.4-.92-.59-1.43-.59-.52 0-1.04.2-1.43.59L10.3 9.45l-7.72 7.72c-.78.78-.78 2.05 0 2.83L4 21.41c.39.39.9.59 1.41.59.51 0 1.02-.2 1.41-.59l7.78-7.78 2.81-2.81c.8-.78.8-2.07 0-2.86zM5.41 20L4 18.59l7.72-7.72 1.47 1.35L5.41 20z\"/>\n",
              "  </svg>\n",
              "      </button>\n",
              "      \n",
              "  <style>\n",
              "    .colab-df-container {\n",
              "      display:flex;\n",
              "      flex-wrap:wrap;\n",
              "      gap: 12px;\n",
              "    }\n",
              "\n",
              "    .colab-df-convert {\n",
              "      background-color: #E8F0FE;\n",
              "      border: none;\n",
              "      border-radius: 50%;\n",
              "      cursor: pointer;\n",
              "      display: none;\n",
              "      fill: #1967D2;\n",
              "      height: 32px;\n",
              "      padding: 0 0 0 0;\n",
              "      width: 32px;\n",
              "    }\n",
              "\n",
              "    .colab-df-convert:hover {\n",
              "      background-color: #E2EBFA;\n",
              "      box-shadow: 0px 1px 2px rgba(60, 64, 67, 0.3), 0px 1px 3px 1px rgba(60, 64, 67, 0.15);\n",
              "      fill: #174EA6;\n",
              "    }\n",
              "\n",
              "    [theme=dark] .colab-df-convert {\n",
              "      background-color: #3B4455;\n",
              "      fill: #D2E3FC;\n",
              "    }\n",
              "\n",
              "    [theme=dark] .colab-df-convert:hover {\n",
              "      background-color: #434B5C;\n",
              "      box-shadow: 0px 1px 3px 1px rgba(0, 0, 0, 0.15);\n",
              "      filter: drop-shadow(0px 1px 2px rgba(0, 0, 0, 0.3));\n",
              "      fill: #FFFFFF;\n",
              "    }\n",
              "  </style>\n",
              "\n",
              "      <script>\n",
              "        const buttonEl =\n",
              "          document.querySelector('#df-cfa9e3ae-860f-4fc8-b717-ec34028366f6 button.colab-df-convert');\n",
              "        buttonEl.style.display =\n",
              "          google.colab.kernel.accessAllowed ? 'block' : 'none';\n",
              "\n",
              "        async function convertToInteractive(key) {\n",
              "          const element = document.querySelector('#df-cfa9e3ae-860f-4fc8-b717-ec34028366f6');\n",
              "          const dataTable =\n",
              "            await google.colab.kernel.invokeFunction('convertToInteractive',\n",
              "                                                     [key], {});\n",
              "          if (!dataTable) return;\n",
              "\n",
              "          const docLinkHtml = 'Like what you see? Visit the ' +\n",
              "            '<a target=\"_blank\" href=https://colab.research.google.com/notebooks/data_table.ipynb>data table notebook</a>'\n",
              "            + ' to learn more about interactive tables.';\n",
              "          element.innerHTML = '';\n",
              "          dataTable['output_type'] = 'display_data';\n",
              "          await google.colab.output.renderOutput(dataTable, element);\n",
              "          const docLink = document.createElement('div');\n",
              "          docLink.innerHTML = docLinkHtml;\n",
              "          element.appendChild(docLink);\n",
              "        }\n",
              "      </script>\n",
              "    </div>\n",
              "  </div>\n",
              "  "
            ],
            "text/plain": [
              "     Patient age quantile  Basophils  Eosinophils  Hemoglobin  Leukocytes  \\\n",
              "270              1.000000   0.081693    -0.751229    0.416252    0.673440   \n",
              "116              0.789474   0.998070     1.018625    0.729532    0.097402   \n",
              "404              1.000000  -1.140144     1.271461   -0.335620    2.852366   \n",
              "74               0.789474   0.692611    -0.498393    0.228284   -0.915534   \n",
              "558              0.315789  -0.834685    -0.371974   -0.648900    0.350636   \n",
              "\n",
              "     Lymphocytes      MCHC       MCV       MPV  Monocytes  Platelets       RDW  \n",
              "270    -1.617727 -1.149948  1.688438  2.927700  -1.113193  -1.158065  2.470904  \n",
              "116    -1.191275 -0.353319  0.146163 -0.213711  -0.404086  -0.127997  1.497882  \n",
              "404    -0.159261 -1.249524  0.927315 -0.325903   1.355549   2.999894 -0.801985  \n",
              "74     -0.312784  0.642463  0.086074 -0.550290   2.852552  -0.668155 -0.359703  \n",
              "558    -1.063340  1.140354  0.626871  1.244801  -0.640455  -0.165682 -0.448160  "
            ]
          },
          "execution_count": 19,
          "metadata": {},
          "output_type": "execute_result"
        }
      ],
      "source": [
        "x_train.head()"
      ]
    },
    {
      "cell_type": "markdown",
      "metadata": {
        "id": "hzeF_KqjJr9u"
      },
      "source": [
        "**Auxiliar Functions**"
      ]
    },
    {
      "cell_type": "code",
      "execution_count": null,
      "metadata": {
        "id": "rb0ZNeKQJxEM"
      },
      "outputs": [],
      "source": [
        "def printModelGeneralInfo(model, hp, score, metric_evaluated):\n",
        "    print('#####################################################')\n",
        "    print('Model:', type(model).__name__)\n",
        "    print('Metric: ', metric_evaluated, ' | Score (%): ', 100*round(score,5))\n",
        "    print('Best Parameters: ', hp)\n",
        "    print('#####################################################\\n')"
      ]
    },
    {
      "cell_type": "code",
      "execution_count": null,
      "metadata": {
        "id": "GDGV3p2bcW5F"
      },
      "outputs": [],
      "source": [
        "def optimizationGridCV(model_estimator, params, metric_to_eval, cv_generator, features, target):\n",
        "    \"\"\"\n",
        "    Function to evaluate the best set of HP given a specific metric using Grid Search CV.\n",
        "    \n",
        "    Arguments:\n",
        "        model_estimator: Model to be evaluated\n",
        "        params: hyper parameters grid\n",
        "        metric_to_eval: metric to be evaluated in the search (model evaluation)\n",
        "        cv_generator: Stratified K-Fold Generator to guarantee reproductibility\n",
        "        features: x train set to be used\n",
        "        target: y train set to be used\n",
        "    \n",
        "    Returns:\n",
        "        (best_model, best_hiperparameters, best_metric_score)\n",
        "    \"\"\"\n",
        "    # Define Random Search CV object\n",
        "    hp_search = GridSearchCV(estimator=model_estimator,param_grid=params,cv=cv_generator,\n",
        "                             scoring=metric_to_eval,verbose=2,n_jobs=-1)\n",
        "    # Search\n",
        "    hp_search.fit(features, target)\n",
        "    # Finish\n",
        "    return (hp_search.best_estimator_, hp_search.best_params_, hp_search.best_score_, hp_search.cv_results_)"
      ]
    },
    {
      "cell_type": "code",
      "execution_count": null,
      "metadata": {
        "id": "QaEXiZJccW5G"
      },
      "outputs": [],
      "source": [
        "def optimizationRandomCV(model_estimator, params, metric_to_eval, cv_generator, n_iter, features, target):\n",
        "    \"\"\"\n",
        "    Function to evaluate the best set of HP given a specific metric using Random Search CV.\n",
        "    \n",
        "    Arguments:\n",
        "        model_estimator: Model to be evaluated\n",
        "        params: hyper parameters grid\n",
        "        metric_to_eval: metric to be evaluated in the search (model evaluation)\n",
        "        cv_generator: Stratified K-Fold Generator to guarantee reproductibility\n",
        "        n_iter: iterations in RandomizedSearchCV\n",
        "        features: x train set to be used\n",
        "        target: y train set to be used\n",
        "    \n",
        "    Returns:\n",
        "        (best_model, best_hiperparameters, best_metric_score)\n",
        "    \"\"\"\n",
        "    # Define Random Search CV object\n",
        "    hp_search = RandomizedSearchCV(estimator=model_estimator,\n",
        "                                   param_distributions=params, \n",
        "                                   n_iter=n_iter,\n",
        "                                   cv=cv_generator,\n",
        "                                   scoring=metric_to_eval,\n",
        "                                   verbose=2,\n",
        "                                   random_state=101,\n",
        "                                   n_jobs=-1)\n",
        "    # Search\n",
        "    hp_search.fit(features, target)\n",
        "    # Finish\n",
        "    return (hp_search.best_estimator_, hp_search.best_params_, hp_search.best_score_, hp_search.cv_results_)"
      ]
    },
    {
      "cell_type": "code",
      "execution_count": null,
      "metadata": {
        "id": "PQwuGMGvcW5G"
      },
      "outputs": [],
      "source": [
        "def optimizationBayesCV(model_estimator, params, metric_to_eval, cv_generator, n_iter, features, target):\n",
        "    \"\"\"\n",
        "    Function to evaluate the best set of HP given a specific metric using Bayes Optimization Search CV.\n",
        "    \n",
        "    Arguments:\n",
        "        model_estimator: Model to be evaluated\n",
        "        params: hyper parameters grid\n",
        "        metric_to_eval: metric to be evaluated in the search (model evaluation)\n",
        "        cv_generator: Stratified K-Fold Generator to guarantee reproductibility\n",
        "        n_iter: iterations in BayesSearchCV\n",
        "        features: x train set to be used\n",
        "        target: y train set to be used\n",
        "    \n",
        "    Returns:\n",
        "        (best_model, best_hiperparameters, best_metric_score)\n",
        "    \"\"\"\n",
        "    # Define Search CV object\n",
        "    hp_search = BayesSearchCV(estimator=model_estimator,\n",
        "                              search_spaces=params,\n",
        "                              n_iter=n_iter,\n",
        "                              cv=cv_generator,\n",
        "                              scoring=metric_to_eval,\n",
        "                              verbose=0,\n",
        "                              random_state=101,\n",
        "                              n_jobs=5,\n",
        "                              n_points=5)\n",
        "    # Search\n",
        "    hp_search.fit(features, target)\n",
        "    # Finish\n",
        "    return (hp_search.best_estimator_, hp_search.best_params_, hp_search.best_score_, hp_search.cv_results_)"
      ]
    },
    {
      "cell_type": "code",
      "execution_count": null,
      "metadata": {
        "id": "53xDoEuDcW5G"
      },
      "outputs": [],
      "source": [
        "def optimizationPipeline(estimator,params,x_train,y_train,metric_eval,cv_generator,opt_option='grid',n_iter=None):\n",
        "    \"\"\"\n",
        "    Function to apply a specific HP optimization and present results.\n",
        "    Arguments:\n",
        "        estimator: Model to be evaluated\n",
        "        params: hyper parameters grid\n",
        "        x_train: self explanatory\n",
        "        y_train: self explanatory\n",
        "        metric_to_eval: metric to be evaluated in the search (model evaluation)\n",
        "        opt_option: define the methodology to HP Optimization. Can be 'grid','random' or 'bayes'\n",
        "        cv_generator: Stratified K-Fold Generator to guarantee reproductibility\n",
        "        n_iter: iterations in RandomSearchCV or BayesOptimization. It's ignored if opt_option is 'grid'.\n",
        "    Returns:\n",
        "        dictionary with overall results\n",
        "    \"\"\"  \n",
        "    # 1 - SEARCH\n",
        "    if opt_option == 'grid':\n",
        "        best_model,best_params,best_score,cv_results = optimizationGridCV(estimator,params,metric_eval,cv_generator,\n",
        "                                                                          x_train,y_train)\n",
        "    elif opt_option == 'random':\n",
        "        best_model,best_params,best_score,cv_results = optimizationRandomCV(estimator,params,metric_eval,cv_generator,\n",
        "                                                                            n_iter,x_train,y_train)\n",
        "    elif opt_option == 'bayes':\n",
        "        best_model,best_params,best_score,cv_results = optimizationBayesCV(estimator,params,metric_eval,cv_generator,\n",
        "                                                                           n_iter,x_train,y_train)\n",
        "    else:\n",
        "        print('ERROR - Wrong opt_option selected')\n",
        "        return\n",
        "    \n",
        "    # Wait for results\n",
        "    sleep(1.5)    \n",
        "    # 2 - Show Model Results\n",
        "    printModelGeneralInfo(best_model, best_params, best_score, metric_eval)\n",
        "    # 3 - Returns\n",
        "    returned_dict = {'best_model':best_model,'best_params':best_params,'best_score':best_score,\n",
        "                     'cv_res':pd.DataFrame(cv_results),'metric_used':metric_eval}\n",
        "    return returned_dict"
      ]
    },
    {
      "cell_type": "markdown",
      "metadata": {
        "id": "3_jS4EfYKQU3"
      },
      "source": [
        "**Hyper parameters optimization**\n",
        "Details:\n",
        "\n",
        "    Metrics: f1 which represents F1-Score\n",
        "    Models: Logistic Regression, SVM, Random Forest, Gradient Boosting and XGBoost\n",
        "    Process to optimize: CV 5-Fold Strafied. Optimization algorithm is Bayes Optimization.\n"
      ]
    },
    {
      "cell_type": "code",
      "execution_count": null,
      "metadata": {
        "id": "34xtAp41KVYf"
      },
      "outputs": [],
      "source": [
        "# Metric used\n",
        "metric_optimize = sklearn.metrics.make_scorer(sklearn.metrics.f1_score, average = 'macro')"
      ]
    },
    {
      "cell_type": "code",
      "execution_count": null,
      "metadata": {
        "id": "FwIdQ7G9Kje0"
      },
      "outputs": [],
      "source": [
        "# Stratified K-Fold generator - Generate a general split to be able to compare all models with CV results\n",
        "strat_cv_5folds = StratifiedKFold(n_splits=5,random_state=101, shuffle=True)"
      ]
    },
    {
      "cell_type": "markdown",
      "metadata": {
        "id": "XCFh-c6MKtv9"
      },
      "source": [
        "**HPO Procedure**"
      ]
    },
    {
      "cell_type": "markdown",
      "metadata": {
        "id": "eBltgLMBKxTg"
      },
      "source": [
        "**logistic regression oversampled**"
      ]
    },
    {
      "cell_type": "code",
      "execution_count": null,
      "metadata": {
        "colab": {
          "base_uri": "https://localhost:8080/",
          "height": 353
        },
        "id": "ieiv9Db5cW5J",
        "outputId": "fc634838-4d14-4a1a-b4f3-267d5eba37cd"
      },
      "outputs": [
        {
          "output_type": "error",
          "ename": "KeyboardInterrupt",
          "evalue": "ignored",
          "traceback": [
            "\u001b[0;31m---------------------------------------------------------------------------\u001b[0m",
            "\u001b[0;31mKeyboardInterrupt\u001b[0m                         Traceback (most recent call last)",
            "\u001b[0;32m<ipython-input-25-48763cb4ef3f>\u001b[0m in \u001b[0;36m<module>\u001b[0;34m()\u001b[0m\n\u001b[1;32m      8\u001b[0m \u001b[0;31m## HP Optimization\u001b[0m\u001b[0;34m\u001b[0m\u001b[0;34m\u001b[0m\u001b[0;34m\u001b[0m\u001b[0m\n\u001b[1;32m      9\u001b[0m lre_res_ove = optimizationPipeline(estimator,params,x_train_smt,y_train_smt,metric_optimize, \n\u001b[0;32m---> 10\u001b[0;31m                                    strat_cv_5folds,opt_option='bayes',n_iter=100)\n\u001b[0m",
            "\u001b[0;32m<ipython-input-21-b7b983e9a7cf>\u001b[0m in \u001b[0;36moptimizationPipeline\u001b[0;34m(estimator, params, x_train, y_train, metric_eval, cv_generator, opt_option, n_iter)\u001b[0m\n\u001b[1;32m     23\u001b[0m     \u001b[0;32melif\u001b[0m \u001b[0mopt_option\u001b[0m \u001b[0;34m==\u001b[0m \u001b[0;34m'bayes'\u001b[0m\u001b[0;34m:\u001b[0m\u001b[0;34m\u001b[0m\u001b[0;34m\u001b[0m\u001b[0m\n\u001b[1;32m     24\u001b[0m         best_model,best_params,best_score,cv_results = optimizationBayesCV(estimator,params,metric_eval,cv_generator,\n\u001b[0;32m---> 25\u001b[0;31m                                                                            n_iter,x_train,y_train)\n\u001b[0m\u001b[1;32m     26\u001b[0m     \u001b[0;32melse\u001b[0m\u001b[0;34m:\u001b[0m\u001b[0;34m\u001b[0m\u001b[0;34m\u001b[0m\u001b[0m\n\u001b[1;32m     27\u001b[0m         \u001b[0mprint\u001b[0m\u001b[0;34m(\u001b[0m\u001b[0;34m'ERROR - Wrong opt_option selected'\u001b[0m\u001b[0;34m)\u001b[0m\u001b[0;34m\u001b[0m\u001b[0;34m\u001b[0m\u001b[0m\n",
            "\u001b[0;32m<ipython-input-20-12ba8c827dce>\u001b[0m in \u001b[0;36moptimizationBayesCV\u001b[0;34m(model_estimator, params, metric_to_eval, cv_generator, n_iter, features, target)\u001b[0m\n\u001b[1;32m     26\u001b[0m                               n_points=5)\n\u001b[1;32m     27\u001b[0m     \u001b[0;31m# Search\u001b[0m\u001b[0;34m\u001b[0m\u001b[0;34m\u001b[0m\u001b[0;34m\u001b[0m\u001b[0m\n\u001b[0;32m---> 28\u001b[0;31m     \u001b[0mhp_search\u001b[0m\u001b[0;34m.\u001b[0m\u001b[0mfit\u001b[0m\u001b[0;34m(\u001b[0m\u001b[0mfeatures\u001b[0m\u001b[0;34m,\u001b[0m \u001b[0mtarget\u001b[0m\u001b[0;34m)\u001b[0m\u001b[0;34m\u001b[0m\u001b[0;34m\u001b[0m\u001b[0m\n\u001b[0m\u001b[1;32m     29\u001b[0m     \u001b[0;31m# Finish\u001b[0m\u001b[0;34m\u001b[0m\u001b[0;34m\u001b[0m\u001b[0;34m\u001b[0m\u001b[0m\n\u001b[1;32m     30\u001b[0m     \u001b[0;32mreturn\u001b[0m \u001b[0;34m(\u001b[0m\u001b[0mhp_search\u001b[0m\u001b[0;34m.\u001b[0m\u001b[0mbest_estimator_\u001b[0m\u001b[0;34m,\u001b[0m \u001b[0mhp_search\u001b[0m\u001b[0;34m.\u001b[0m\u001b[0mbest_params_\u001b[0m\u001b[0;34m,\u001b[0m \u001b[0mhp_search\u001b[0m\u001b[0;34m.\u001b[0m\u001b[0mbest_score_\u001b[0m\u001b[0;34m,\u001b[0m \u001b[0mhp_search\u001b[0m\u001b[0;34m.\u001b[0m\u001b[0mcv_results_\u001b[0m\u001b[0;34m)\u001b[0m\u001b[0;34m\u001b[0m\u001b[0;34m\u001b[0m\u001b[0m\n",
            "\u001b[0;32m/usr/local/lib/python3.7/dist-packages/skopt/searchcv.py\u001b[0m in \u001b[0;36mfit\u001b[0;34m(self, X, y, groups, callback, **fit_params)\u001b[0m\n\u001b[1;32m    464\u001b[0m             \u001b[0mself\u001b[0m\u001b[0;34m.\u001b[0m\u001b[0moptimizer_kwargs_\u001b[0m \u001b[0;34m=\u001b[0m \u001b[0mdict\u001b[0m\u001b[0;34m(\u001b[0m\u001b[0mself\u001b[0m\u001b[0;34m.\u001b[0m\u001b[0moptimizer_kwargs\u001b[0m\u001b[0;34m)\u001b[0m\u001b[0;34m\u001b[0m\u001b[0;34m\u001b[0m\u001b[0m\n\u001b[1;32m    465\u001b[0m \u001b[0;34m\u001b[0m\u001b[0m\n\u001b[0;32m--> 466\u001b[0;31m         \u001b[0msuper\u001b[0m\u001b[0;34m(\u001b[0m\u001b[0;34m)\u001b[0m\u001b[0;34m.\u001b[0m\u001b[0mfit\u001b[0m\u001b[0;34m(\u001b[0m\u001b[0mX\u001b[0m\u001b[0;34m=\u001b[0m\u001b[0mX\u001b[0m\u001b[0;34m,\u001b[0m \u001b[0my\u001b[0m\u001b[0;34m=\u001b[0m\u001b[0my\u001b[0m\u001b[0;34m,\u001b[0m \u001b[0mgroups\u001b[0m\u001b[0;34m=\u001b[0m\u001b[0mgroups\u001b[0m\u001b[0;34m,\u001b[0m \u001b[0;34m**\u001b[0m\u001b[0mfit_params\u001b[0m\u001b[0;34m)\u001b[0m\u001b[0;34m\u001b[0m\u001b[0;34m\u001b[0m\u001b[0m\n\u001b[0m\u001b[1;32m    467\u001b[0m \u001b[0;34m\u001b[0m\u001b[0m\n\u001b[1;32m    468\u001b[0m         \u001b[0;31m# BaseSearchCV never ranked train scores,\u001b[0m\u001b[0;34m\u001b[0m\u001b[0;34m\u001b[0m\u001b[0;34m\u001b[0m\u001b[0m\n",
            "\u001b[0;32m/usr/local/lib/python3.7/dist-packages/sklearn/model_selection/_search.py\u001b[0m in \u001b[0;36mfit\u001b[0;34m(self, X, y, groups, **fit_params)\u001b[0m\n\u001b[1;32m    889\u001b[0m                 \u001b[0;32mreturn\u001b[0m \u001b[0mresults\u001b[0m\u001b[0;34m\u001b[0m\u001b[0;34m\u001b[0m\u001b[0m\n\u001b[1;32m    890\u001b[0m \u001b[0;34m\u001b[0m\u001b[0m\n\u001b[0;32m--> 891\u001b[0;31m             \u001b[0mself\u001b[0m\u001b[0;34m.\u001b[0m\u001b[0m_run_search\u001b[0m\u001b[0;34m(\u001b[0m\u001b[0mevaluate_candidates\u001b[0m\u001b[0;34m)\u001b[0m\u001b[0;34m\u001b[0m\u001b[0;34m\u001b[0m\u001b[0m\n\u001b[0m\u001b[1;32m    892\u001b[0m \u001b[0;34m\u001b[0m\u001b[0m\n\u001b[1;32m    893\u001b[0m             \u001b[0;31m# multimetric is determined here because in the case of a callable\u001b[0m\u001b[0;34m\u001b[0m\u001b[0;34m\u001b[0m\u001b[0;34m\u001b[0m\u001b[0m\n",
            "\u001b[0;32m/usr/local/lib/python3.7/dist-packages/skopt/searchcv.py\u001b[0m in \u001b[0;36m_run_search\u001b[0;34m(self, evaluate_candidates)\u001b[0m\n\u001b[1;32m    512\u001b[0m                 optim_result = self._step(\n\u001b[1;32m    513\u001b[0m                     \u001b[0msearch_space\u001b[0m\u001b[0;34m,\u001b[0m \u001b[0moptimizer\u001b[0m\u001b[0;34m,\u001b[0m\u001b[0;34m\u001b[0m\u001b[0;34m\u001b[0m\u001b[0m\n\u001b[0;32m--> 514\u001b[0;31m                     \u001b[0mevaluate_candidates\u001b[0m\u001b[0;34m,\u001b[0m \u001b[0mn_points\u001b[0m\u001b[0;34m=\u001b[0m\u001b[0mn_points_adjusted\u001b[0m\u001b[0;34m\u001b[0m\u001b[0;34m\u001b[0m\u001b[0m\n\u001b[0m\u001b[1;32m    515\u001b[0m                 )\n\u001b[1;32m    516\u001b[0m                 \u001b[0mn_iter\u001b[0m \u001b[0;34m-=\u001b[0m \u001b[0mn_points\u001b[0m\u001b[0;34m\u001b[0m\u001b[0;34m\u001b[0m\u001b[0m\n",
            "\u001b[0;32m/usr/local/lib/python3.7/dist-packages/skopt/searchcv.py\u001b[0m in \u001b[0;36m_step\u001b[0;34m(self, search_space, optimizer, evaluate_candidates, n_points)\u001b[0m\n\u001b[1;32m    398\u001b[0m         \"\"\"\n\u001b[1;32m    399\u001b[0m         \u001b[0;31m# get parameter values to evaluate\u001b[0m\u001b[0;34m\u001b[0m\u001b[0;34m\u001b[0m\u001b[0;34m\u001b[0m\u001b[0m\n\u001b[0;32m--> 400\u001b[0;31m         \u001b[0mparams\u001b[0m \u001b[0;34m=\u001b[0m \u001b[0moptimizer\u001b[0m\u001b[0;34m.\u001b[0m\u001b[0mask\u001b[0m\u001b[0;34m(\u001b[0m\u001b[0mn_points\u001b[0m\u001b[0;34m=\u001b[0m\u001b[0mn_points\u001b[0m\u001b[0;34m)\u001b[0m\u001b[0;34m\u001b[0m\u001b[0;34m\u001b[0m\u001b[0m\n\u001b[0m\u001b[1;32m    401\u001b[0m \u001b[0;34m\u001b[0m\u001b[0m\n\u001b[1;32m    402\u001b[0m         \u001b[0;31m# convert parameters to python native types\u001b[0m\u001b[0;34m\u001b[0m\u001b[0;34m\u001b[0m\u001b[0;34m\u001b[0m\u001b[0m\n",
            "\u001b[0;32m/usr/local/lib/python3.7/dist-packages/skopt/optimizer/optimizer.py\u001b[0m in \u001b[0;36mask\u001b[0;34m(self, n_points, strategy)\u001b[0m\n\u001b[1;32m    415\u001b[0m                 \u001b[0mopt\u001b[0m\u001b[0;34m.\u001b[0m\u001b[0m_tell\u001b[0m\u001b[0;34m(\u001b[0m\u001b[0mx\u001b[0m\u001b[0;34m,\u001b[0m \u001b[0;34m(\u001b[0m\u001b[0my_lie\u001b[0m\u001b[0;34m,\u001b[0m \u001b[0mt_lie\u001b[0m\u001b[0;34m)\u001b[0m\u001b[0;34m)\u001b[0m\u001b[0;34m\u001b[0m\u001b[0;34m\u001b[0m\u001b[0m\n\u001b[1;32m    416\u001b[0m             \u001b[0;32melse\u001b[0m\u001b[0;34m:\u001b[0m\u001b[0;34m\u001b[0m\u001b[0;34m\u001b[0m\u001b[0m\n\u001b[0;32m--> 417\u001b[0;31m                 \u001b[0mopt\u001b[0m\u001b[0;34m.\u001b[0m\u001b[0m_tell\u001b[0m\u001b[0;34m(\u001b[0m\u001b[0mx\u001b[0m\u001b[0;34m,\u001b[0m \u001b[0my_lie\u001b[0m\u001b[0;34m)\u001b[0m\u001b[0;34m\u001b[0m\u001b[0;34m\u001b[0m\u001b[0m\n\u001b[0m\u001b[1;32m    418\u001b[0m \u001b[0;34m\u001b[0m\u001b[0m\n\u001b[1;32m    419\u001b[0m         \u001b[0mself\u001b[0m\u001b[0;34m.\u001b[0m\u001b[0mcache_\u001b[0m \u001b[0;34m=\u001b[0m \u001b[0;34m{\u001b[0m\u001b[0;34m(\u001b[0m\u001b[0mn_points\u001b[0m\u001b[0;34m,\u001b[0m \u001b[0mstrategy\u001b[0m\u001b[0;34m)\u001b[0m\u001b[0;34m:\u001b[0m \u001b[0mX\u001b[0m\u001b[0;34m}\u001b[0m  \u001b[0;31m# cache_ the result\u001b[0m\u001b[0;34m\u001b[0m\u001b[0;34m\u001b[0m\u001b[0m\n",
            "\u001b[0;32m/usr/local/lib/python3.7/dist-packages/skopt/optimizer/optimizer.py\u001b[0m in \u001b[0;36m_tell\u001b[0;34m(self, x, y, fit)\u001b[0m\n\u001b[1;32m    534\u001b[0m             \u001b[0;32mwith\u001b[0m \u001b[0mwarnings\u001b[0m\u001b[0;34m.\u001b[0m\u001b[0mcatch_warnings\u001b[0m\u001b[0;34m(\u001b[0m\u001b[0;34m)\u001b[0m\u001b[0;34m:\u001b[0m\u001b[0;34m\u001b[0m\u001b[0;34m\u001b[0m\u001b[0m\n\u001b[1;32m    535\u001b[0m                 \u001b[0mwarnings\u001b[0m\u001b[0;34m.\u001b[0m\u001b[0msimplefilter\u001b[0m\u001b[0;34m(\u001b[0m\u001b[0;34m\"ignore\"\u001b[0m\u001b[0;34m)\u001b[0m\u001b[0;34m\u001b[0m\u001b[0;34m\u001b[0m\u001b[0m\n\u001b[0;32m--> 536\u001b[0;31m                 \u001b[0mest\u001b[0m\u001b[0;34m.\u001b[0m\u001b[0mfit\u001b[0m\u001b[0;34m(\u001b[0m\u001b[0mself\u001b[0m\u001b[0;34m.\u001b[0m\u001b[0mspace\u001b[0m\u001b[0;34m.\u001b[0m\u001b[0mtransform\u001b[0m\u001b[0;34m(\u001b[0m\u001b[0mself\u001b[0m\u001b[0;34m.\u001b[0m\u001b[0mXi\u001b[0m\u001b[0;34m)\u001b[0m\u001b[0;34m,\u001b[0m \u001b[0mself\u001b[0m\u001b[0;34m.\u001b[0m\u001b[0myi\u001b[0m\u001b[0;34m)\u001b[0m\u001b[0;34m\u001b[0m\u001b[0;34m\u001b[0m\u001b[0m\n\u001b[0m\u001b[1;32m    537\u001b[0m \u001b[0;34m\u001b[0m\u001b[0m\n\u001b[1;32m    538\u001b[0m             \u001b[0;32mif\u001b[0m \u001b[0mhasattr\u001b[0m\u001b[0;34m(\u001b[0m\u001b[0mself\u001b[0m\u001b[0;34m,\u001b[0m \u001b[0;34m\"next_xs_\"\u001b[0m\u001b[0;34m)\u001b[0m \u001b[0;32mand\u001b[0m \u001b[0mself\u001b[0m\u001b[0;34m.\u001b[0m\u001b[0macq_func\u001b[0m \u001b[0;34m==\u001b[0m \u001b[0;34m\"gp_hedge\"\u001b[0m\u001b[0;34m:\u001b[0m\u001b[0;34m\u001b[0m\u001b[0;34m\u001b[0m\u001b[0m\n",
            "\u001b[0;32m/usr/local/lib/python3.7/dist-packages/skopt/learning/gaussian_process/gpr.py\u001b[0m in \u001b[0;36mfit\u001b[0;34m(self, X, y)\u001b[0m\n\u001b[1;32m    193\u001b[0m                 \u001b[0mnoise_level\u001b[0m\u001b[0;34m=\u001b[0m\u001b[0mself\u001b[0m\u001b[0;34m.\u001b[0m\u001b[0mnoise\u001b[0m\u001b[0;34m,\u001b[0m \u001b[0mnoise_level_bounds\u001b[0m\u001b[0;34m=\u001b[0m\u001b[0;34m\"fixed\"\u001b[0m\u001b[0;34m\u001b[0m\u001b[0;34m\u001b[0m\u001b[0m\n\u001b[1;32m    194\u001b[0m             )\n\u001b[0;32m--> 195\u001b[0;31m         \u001b[0msuper\u001b[0m\u001b[0;34m(\u001b[0m\u001b[0mGaussianProcessRegressor\u001b[0m\u001b[0;34m,\u001b[0m \u001b[0mself\u001b[0m\u001b[0;34m)\u001b[0m\u001b[0;34m.\u001b[0m\u001b[0mfit\u001b[0m\u001b[0;34m(\u001b[0m\u001b[0mX\u001b[0m\u001b[0;34m,\u001b[0m \u001b[0my\u001b[0m\u001b[0;34m)\u001b[0m\u001b[0;34m\u001b[0m\u001b[0;34m\u001b[0m\u001b[0m\n\u001b[0m\u001b[1;32m    196\u001b[0m \u001b[0;34m\u001b[0m\u001b[0m\n\u001b[1;32m    197\u001b[0m         \u001b[0mself\u001b[0m\u001b[0;34m.\u001b[0m\u001b[0mnoise_\u001b[0m \u001b[0;34m=\u001b[0m \u001b[0;32mNone\u001b[0m\u001b[0;34m\u001b[0m\u001b[0;34m\u001b[0m\u001b[0m\n",
            "\u001b[0;32m/usr/local/lib/python3.7/dist-packages/sklearn/gaussian_process/_gpr.py\u001b[0m in \u001b[0;36mfit\u001b[0;34m(self, X, y)\u001b[0m\n\u001b[1;32m    288\u001b[0m                     \u001b[0mtheta_initial\u001b[0m \u001b[0;34m=\u001b[0m \u001b[0mself\u001b[0m\u001b[0;34m.\u001b[0m\u001b[0m_rng\u001b[0m\u001b[0;34m.\u001b[0m\u001b[0muniform\u001b[0m\u001b[0;34m(\u001b[0m\u001b[0mbounds\u001b[0m\u001b[0;34m[\u001b[0m\u001b[0;34m:\u001b[0m\u001b[0;34m,\u001b[0m \u001b[0;36m0\u001b[0m\u001b[0;34m]\u001b[0m\u001b[0;34m,\u001b[0m \u001b[0mbounds\u001b[0m\u001b[0;34m[\u001b[0m\u001b[0;34m:\u001b[0m\u001b[0;34m,\u001b[0m \u001b[0;36m1\u001b[0m\u001b[0;34m]\u001b[0m\u001b[0;34m)\u001b[0m\u001b[0;34m\u001b[0m\u001b[0;34m\u001b[0m\u001b[0m\n\u001b[1;32m    289\u001b[0m                     optima.append(\n\u001b[0;32m--> 290\u001b[0;31m                         \u001b[0mself\u001b[0m\u001b[0;34m.\u001b[0m\u001b[0m_constrained_optimization\u001b[0m\u001b[0;34m(\u001b[0m\u001b[0mobj_func\u001b[0m\u001b[0;34m,\u001b[0m \u001b[0mtheta_initial\u001b[0m\u001b[0;34m,\u001b[0m \u001b[0mbounds\u001b[0m\u001b[0;34m)\u001b[0m\u001b[0;34m\u001b[0m\u001b[0;34m\u001b[0m\u001b[0m\n\u001b[0m\u001b[1;32m    291\u001b[0m                     )\n\u001b[1;32m    292\u001b[0m             \u001b[0;31m# Select result from run with minimal (negative) log-marginal\u001b[0m\u001b[0;34m\u001b[0m\u001b[0;34m\u001b[0m\u001b[0;34m\u001b[0m\u001b[0m\n",
            "\u001b[0;32m/usr/local/lib/python3.7/dist-packages/sklearn/gaussian_process/_gpr.py\u001b[0m in \u001b[0;36m_constrained_optimization\u001b[0;34m(self, obj_func, initial_theta, bounds)\u001b[0m\n\u001b[1;32m    606\u001b[0m                 \u001b[0mmethod\u001b[0m\u001b[0;34m=\u001b[0m\u001b[0;34m\"L-BFGS-B\"\u001b[0m\u001b[0;34m,\u001b[0m\u001b[0;34m\u001b[0m\u001b[0;34m\u001b[0m\u001b[0m\n\u001b[1;32m    607\u001b[0m                 \u001b[0mjac\u001b[0m\u001b[0;34m=\u001b[0m\u001b[0;32mTrue\u001b[0m\u001b[0;34m,\u001b[0m\u001b[0;34m\u001b[0m\u001b[0;34m\u001b[0m\u001b[0m\n\u001b[0;32m--> 608\u001b[0;31m                 \u001b[0mbounds\u001b[0m\u001b[0;34m=\u001b[0m\u001b[0mbounds\u001b[0m\u001b[0;34m,\u001b[0m\u001b[0;34m\u001b[0m\u001b[0;34m\u001b[0m\u001b[0m\n\u001b[0m\u001b[1;32m    609\u001b[0m             )\n\u001b[1;32m    610\u001b[0m             \u001b[0m_check_optimize_result\u001b[0m\u001b[0;34m(\u001b[0m\u001b[0;34m\"lbfgs\"\u001b[0m\u001b[0;34m,\u001b[0m \u001b[0mopt_res\u001b[0m\u001b[0;34m)\u001b[0m\u001b[0;34m\u001b[0m\u001b[0;34m\u001b[0m\u001b[0m\n",
            "\u001b[0;32m/usr/local/lib/python3.7/dist-packages/scipy/optimize/_minimize.py\u001b[0m in \u001b[0;36mminimize\u001b[0;34m(fun, x0, args, method, jac, hess, hessp, bounds, constraints, tol, callback, options)\u001b[0m\n\u001b[1;32m    622\u001b[0m     \u001b[0;32melif\u001b[0m \u001b[0mmeth\u001b[0m \u001b[0;34m==\u001b[0m \u001b[0;34m'l-bfgs-b'\u001b[0m\u001b[0;34m:\u001b[0m\u001b[0;34m\u001b[0m\u001b[0;34m\u001b[0m\u001b[0m\n\u001b[1;32m    623\u001b[0m         return _minimize_lbfgsb(fun, x0, args, jac, bounds,\n\u001b[0;32m--> 624\u001b[0;31m                                 callback=callback, **options)\n\u001b[0m\u001b[1;32m    625\u001b[0m     \u001b[0;32melif\u001b[0m \u001b[0mmeth\u001b[0m \u001b[0;34m==\u001b[0m \u001b[0;34m'tnc'\u001b[0m\u001b[0;34m:\u001b[0m\u001b[0;34m\u001b[0m\u001b[0;34m\u001b[0m\u001b[0m\n\u001b[1;32m    626\u001b[0m         return _minimize_tnc(fun, x0, args, jac, bounds, callback=callback,\n",
            "\u001b[0;32m/usr/local/lib/python3.7/dist-packages/scipy/optimize/lbfgsb.py\u001b[0m in \u001b[0;36m_minimize_lbfgsb\u001b[0;34m(fun, x0, args, jac, bounds, disp, maxcor, ftol, gtol, eps, maxfun, maxiter, iprint, callback, maxls, finite_diff_rel_step, **unknown_options)\u001b[0m\n\u001b[1;32m    358\u001b[0m             \u001b[0;31m# until the completion of the current minimization iteration.\u001b[0m\u001b[0;34m\u001b[0m\u001b[0;34m\u001b[0m\u001b[0;34m\u001b[0m\u001b[0m\n\u001b[1;32m    359\u001b[0m             \u001b[0;31m# Overwrite f and g:\u001b[0m\u001b[0;34m\u001b[0m\u001b[0;34m\u001b[0m\u001b[0;34m\u001b[0m\u001b[0m\n\u001b[0;32m--> 360\u001b[0;31m             \u001b[0mf\u001b[0m\u001b[0;34m,\u001b[0m \u001b[0mg\u001b[0m \u001b[0;34m=\u001b[0m \u001b[0mfunc_and_grad\u001b[0m\u001b[0;34m(\u001b[0m\u001b[0mx\u001b[0m\u001b[0;34m)\u001b[0m\u001b[0;34m\u001b[0m\u001b[0;34m\u001b[0m\u001b[0m\n\u001b[0m\u001b[1;32m    361\u001b[0m         \u001b[0;32melif\u001b[0m \u001b[0mtask_str\u001b[0m\u001b[0;34m.\u001b[0m\u001b[0mstartswith\u001b[0m\u001b[0;34m(\u001b[0m\u001b[0;34mb'NEW_X'\u001b[0m\u001b[0;34m)\u001b[0m\u001b[0;34m:\u001b[0m\u001b[0;34m\u001b[0m\u001b[0;34m\u001b[0m\u001b[0m\n\u001b[1;32m    362\u001b[0m             \u001b[0;31m# new iteration\u001b[0m\u001b[0;34m\u001b[0m\u001b[0;34m\u001b[0m\u001b[0;34m\u001b[0m\u001b[0m\n",
            "\u001b[0;32m/usr/local/lib/python3.7/dist-packages/scipy/optimize/_differentiable_functions.py\u001b[0m in \u001b[0;36mfun_and_grad\u001b[0;34m(self, x)\u001b[0m\n\u001b[1;32m    265\u001b[0m         \u001b[0;32mif\u001b[0m \u001b[0;32mnot\u001b[0m \u001b[0mnp\u001b[0m\u001b[0;34m.\u001b[0m\u001b[0marray_equal\u001b[0m\u001b[0;34m(\u001b[0m\u001b[0mx\u001b[0m\u001b[0;34m,\u001b[0m \u001b[0mself\u001b[0m\u001b[0;34m.\u001b[0m\u001b[0mx\u001b[0m\u001b[0;34m)\u001b[0m\u001b[0;34m:\u001b[0m\u001b[0;34m\u001b[0m\u001b[0;34m\u001b[0m\u001b[0m\n\u001b[1;32m    266\u001b[0m             \u001b[0mself\u001b[0m\u001b[0;34m.\u001b[0m\u001b[0m_update_x_impl\u001b[0m\u001b[0;34m(\u001b[0m\u001b[0mx\u001b[0m\u001b[0;34m)\u001b[0m\u001b[0;34m\u001b[0m\u001b[0;34m\u001b[0m\u001b[0m\n\u001b[0;32m--> 267\u001b[0;31m         \u001b[0mself\u001b[0m\u001b[0;34m.\u001b[0m\u001b[0m_update_fun\u001b[0m\u001b[0;34m(\u001b[0m\u001b[0;34m)\u001b[0m\u001b[0;34m\u001b[0m\u001b[0;34m\u001b[0m\u001b[0m\n\u001b[0m\u001b[1;32m    268\u001b[0m         \u001b[0mself\u001b[0m\u001b[0;34m.\u001b[0m\u001b[0m_update_grad\u001b[0m\u001b[0;34m(\u001b[0m\u001b[0;34m)\u001b[0m\u001b[0;34m\u001b[0m\u001b[0;34m\u001b[0m\u001b[0m\n\u001b[1;32m    269\u001b[0m         \u001b[0;32mreturn\u001b[0m \u001b[0mself\u001b[0m\u001b[0;34m.\u001b[0m\u001b[0mf\u001b[0m\u001b[0;34m,\u001b[0m \u001b[0mself\u001b[0m\u001b[0;34m.\u001b[0m\u001b[0mg\u001b[0m\u001b[0;34m\u001b[0m\u001b[0;34m\u001b[0m\u001b[0m\n",
            "\u001b[0;32m/usr/local/lib/python3.7/dist-packages/scipy/optimize/_differentiable_functions.py\u001b[0m in \u001b[0;36m_update_fun\u001b[0;34m(self)\u001b[0m\n\u001b[1;32m    231\u001b[0m     \u001b[0;32mdef\u001b[0m \u001b[0m_update_fun\u001b[0m\u001b[0;34m(\u001b[0m\u001b[0mself\u001b[0m\u001b[0;34m)\u001b[0m\u001b[0;34m:\u001b[0m\u001b[0;34m\u001b[0m\u001b[0;34m\u001b[0m\u001b[0m\n\u001b[1;32m    232\u001b[0m         \u001b[0;32mif\u001b[0m \u001b[0;32mnot\u001b[0m \u001b[0mself\u001b[0m\u001b[0;34m.\u001b[0m\u001b[0mf_updated\u001b[0m\u001b[0;34m:\u001b[0m\u001b[0;34m\u001b[0m\u001b[0;34m\u001b[0m\u001b[0m\n\u001b[0;32m--> 233\u001b[0;31m             \u001b[0mself\u001b[0m\u001b[0;34m.\u001b[0m\u001b[0m_update_fun_impl\u001b[0m\u001b[0;34m(\u001b[0m\u001b[0;34m)\u001b[0m\u001b[0;34m\u001b[0m\u001b[0;34m\u001b[0m\u001b[0m\n\u001b[0m\u001b[1;32m    234\u001b[0m             \u001b[0mself\u001b[0m\u001b[0;34m.\u001b[0m\u001b[0mf_updated\u001b[0m \u001b[0;34m=\u001b[0m \u001b[0;32mTrue\u001b[0m\u001b[0;34m\u001b[0m\u001b[0;34m\u001b[0m\u001b[0m\n\u001b[1;32m    235\u001b[0m \u001b[0;34m\u001b[0m\u001b[0m\n",
            "\u001b[0;32m/usr/local/lib/python3.7/dist-packages/scipy/optimize/_differentiable_functions.py\u001b[0m in \u001b[0;36mupdate_fun\u001b[0;34m()\u001b[0m\n\u001b[1;32m    135\u001b[0m \u001b[0;34m\u001b[0m\u001b[0m\n\u001b[1;32m    136\u001b[0m         \u001b[0;32mdef\u001b[0m \u001b[0mupdate_fun\u001b[0m\u001b[0;34m(\u001b[0m\u001b[0;34m)\u001b[0m\u001b[0;34m:\u001b[0m\u001b[0;34m\u001b[0m\u001b[0;34m\u001b[0m\u001b[0m\n\u001b[0;32m--> 137\u001b[0;31m             \u001b[0mself\u001b[0m\u001b[0;34m.\u001b[0m\u001b[0mf\u001b[0m \u001b[0;34m=\u001b[0m \u001b[0mfun_wrapped\u001b[0m\u001b[0;34m(\u001b[0m\u001b[0mself\u001b[0m\u001b[0;34m.\u001b[0m\u001b[0mx\u001b[0m\u001b[0;34m)\u001b[0m\u001b[0;34m\u001b[0m\u001b[0;34m\u001b[0m\u001b[0m\n\u001b[0m\u001b[1;32m    138\u001b[0m \u001b[0;34m\u001b[0m\u001b[0m\n\u001b[1;32m    139\u001b[0m         \u001b[0mself\u001b[0m\u001b[0;34m.\u001b[0m\u001b[0m_update_fun_impl\u001b[0m \u001b[0;34m=\u001b[0m \u001b[0mupdate_fun\u001b[0m\u001b[0;34m\u001b[0m\u001b[0;34m\u001b[0m\u001b[0m\n",
            "\u001b[0;32m/usr/local/lib/python3.7/dist-packages/scipy/optimize/_differentiable_functions.py\u001b[0m in \u001b[0;36mfun_wrapped\u001b[0;34m(x)\u001b[0m\n\u001b[1;32m    132\u001b[0m             \u001b[0;31m# Overwriting results in undefined behaviour because\u001b[0m\u001b[0;34m\u001b[0m\u001b[0;34m\u001b[0m\u001b[0;34m\u001b[0m\u001b[0m\n\u001b[1;32m    133\u001b[0m             \u001b[0;31m# fun(self.x) will change self.x, with the two no longer linked.\u001b[0m\u001b[0;34m\u001b[0m\u001b[0;34m\u001b[0m\u001b[0;34m\u001b[0m\u001b[0m\n\u001b[0;32m--> 134\u001b[0;31m             \u001b[0;32mreturn\u001b[0m \u001b[0mfun\u001b[0m\u001b[0;34m(\u001b[0m\u001b[0mnp\u001b[0m\u001b[0;34m.\u001b[0m\u001b[0mcopy\u001b[0m\u001b[0;34m(\u001b[0m\u001b[0mx\u001b[0m\u001b[0;34m)\u001b[0m\u001b[0;34m,\u001b[0m \u001b[0;34m*\u001b[0m\u001b[0margs\u001b[0m\u001b[0;34m)\u001b[0m\u001b[0;34m\u001b[0m\u001b[0;34m\u001b[0m\u001b[0m\n\u001b[0m\u001b[1;32m    135\u001b[0m \u001b[0;34m\u001b[0m\u001b[0m\n\u001b[1;32m    136\u001b[0m         \u001b[0;32mdef\u001b[0m \u001b[0mupdate_fun\u001b[0m\u001b[0;34m(\u001b[0m\u001b[0;34m)\u001b[0m\u001b[0;34m:\u001b[0m\u001b[0;34m\u001b[0m\u001b[0;34m\u001b[0m\u001b[0m\n",
            "\u001b[0;32m/usr/local/lib/python3.7/dist-packages/scipy/optimize/optimize.py\u001b[0m in \u001b[0;36m__call__\u001b[0;34m(self, x, *args)\u001b[0m\n\u001b[1;32m     72\u001b[0m     \u001b[0;32mdef\u001b[0m \u001b[0m__call__\u001b[0m\u001b[0;34m(\u001b[0m\u001b[0mself\u001b[0m\u001b[0;34m,\u001b[0m \u001b[0mx\u001b[0m\u001b[0;34m,\u001b[0m \u001b[0;34m*\u001b[0m\u001b[0margs\u001b[0m\u001b[0;34m)\u001b[0m\u001b[0;34m:\u001b[0m\u001b[0;34m\u001b[0m\u001b[0;34m\u001b[0m\u001b[0m\n\u001b[1;32m     73\u001b[0m         \u001b[0;34m\"\"\" returns the the function value \"\"\"\u001b[0m\u001b[0;34m\u001b[0m\u001b[0;34m\u001b[0m\u001b[0m\n\u001b[0;32m---> 74\u001b[0;31m         \u001b[0mself\u001b[0m\u001b[0;34m.\u001b[0m\u001b[0m_compute_if_needed\u001b[0m\u001b[0;34m(\u001b[0m\u001b[0mx\u001b[0m\u001b[0;34m,\u001b[0m \u001b[0;34m*\u001b[0m\u001b[0margs\u001b[0m\u001b[0;34m)\u001b[0m\u001b[0;34m\u001b[0m\u001b[0;34m\u001b[0m\u001b[0m\n\u001b[0m\u001b[1;32m     75\u001b[0m         \u001b[0;32mreturn\u001b[0m \u001b[0mself\u001b[0m\u001b[0;34m.\u001b[0m\u001b[0m_value\u001b[0m\u001b[0;34m\u001b[0m\u001b[0;34m\u001b[0m\u001b[0m\n\u001b[1;32m     76\u001b[0m \u001b[0;34m\u001b[0m\u001b[0m\n",
            "\u001b[0;32m/usr/local/lib/python3.7/dist-packages/scipy/optimize/optimize.py\u001b[0m in \u001b[0;36m_compute_if_needed\u001b[0;34m(self, x, *args)\u001b[0m\n\u001b[1;32m     66\u001b[0m         \u001b[0;32mif\u001b[0m \u001b[0;32mnot\u001b[0m \u001b[0mnp\u001b[0m\u001b[0;34m.\u001b[0m\u001b[0mall\u001b[0m\u001b[0;34m(\u001b[0m\u001b[0mx\u001b[0m \u001b[0;34m==\u001b[0m \u001b[0mself\u001b[0m\u001b[0;34m.\u001b[0m\u001b[0mx\u001b[0m\u001b[0;34m)\u001b[0m \u001b[0;32mor\u001b[0m \u001b[0mself\u001b[0m\u001b[0;34m.\u001b[0m\u001b[0m_value\u001b[0m \u001b[0;32mis\u001b[0m \u001b[0;32mNone\u001b[0m \u001b[0;32mor\u001b[0m \u001b[0mself\u001b[0m\u001b[0;34m.\u001b[0m\u001b[0mjac\u001b[0m \u001b[0;32mis\u001b[0m \u001b[0;32mNone\u001b[0m\u001b[0;34m:\u001b[0m\u001b[0;34m\u001b[0m\u001b[0;34m\u001b[0m\u001b[0m\n\u001b[1;32m     67\u001b[0m             \u001b[0mself\u001b[0m\u001b[0;34m.\u001b[0m\u001b[0mx\u001b[0m \u001b[0;34m=\u001b[0m \u001b[0mnp\u001b[0m\u001b[0;34m.\u001b[0m\u001b[0masarray\u001b[0m\u001b[0;34m(\u001b[0m\u001b[0mx\u001b[0m\u001b[0;34m)\u001b[0m\u001b[0;34m.\u001b[0m\u001b[0mcopy\u001b[0m\u001b[0;34m(\u001b[0m\u001b[0;34m)\u001b[0m\u001b[0;34m\u001b[0m\u001b[0;34m\u001b[0m\u001b[0m\n\u001b[0;32m---> 68\u001b[0;31m             \u001b[0mfg\u001b[0m \u001b[0;34m=\u001b[0m \u001b[0mself\u001b[0m\u001b[0;34m.\u001b[0m\u001b[0mfun\u001b[0m\u001b[0;34m(\u001b[0m\u001b[0mx\u001b[0m\u001b[0;34m,\u001b[0m \u001b[0;34m*\u001b[0m\u001b[0margs\u001b[0m\u001b[0;34m)\u001b[0m\u001b[0;34m\u001b[0m\u001b[0;34m\u001b[0m\u001b[0m\n\u001b[0m\u001b[1;32m     69\u001b[0m             \u001b[0mself\u001b[0m\u001b[0;34m.\u001b[0m\u001b[0mjac\u001b[0m \u001b[0;34m=\u001b[0m \u001b[0mfg\u001b[0m\u001b[0;34m[\u001b[0m\u001b[0;36m1\u001b[0m\u001b[0;34m]\u001b[0m\u001b[0;34m\u001b[0m\u001b[0;34m\u001b[0m\u001b[0m\n\u001b[1;32m     70\u001b[0m             \u001b[0mself\u001b[0m\u001b[0;34m.\u001b[0m\u001b[0m_value\u001b[0m \u001b[0;34m=\u001b[0m \u001b[0mfg\u001b[0m\u001b[0;34m[\u001b[0m\u001b[0;36m0\u001b[0m\u001b[0;34m]\u001b[0m\u001b[0;34m\u001b[0m\u001b[0;34m\u001b[0m\u001b[0m\n",
            "\u001b[0;32m/usr/local/lib/python3.7/dist-packages/sklearn/gaussian_process/_gpr.py\u001b[0m in \u001b[0;36mobj_func\u001b[0;34m(theta, eval_gradient)\u001b[0m\n\u001b[1;32m    261\u001b[0m                 \u001b[0;32mif\u001b[0m \u001b[0meval_gradient\u001b[0m\u001b[0;34m:\u001b[0m\u001b[0;34m\u001b[0m\u001b[0;34m\u001b[0m\u001b[0m\n\u001b[1;32m    262\u001b[0m                     lml, grad = self.log_marginal_likelihood(\n\u001b[0;32m--> 263\u001b[0;31m                         \u001b[0mtheta\u001b[0m\u001b[0;34m,\u001b[0m \u001b[0meval_gradient\u001b[0m\u001b[0;34m=\u001b[0m\u001b[0;32mTrue\u001b[0m\u001b[0;34m,\u001b[0m \u001b[0mclone_kernel\u001b[0m\u001b[0;34m=\u001b[0m\u001b[0;32mFalse\u001b[0m\u001b[0;34m\u001b[0m\u001b[0;34m\u001b[0m\u001b[0m\n\u001b[0m\u001b[1;32m    264\u001b[0m                     )\n\u001b[1;32m    265\u001b[0m                     \u001b[0;32mreturn\u001b[0m \u001b[0;34m-\u001b[0m\u001b[0mlml\u001b[0m\u001b[0;34m,\u001b[0m \u001b[0;34m-\u001b[0m\u001b[0mgrad\u001b[0m\u001b[0;34m\u001b[0m\u001b[0;34m\u001b[0m\u001b[0m\n",
            "\u001b[0;32m/usr/local/lib/python3.7/dist-packages/sklearn/gaussian_process/_gpr.py\u001b[0m in \u001b[0;36mlog_marginal_likelihood\u001b[0;34m(self, theta, eval_gradient, clone_kernel)\u001b[0m\n\u001b[1;32m    522\u001b[0m         \u001b[0;32melse\u001b[0m\u001b[0;34m:\u001b[0m\u001b[0;34m\u001b[0m\u001b[0;34m\u001b[0m\u001b[0m\n\u001b[1;32m    523\u001b[0m             \u001b[0mkernel\u001b[0m \u001b[0;34m=\u001b[0m \u001b[0mself\u001b[0m\u001b[0;34m.\u001b[0m\u001b[0mkernel_\u001b[0m\u001b[0;34m\u001b[0m\u001b[0;34m\u001b[0m\u001b[0m\n\u001b[0;32m--> 524\u001b[0;31m             \u001b[0mkernel\u001b[0m\u001b[0;34m.\u001b[0m\u001b[0mtheta\u001b[0m \u001b[0;34m=\u001b[0m \u001b[0mtheta\u001b[0m\u001b[0;34m\u001b[0m\u001b[0;34m\u001b[0m\u001b[0m\n\u001b[0m\u001b[1;32m    525\u001b[0m \u001b[0;34m\u001b[0m\u001b[0m\n\u001b[1;32m    526\u001b[0m         \u001b[0;32mif\u001b[0m \u001b[0meval_gradient\u001b[0m\u001b[0;34m:\u001b[0m\u001b[0;34m\u001b[0m\u001b[0;34m\u001b[0m\u001b[0m\n",
            "\u001b[0;32m/usr/local/lib/python3.7/dist-packages/sklearn/gaussian_process/kernels.py\u001b[0m in \u001b[0;36mtheta\u001b[0;34m(self, theta)\u001b[0m\n\u001b[1;32m    736\u001b[0m             \u001b[0mThe\u001b[0m \u001b[0mnon\u001b[0m\u001b[0;34m-\u001b[0m\u001b[0mfixed\u001b[0m\u001b[0;34m,\u001b[0m \u001b[0mlog\u001b[0m\u001b[0;34m-\u001b[0m\u001b[0mtransformed\u001b[0m \u001b[0mhyperparameters\u001b[0m \u001b[0mof\u001b[0m \u001b[0mthe\u001b[0m \u001b[0mkernel\u001b[0m\u001b[0;34m\u001b[0m\u001b[0;34m\u001b[0m\u001b[0m\n\u001b[1;32m    737\u001b[0m         \"\"\"\n\u001b[0;32m--> 738\u001b[0;31m         \u001b[0mk1_dims\u001b[0m \u001b[0;34m=\u001b[0m \u001b[0mself\u001b[0m\u001b[0;34m.\u001b[0m\u001b[0mk1\u001b[0m\u001b[0;34m.\u001b[0m\u001b[0mn_dims\u001b[0m\u001b[0;34m\u001b[0m\u001b[0;34m\u001b[0m\u001b[0m\n\u001b[0m\u001b[1;32m    739\u001b[0m         \u001b[0mself\u001b[0m\u001b[0;34m.\u001b[0m\u001b[0mk1\u001b[0m\u001b[0;34m.\u001b[0m\u001b[0mtheta\u001b[0m \u001b[0;34m=\u001b[0m \u001b[0mtheta\u001b[0m\u001b[0;34m[\u001b[0m\u001b[0;34m:\u001b[0m\u001b[0mk1_dims\u001b[0m\u001b[0;34m]\u001b[0m\u001b[0;34m\u001b[0m\u001b[0;34m\u001b[0m\u001b[0m\n\u001b[1;32m    740\u001b[0m         \u001b[0mself\u001b[0m\u001b[0;34m.\u001b[0m\u001b[0mk2\u001b[0m\u001b[0;34m.\u001b[0m\u001b[0mtheta\u001b[0m \u001b[0;34m=\u001b[0m \u001b[0mtheta\u001b[0m\u001b[0;34m[\u001b[0m\u001b[0mk1_dims\u001b[0m\u001b[0;34m:\u001b[0m\u001b[0;34m]\u001b[0m\u001b[0;34m\u001b[0m\u001b[0;34m\u001b[0m\u001b[0m\n",
            "\u001b[0;32m/usr/local/lib/python3.7/dist-packages/sklearn/gaussian_process/kernels.py\u001b[0m in \u001b[0;36mn_dims\u001b[0;34m(self)\u001b[0m\n\u001b[1;32m    251\u001b[0m     \u001b[0;32mdef\u001b[0m \u001b[0mn_dims\u001b[0m\u001b[0;34m(\u001b[0m\u001b[0mself\u001b[0m\u001b[0;34m)\u001b[0m\u001b[0;34m:\u001b[0m\u001b[0;34m\u001b[0m\u001b[0;34m\u001b[0m\u001b[0m\n\u001b[1;32m    252\u001b[0m         \u001b[0;34m\"\"\"Returns the number of non-fixed hyperparameters of the kernel.\"\"\"\u001b[0m\u001b[0;34m\u001b[0m\u001b[0;34m\u001b[0m\u001b[0m\n\u001b[0;32m--> 253\u001b[0;31m         \u001b[0;32mreturn\u001b[0m \u001b[0mself\u001b[0m\u001b[0;34m.\u001b[0m\u001b[0mtheta\u001b[0m\u001b[0;34m.\u001b[0m\u001b[0mshape\u001b[0m\u001b[0;34m[\u001b[0m\u001b[0;36m0\u001b[0m\u001b[0;34m]\u001b[0m\u001b[0;34m\u001b[0m\u001b[0;34m\u001b[0m\u001b[0m\n\u001b[0m\u001b[1;32m    254\u001b[0m \u001b[0;34m\u001b[0m\u001b[0m\n\u001b[1;32m    255\u001b[0m     \u001b[0;34m@\u001b[0m\u001b[0mproperty\u001b[0m\u001b[0;34m\u001b[0m\u001b[0;34m\u001b[0m\u001b[0m\n",
            "\u001b[0;32m/usr/local/lib/python3.7/dist-packages/sklearn/gaussian_process/kernels.py\u001b[0m in \u001b[0;36mtheta\u001b[0;34m(self)\u001b[0m\n\u001b[1;32m    725\u001b[0m             \u001b[0mThe\u001b[0m \u001b[0mnon\u001b[0m\u001b[0;34m-\u001b[0m\u001b[0mfixed\u001b[0m\u001b[0;34m,\u001b[0m \u001b[0mlog\u001b[0m\u001b[0;34m-\u001b[0m\u001b[0mtransformed\u001b[0m \u001b[0mhyperparameters\u001b[0m \u001b[0mof\u001b[0m \u001b[0mthe\u001b[0m \u001b[0mkernel\u001b[0m\u001b[0;34m\u001b[0m\u001b[0;34m\u001b[0m\u001b[0m\n\u001b[1;32m    726\u001b[0m         \"\"\"\n\u001b[0;32m--> 727\u001b[0;31m         \u001b[0;32mreturn\u001b[0m \u001b[0mnp\u001b[0m\u001b[0;34m.\u001b[0m\u001b[0mappend\u001b[0m\u001b[0;34m(\u001b[0m\u001b[0mself\u001b[0m\u001b[0;34m.\u001b[0m\u001b[0mk1\u001b[0m\u001b[0;34m.\u001b[0m\u001b[0mtheta\u001b[0m\u001b[0;34m,\u001b[0m \u001b[0mself\u001b[0m\u001b[0;34m.\u001b[0m\u001b[0mk2\u001b[0m\u001b[0;34m.\u001b[0m\u001b[0mtheta\u001b[0m\u001b[0;34m)\u001b[0m\u001b[0;34m\u001b[0m\u001b[0;34m\u001b[0m\u001b[0m\n\u001b[0m\u001b[1;32m    728\u001b[0m \u001b[0;34m\u001b[0m\u001b[0m\n\u001b[1;32m    729\u001b[0m     \u001b[0;34m@\u001b[0m\u001b[0mtheta\u001b[0m\u001b[0;34m.\u001b[0m\u001b[0msetter\u001b[0m\u001b[0;34m\u001b[0m\u001b[0;34m\u001b[0m\u001b[0m\n",
            "\u001b[0;32m/usr/local/lib/python3.7/dist-packages/sklearn/gaussian_process/kernels.py\u001b[0m in \u001b[0;36mtheta\u001b[0;34m(self)\u001b[0m\n\u001b[1;32m    279\u001b[0m         \u001b[0mtheta\u001b[0m \u001b[0;34m=\u001b[0m \u001b[0;34m[\u001b[0m\u001b[0;34m]\u001b[0m\u001b[0;34m\u001b[0m\u001b[0;34m\u001b[0m\u001b[0m\n\u001b[1;32m    280\u001b[0m         \u001b[0mparams\u001b[0m \u001b[0;34m=\u001b[0m \u001b[0mself\u001b[0m\u001b[0;34m.\u001b[0m\u001b[0mget_params\u001b[0m\u001b[0;34m(\u001b[0m\u001b[0;34m)\u001b[0m\u001b[0;34m\u001b[0m\u001b[0;34m\u001b[0m\u001b[0m\n\u001b[0;32m--> 281\u001b[0;31m         \u001b[0;32mfor\u001b[0m \u001b[0mhyperparameter\u001b[0m \u001b[0;32min\u001b[0m \u001b[0mself\u001b[0m\u001b[0;34m.\u001b[0m\u001b[0mhyperparameters\u001b[0m\u001b[0;34m:\u001b[0m\u001b[0;34m\u001b[0m\u001b[0;34m\u001b[0m\u001b[0m\n\u001b[0m\u001b[1;32m    282\u001b[0m             \u001b[0;32mif\u001b[0m \u001b[0;32mnot\u001b[0m \u001b[0mhyperparameter\u001b[0m\u001b[0;34m.\u001b[0m\u001b[0mfixed\u001b[0m\u001b[0;34m:\u001b[0m\u001b[0;34m\u001b[0m\u001b[0;34m\u001b[0m\u001b[0m\n\u001b[1;32m    283\u001b[0m                 \u001b[0mtheta\u001b[0m\u001b[0;34m.\u001b[0m\u001b[0mappend\u001b[0m\u001b[0;34m(\u001b[0m\u001b[0mparams\u001b[0m\u001b[0;34m[\u001b[0m\u001b[0mhyperparameter\u001b[0m\u001b[0;34m.\u001b[0m\u001b[0mname\u001b[0m\u001b[0;34m]\u001b[0m\u001b[0;34m)\u001b[0m\u001b[0;34m\u001b[0m\u001b[0;34m\u001b[0m\u001b[0m\n",
            "\u001b[0;32m/usr/local/lib/python3.7/dist-packages/sklearn/gaussian_process/kernels.py\u001b[0m in \u001b[0;36mhyperparameters\u001b[0;34m(self)\u001b[0m\n\u001b[1;32m    258\u001b[0m         r = [\n\u001b[1;32m    259\u001b[0m             \u001b[0mgetattr\u001b[0m\u001b[0;34m(\u001b[0m\u001b[0mself\u001b[0m\u001b[0;34m,\u001b[0m \u001b[0mattr\u001b[0m\u001b[0;34m)\u001b[0m\u001b[0;34m\u001b[0m\u001b[0;34m\u001b[0m\u001b[0m\n\u001b[0;32m--> 260\u001b[0;31m             \u001b[0;32mfor\u001b[0m \u001b[0mattr\u001b[0m \u001b[0;32min\u001b[0m \u001b[0mdir\u001b[0m\u001b[0;34m(\u001b[0m\u001b[0mself\u001b[0m\u001b[0;34m)\u001b[0m\u001b[0;34m\u001b[0m\u001b[0;34m\u001b[0m\u001b[0m\n\u001b[0m\u001b[1;32m    261\u001b[0m             \u001b[0;32mif\u001b[0m \u001b[0mattr\u001b[0m\u001b[0;34m.\u001b[0m\u001b[0mstartswith\u001b[0m\u001b[0;34m(\u001b[0m\u001b[0;34m\"hyperparameter_\"\u001b[0m\u001b[0;34m)\u001b[0m\u001b[0;34m\u001b[0m\u001b[0;34m\u001b[0m\u001b[0m\n\u001b[1;32m    262\u001b[0m         ]\n",
            "\u001b[0;32m/usr/local/lib/python3.7/dist-packages/sklearn/gaussian_process/kernels.py\u001b[0m in \u001b[0;36m<listcomp>\u001b[0;34m(.0)\u001b[0m\n\u001b[1;32m    259\u001b[0m             \u001b[0mgetattr\u001b[0m\u001b[0;34m(\u001b[0m\u001b[0mself\u001b[0m\u001b[0;34m,\u001b[0m \u001b[0mattr\u001b[0m\u001b[0;34m)\u001b[0m\u001b[0;34m\u001b[0m\u001b[0;34m\u001b[0m\u001b[0m\n\u001b[1;32m    260\u001b[0m             \u001b[0;32mfor\u001b[0m \u001b[0mattr\u001b[0m \u001b[0;32min\u001b[0m \u001b[0mdir\u001b[0m\u001b[0;34m(\u001b[0m\u001b[0mself\u001b[0m\u001b[0;34m)\u001b[0m\u001b[0;34m\u001b[0m\u001b[0;34m\u001b[0m\u001b[0m\n\u001b[0;32m--> 261\u001b[0;31m             \u001b[0;32mif\u001b[0m \u001b[0mattr\u001b[0m\u001b[0;34m.\u001b[0m\u001b[0mstartswith\u001b[0m\u001b[0;34m(\u001b[0m\u001b[0;34m\"hyperparameter_\"\u001b[0m\u001b[0;34m)\u001b[0m\u001b[0;34m\u001b[0m\u001b[0;34m\u001b[0m\u001b[0m\n\u001b[0m\u001b[1;32m    262\u001b[0m         ]\n\u001b[1;32m    263\u001b[0m         \u001b[0;32mreturn\u001b[0m \u001b[0mr\u001b[0m\u001b[0;34m\u001b[0m\u001b[0;34m\u001b[0m\u001b[0m\n",
            "\u001b[0;32m/usr/local/lib/python3.7/dist-packages/sklearn/gaussian_process/kernels.py\u001b[0m in \u001b[0;36mhyperparameter_length_scale\u001b[0;34m(self)\u001b[0m\n\u001b[1;32m   1499\u001b[0m                 \u001b[0;34m\"numeric\"\u001b[0m\u001b[0;34m,\u001b[0m\u001b[0;34m\u001b[0m\u001b[0;34m\u001b[0m\u001b[0m\n\u001b[1;32m   1500\u001b[0m                 \u001b[0mself\u001b[0m\u001b[0;34m.\u001b[0m\u001b[0mlength_scale_bounds\u001b[0m\u001b[0;34m,\u001b[0m\u001b[0;34m\u001b[0m\u001b[0;34m\u001b[0m\u001b[0m\n\u001b[0;32m-> 1501\u001b[0;31m                 \u001b[0mlen\u001b[0m\u001b[0;34m(\u001b[0m\u001b[0mself\u001b[0m\u001b[0;34m.\u001b[0m\u001b[0mlength_scale\u001b[0m\u001b[0;34m)\u001b[0m\u001b[0;34m,\u001b[0m\u001b[0;34m\u001b[0m\u001b[0;34m\u001b[0m\u001b[0m\n\u001b[0m\u001b[1;32m   1502\u001b[0m             )\n\u001b[1;32m   1503\u001b[0m         \u001b[0;32mreturn\u001b[0m \u001b[0mHyperparameter\u001b[0m\u001b[0;34m(\u001b[0m\u001b[0;34m\"length_scale\"\u001b[0m\u001b[0;34m,\u001b[0m \u001b[0;34m\"numeric\"\u001b[0m\u001b[0;34m,\u001b[0m \u001b[0mself\u001b[0m\u001b[0;34m.\u001b[0m\u001b[0mlength_scale_bounds\u001b[0m\u001b[0;34m)\u001b[0m\u001b[0;34m\u001b[0m\u001b[0;34m\u001b[0m\u001b[0m\n",
            "\u001b[0;32m/usr/local/lib/python3.7/dist-packages/sklearn/gaussian_process/kernels.py\u001b[0m in \u001b[0;36m__new__\u001b[0;34m(cls, name, value_type, bounds, n_elements, fixed)\u001b[0m\n\u001b[1;32m    120\u001b[0m \u001b[0;34m\u001b[0m\u001b[0m\n\u001b[1;32m    121\u001b[0m     \u001b[0;32mdef\u001b[0m \u001b[0m__new__\u001b[0m\u001b[0;34m(\u001b[0m\u001b[0mcls\u001b[0m\u001b[0;34m,\u001b[0m \u001b[0mname\u001b[0m\u001b[0;34m,\u001b[0m \u001b[0mvalue_type\u001b[0m\u001b[0;34m,\u001b[0m \u001b[0mbounds\u001b[0m\u001b[0;34m,\u001b[0m \u001b[0mn_elements\u001b[0m\u001b[0;34m=\u001b[0m\u001b[0;36m1\u001b[0m\u001b[0;34m,\u001b[0m \u001b[0mfixed\u001b[0m\u001b[0;34m=\u001b[0m\u001b[0;32mNone\u001b[0m\u001b[0;34m)\u001b[0m\u001b[0;34m:\u001b[0m\u001b[0;34m\u001b[0m\u001b[0;34m\u001b[0m\u001b[0m\n\u001b[0;32m--> 122\u001b[0;31m         \u001b[0;32mif\u001b[0m \u001b[0;32mnot\u001b[0m \u001b[0misinstance\u001b[0m\u001b[0;34m(\u001b[0m\u001b[0mbounds\u001b[0m\u001b[0;34m,\u001b[0m \u001b[0mstr\u001b[0m\u001b[0;34m)\u001b[0m \u001b[0;32mor\u001b[0m \u001b[0mbounds\u001b[0m \u001b[0;34m!=\u001b[0m \u001b[0;34m\"fixed\"\u001b[0m\u001b[0;34m:\u001b[0m\u001b[0;34m\u001b[0m\u001b[0;34m\u001b[0m\u001b[0m\n\u001b[0m\u001b[1;32m    123\u001b[0m             \u001b[0mbounds\u001b[0m \u001b[0;34m=\u001b[0m \u001b[0mnp\u001b[0m\u001b[0;34m.\u001b[0m\u001b[0matleast_2d\u001b[0m\u001b[0;34m(\u001b[0m\u001b[0mbounds\u001b[0m\u001b[0;34m)\u001b[0m\u001b[0;34m\u001b[0m\u001b[0;34m\u001b[0m\u001b[0m\n\u001b[1;32m    124\u001b[0m             \u001b[0;32mif\u001b[0m \u001b[0mn_elements\u001b[0m \u001b[0;34m>\u001b[0m \u001b[0;36m1\u001b[0m\u001b[0;34m:\u001b[0m  \u001b[0;31m# vector-valued parameter\u001b[0m\u001b[0;34m\u001b[0m\u001b[0;34m\u001b[0m\u001b[0m\n",
            "\u001b[0;31mKeyboardInterrupt\u001b[0m: "
          ]
        }
      ],
      "source": [
        "## Define Estimator\n",
        "estimator = LogisticRegression(random_state=1206,penalty='elasticnet', solver='saga', max_iter=5000 , multi_class='multinomial')\n",
        "## Define Parameters\n",
        "params = {'C': Real(1e-4, 10, prior='log-uniform'),\n",
        "          'l1_ratio': Real(0, 1, prior='uniform'),\n",
        "          'class_weight': Categorical(['balanced',None], transform='onehot')}\n",
        "\n",
        "## HP Optimization\n",
        "lre_res_ove = optimizationPipeline(estimator,params,x_train_smt,y_train_smt,metric_optimize, \n",
        "                                   strat_cv_5folds,opt_option='bayes',n_iter=100)"
      ]
    },
    {
      "cell_type": "markdown",
      "metadata": {
        "id": "ELW12pVAxdN0"
      },
      "source": [
        "**logistic regression imbalnced**"
      ]
    },
    {
      "cell_type": "code",
      "execution_count": null,
      "metadata": {
        "colab": {
          "base_uri": "https://localhost:8080/"
        },
        "id": "rIu2k1zbxoFf",
        "outputId": "fd9c098a-7527-4ea3-f6fb-752cf964f656"
      },
      "outputs": [
        {
          "name": "stdout",
          "output_type": "stream",
          "text": [
            "#####################################################\n",
            "Model: LogisticRegression\n",
            "Metric:  make_scorer(f1_score, average=macro)  | Score (%):  33.62\n",
            "Best Parameters:  OrderedDict([('C', 0.000911256196596191), ('class_weight', 'balanced'), ('l1_ratio', 0.0)])\n",
            "#####################################################\n",
            "\n"
          ]
        }
      ],
      "source": [
        "## Define Estimator\n",
        "estimator = LogisticRegression(random_state=1206,penalty='elasticnet', solver='saga', max_iter=5000 , multi_class='multinomial')\n",
        "## Define Parameters\n",
        "params = {'C': Real(1e-4, 10, prior='log-uniform'),\n",
        "          'l1_ratio': Real(0, 1, prior='uniform'),\n",
        "          'class_weight': Categorical(['balanced',None], transform='onehot')}\n",
        "\n",
        "## HP Optimization\n",
        "lre_res_bal = optimizationPipeline(estimator,params,x_train,y_train,metric_optimize, \n",
        "                                   strat_cv_5folds,opt_option='bayes',n_iter=100)"
      ]
    },
    {
      "cell_type": "markdown",
      "metadata": {
        "id": "3Xts8E56QmTd"
      },
      "source": [
        "**SVM oversampled**"
      ]
    },
    {
      "cell_type": "code",
      "execution_count": null,
      "metadata": {
        "colab": {
          "base_uri": "https://localhost:8080/"
        },
        "id": "s3qrACJccW5J",
        "outputId": "d2c273cd-992e-48ed-9167-25a13821f269"
      },
      "outputs": [
        {
          "name": "stdout",
          "output_type": "stream",
          "text": [
            "#####################################################\n",
            "Model: SVC\n",
            "Metric:  make_scorer(f1_score, average=macro)  | Score (%):  94.772\n",
            "Best Parameters:  OrderedDict([('C', 10.0), ('class_weight', None), ('gamma', 'scale'), ('kernel', 'rbf'), ('shrinking', True)])\n",
            "#####################################################\n",
            "\n"
          ]
        }
      ],
      "source": [
        "## Define Estimator\n",
        "estimator = SVC(random_state=1206, probability=True ,decision_function_shape='ovo')\n",
        "## Define Parameters\n",
        "params = {'C': Real(1e-4, 10, prior='log-uniform'),\n",
        "          'shrinking': Categorical([True, False], transform='onehot'),\n",
        "          'kernel': Categorical(['linear','rbf','poly','sigmoid'], transform='onehot'),\n",
        "          'gamma': Categorical(['scale', 'auto'], transform='onehot'),\n",
        "          'class_weight': Categorical(['balanced',None], transform='onehot')}\n",
        "\n",
        "## HP Optimization\n",
        "svm_res_ove = optimizationPipeline(estimator,params,x_train_smt,y_train_smt,metric_optimize,strat_cv_5folds,\n",
        "                                   opt_option='bayes',n_iter=100)"
      ]
    },
    {
      "cell_type": "markdown",
      "metadata": {
        "id": "D98rGxuh2n_v"
      },
      "source": [
        "**svm imbalanced**"
      ]
    },
    {
      "cell_type": "code",
      "execution_count": null,
      "metadata": {
        "colab": {
          "base_uri": "https://localhost:8080/"
        },
        "id": "jEvv6weu2uxP",
        "outputId": "fd44ce8d-73ca-4a22-b39d-314d9839d363"
      },
      "outputs": [
        {
          "name": "stdout",
          "output_type": "stream",
          "text": [
            "#####################################################\n",
            "Model: SVC\n",
            "Metric:  make_scorer(f1_score, average=macro)  | Score (%):  41.884\n",
            "Best Parameters:  OrderedDict([('C', 0.5864007915956223), ('class_weight', 'balanced'), ('gamma', 'auto'), ('kernel', 'rbf'), ('shrinking', True)])\n",
            "#####################################################\n",
            "\n"
          ]
        }
      ],
      "source": [
        "## Define Estimator\n",
        "estimator = SVC(random_state=1206, probability=True ,decision_function_shape='ovo')\n",
        "## Define Parameters\n",
        "params = {'C': Real(1e-4, 10, prior='log-uniform'),\n",
        "          'shrinking': Categorical([True, False], transform='onehot'),\n",
        "          'kernel': Categorical(['linear','rbf','poly','sigmoid'], transform='onehot'),\n",
        "          'gamma': Categorical(['scale', 'auto'], transform='onehot'),\n",
        "          'class_weight': Categorical(['balanced',None], transform='onehot')}\n",
        "\n",
        "## HP Optimization\n",
        "svm_res_bal = optimizationPipeline(estimator,params,x_train,y_train,metric_optimize,strat_cv_5folds,\n",
        "                                   opt_option='bayes',n_iter=100)"
      ]
    },
    {
      "cell_type": "markdown",
      "metadata": {
        "id": "yi32no8EUbLK"
      },
      "source": [
        "**random forest oversampled**"
      ]
    },
    {
      "cell_type": "code",
      "execution_count": null,
      "metadata": {
        "colab": {
          "base_uri": "https://localhost:8080/"
        },
        "id": "7mknp-S6cW5K",
        "outputId": "c929f8de-4b8a-4e52-85c2-b2be7d9fa67d"
      },
      "outputs": [
        {
          "name": "stdout",
          "output_type": "stream",
          "text": [
            "#####################################################\n",
            "Model: RandomForestClassifier\n",
            "Metric:  make_scorer(f1_score, average=macro)  | Score (%):  94.375\n",
            "Best Parameters:  OrderedDict([('class_weight', 'balanced'), ('max_depth', 31), ('max_features', 'log2'), ('min_samples_leaf', 1), ('min_samples_split', 2), ('n_estimators', 127)])\n",
            "#####################################################\n",
            "\n"
          ]
        }
      ],
      "source": [
        "## Define Estimator\n",
        "estimator = RandomForestClassifier(random_state=1206, criterion='gini', warm_start=True)\n",
        "## Define Parameters Grid\n",
        "params = {'n_estimators': Integer(100, 1000, prior='uniform'),\n",
        "          'max_depth': Integer(2, 32, prior='uniform'),\n",
        "          'min_samples_split': Integer(2, 16, prior='uniform'),\n",
        "          'min_samples_leaf': Integer(1, 8, prior='uniform'),\n",
        "          'class_weight': Categorical(['balanced','balanced_subsample',None], transform='onehot'),\n",
        "          'max_features': Categorical(['sqrt','log2'], transform='onehot')}\n",
        "## HP Optimization\n",
        "rfc_res_ove = optimizationPipeline(estimator,params,x_train_smt,y_train_smt,metric_optimize,strat_cv_5folds,\n",
        "                                   opt_option='bayes',n_iter=100)"
      ]
    },
    {
      "cell_type": "markdown",
      "metadata": {
        "id": "TBBTIUjv3Uv3"
      },
      "source": [
        "**random forest imbalnced**"
      ]
    },
    {
      "cell_type": "code",
      "execution_count": null,
      "metadata": {
        "colab": {
          "base_uri": "https://localhost:8080/"
        },
        "id": "hdWtu2gu3gvF",
        "outputId": "8c64bd81-ad4d-49f9-aea8-b2f581765b2e"
      },
      "outputs": [
        {
          "name": "stdout",
          "output_type": "stream",
          "text": [
            "#####################################################\n",
            "Model: RandomForestClassifier\n",
            "Metric:  make_scorer(f1_score, average=macro)  | Score (%):  38.127\n",
            "Best Parameters:  OrderedDict([('class_weight', 'balanced_subsample'), ('max_depth', 25), ('max_features', 'sqrt'), ('min_samples_leaf', 8), ('min_samples_split', 2), ('n_estimators', 530)])\n",
            "#####################################################\n",
            "\n"
          ]
        }
      ],
      "source": [
        "## Define Estimator\n",
        "estimator = RandomForestClassifier(random_state=1206, criterion='gini', warm_start=True)\n",
        "## Define Parameters Grid\n",
        "params = {'n_estimators': Integer(100, 1000, prior='uniform'),\n",
        "          'max_depth': Integer(2, 32, prior='uniform'),\n",
        "          'min_samples_split': Integer(2, 16, prior='uniform'),\n",
        "          'min_samples_leaf': Integer(1, 8, prior='uniform'),\n",
        "          'class_weight': Categorical(['balanced','balanced_subsample',None], transform='onehot'),\n",
        "          'max_features': Categorical(['sqrt','log2'], transform='onehot')}\n",
        "## HP Optimization\n",
        "rfc_res_bal = optimizationPipeline(estimator,params,x_train,y_train,metric_optimize,strat_cv_5folds,\n",
        "                                   opt_option='bayes',n_iter=100)"
      ]
    },
    {
      "cell_type": "markdown",
      "metadata": {
        "id": "Vq_8q_cTZJJZ"
      },
      "source": [
        "** gradiant boosting oversampled **"
      ]
    },
    {
      "cell_type": "code",
      "execution_count": null,
      "metadata": {
        "id": "aCSm2JEdcW5M",
        "colab": {
          "base_uri": "https://localhost:8080/"
        },
        "outputId": "29761080-ed6f-4327-a3e1-3448aaff268d"
      },
      "outputs": [
        {
          "output_type": "stream",
          "name": "stdout",
          "text": [
            "#####################################################\n",
            "Model: GradientBoostingClassifier\n",
            "Metric:  make_scorer(f1_score, average=macro)  | Score (%):  96.408\n",
            "Best Parameters:  OrderedDict([('learning_rate', 0.16245020188575132), ('max_depth', 27), ('max_features', 'log2'), ('min_samples_leaf', 5), ('min_samples_split', 9), ('n_estimators', 1000), ('subsample', 0.8077757351279619)])\n",
            "#####################################################\n",
            "\n"
          ]
        }
      ],
      "source": [
        "## Define Estimator\n",
        "estimator = GradientBoostingClassifier(random_state=1206, loss='deviance', criterion='friedman_mse', warm_start=True)\n",
        "## Define Parameters\n",
        "params = {'n_estimators': Integer(100, 1000, prior='uniform'),\n",
        "          'min_samples_leaf': Integer(1, 8, prior='uniform'),\n",
        "          'min_samples_split': Integer(2, 16, prior='uniform'),\n",
        "          'max_depth': Integer(2, 32, prior='uniform'),\n",
        "          'subsample': Real(0.75, 1, prior='uniform'),\n",
        "          'learning_rate': Real(1e-5, 10, prior='log-uniform'),\n",
        "          'max_features': Categorical(['sqrt','log2'], transform='onehot')}\n",
        "## HP Optimization\n",
        "bst_res_ove = optimizationPipeline(estimator,params,x_train_smt,y_train_smt,metric_optimize,strat_cv_5folds,\n",
        "                                   opt_option='bayes',n_iter=100)"
      ]
    },
    {
      "cell_type": "markdown",
      "metadata": {
        "id": "GQEUh6AR-w8y"
      },
      "source": [
        "**gradiant boosting imbalanced**"
      ]
    },
    {
      "cell_type": "code",
      "execution_count": null,
      "metadata": {
        "colab": {
          "base_uri": "https://localhost:8080/"
        },
        "id": "VftdLtBH-5wm",
        "outputId": "9d2cdef4-6d0c-4f08-af80-3f324842bc99"
      },
      "outputs": [
        {
          "name": "stdout",
          "output_type": "stream",
          "text": [
            "#####################################################\n",
            "Model: GradientBoostingClassifier\n",
            "Metric:  make_scorer(f1_score, average=macro)  | Score (%):  38.714\n",
            "Best Parameters:  OrderedDict([('learning_rate', 0.019672177242426186), ('max_depth', 26), ('max_features', 'log2'), ('min_samples_leaf', 3), ('min_samples_split', 13), ('n_estimators', 649), ('subsample', 0.75)])\n",
            "#####################################################\n",
            "\n"
          ]
        }
      ],
      "source": [
        "## Define Estimator\n",
        "estimator = GradientBoostingClassifier(random_state=1206, loss='deviance', criterion='friedman_mse', warm_start=True)\n",
        "## Define Parameters\n",
        "params = {'n_estimators': Integer(100, 1000, prior='uniform'),\n",
        "          'min_samples_leaf': Integer(1, 8, prior='uniform'),\n",
        "          'min_samples_split': Integer(2, 16, prior='uniform'),\n",
        "          'max_depth': Integer(2, 32, prior='uniform'),\n",
        "          'subsample': Real(0.75, 1, prior='uniform'),\n",
        "          'learning_rate': Real(1e-5, 10, prior='log-uniform'),\n",
        "          'max_features': Categorical(['sqrt','log2'], transform='onehot')}\n",
        "## HP Optimization\n",
        "bst_res_bal = optimizationPipeline(estimator,params,x_train,y_train,metric_optimize,strat_cv_5folds,\n",
        "                                   opt_option='bayes',n_iter=100)"
      ]
    },
    {
      "cell_type": "markdown",
      "metadata": {
        "id": "NwVC7-PPcW5M"
      },
      "source": [
        "### **XGBoost oversampled**"
      ]
    },
    {
      "cell_type": "code",
      "execution_count": null,
      "metadata": {
        "colab": {
          "base_uri": "https://localhost:8080/"
        },
        "id": "W0Fhf9ogcW5M",
        "outputId": "396a4d9b-cbcc-4bb8-ae46-abb046b5dea7"
      },
      "outputs": [
        {
          "output_type": "stream",
          "name": "stdout",
          "text": [
            "#####################################################\n",
            "Model: XGBClassifier\n",
            "Metric:  make_scorer(f1_score, average=macro)  | Score (%):  94.964\n",
            "Best Parameters:  OrderedDict([('colsample_bytree', 0.8178829775651513), ('gamma', 0.0004213956190691541), ('learning_rate', 0.10296255463364322), ('max_depth', 9), ('min_child_weight', 1), ('n_estimators', 100), ('reg_alpha', 0.002363725776726323), ('reg_lambda', 0.001), ('scale_pos_weight', 0.8566758207057203), ('subsample', 0.7770091966476244)])\n",
            "#####################################################\n",
            "\n"
          ]
        }
      ],
      "source": [
        "## Define Estimator\n",
        "estimator = XGBClassifier(objective='multi:softprob',random_state=1206,booster='gbtree', eval_metric='logloss')\n",
        "## Define Parameters\n",
        "params = {'n_estimators': Integer(100, 1000, prior='uniform'),\n",
        "          'min_child_weight': Integer(1, 10, prior='uniform'),\n",
        "          'max_depth': Integer(2, 32, prior='uniform'),\n",
        "          'subsample': Real(0.75, 1, prior='uniform'),\n",
        "          'colsample_bytree': Real(0.75, 1, prior='uniform'),\n",
        "          'scale_pos_weight': Real(0.75, 1, prior='uniform'),\n",
        "          'learning_rate': Real(1e-6, 10, prior='log-uniform'),\n",
        "          'gamma': Real(1e-4, 10, prior='log-uniform'),\n",
        "          'reg_alpha': Real(1e-3, 10, prior='log-uniform'),\n",
        "          'reg_lambda': Real(1e-3, 10, prior='log-uniform')}\n",
        "## HP Optimization\n",
        "xgb_res_ove = optimizationPipeline(estimator,params,x_train_smt,y_train_smt,metric_optimize,strat_cv_5folds,\n",
        "                                   opt_option='bayes',n_iter=100)"
      ]
    },
    {
      "cell_type": "markdown",
      "metadata": {
        "id": "F6aDzG-DAPaV"
      },
      "source": [
        "**xgboost imbalnced**"
      ]
    },
    {
      "cell_type": "code",
      "execution_count": null,
      "metadata": {
        "colab": {
          "base_uri": "https://localhost:8080/"
        },
        "id": "vHUYo9SPAh9t",
        "outputId": "e0f050cd-d877-4041-90b4-e7b0e9dd1d31"
      },
      "outputs": [
        {
          "name": "stdout",
          "output_type": "stream",
          "text": [
            "#####################################################\n",
            "Model: XGBClassifier\n",
            "Metric:  make_scorer(f1_score, average=macro)  | Score (%):  36.730000000000004\n",
            "Best Parameters:  OrderedDict([('colsample_bytree', 0.9384676413670583), ('gamma', 0.0018305698951543506), ('learning_rate', 0.09710086622853548), ('max_depth', 31), ('min_child_weight', 9), ('n_estimators', 599), ('reg_alpha', 0.001), ('reg_lambda', 10.0), ('scale_pos_weight', 0.8954681235597374), ('subsample', 1.0)])\n",
            "#####################################################\n",
            "\n"
          ]
        }
      ],
      "source": [
        "## Define Estimator\n",
        "estimator = XGBClassifier(objective='multi:softprob',random_state=1206,booster='gbtree', eval_metric='logloss')\n",
        "## Define Parameters\n",
        "params = {'n_estimators': Integer(100, 1000, prior='uniform'),\n",
        "          'min_child_weight': Integer(1, 10, prior='uniform'),\n",
        "          'max_depth': Integer(2, 32, prior='uniform'),\n",
        "          'subsample': Real(0.75, 1, prior='uniform'),\n",
        "          'colsample_bytree': Real(0.75, 1, prior='uniform'),\n",
        "          'scale_pos_weight': Real(0.75, 1, prior='uniform'),\n",
        "          'learning_rate': Real(1e-6, 10, prior='log-uniform'),\n",
        "          'gamma': Real(1e-4, 10, prior='log-uniform'),\n",
        "          'reg_alpha': Real(1e-3, 10, prior='log-uniform'),\n",
        "          'reg_lambda': Real(1e-3, 10, prior='log-uniform')}\n",
        "## HP Optimization\n",
        "xgb_res_bal = optimizationPipeline(estimator,params,x_train,y_train,metric_optimize,strat_cv_5folds,\n",
        "                                   opt_option='bayes',n_iter=100)"
      ]
    },
    {
      "cell_type": "markdown",
      "metadata": {
        "id": "Rq2zbHwTcW5N"
      },
      "source": [
        "## Saving BO5-CV results in a dataframe"
      ]
    },
    {
      "cell_type": "code",
      "execution_count": null,
      "metadata": {
        "id": "U1Un2iUucW5N"
      },
      "outputs": [],
      "source": [
        "# Columns to save for overall results\n",
        "cols_cv = ['split0_test_score', 'split1_test_score', 'split2_test_score','split3_test_score', 'split4_test_score', \n",
        "           'mean_test_score','std_test_score','rank_test_score']"
      ]
    },
    {
      "cell_type": "code",
      "execution_count": null,
      "metadata": {
        "colab": {
          "base_uri": "https://localhost:8080/",
          "height": 424
        },
        "id": "ohm1Z29IcW5O",
        "outputId": "0c1cf483-5f22-4ea5-9126-546b311d48cc"
      },
      "outputs": [
        {
          "data": {
            "text/html": [
              "\n",
              "  <div id=\"df-152e48e2-ac67-423f-8c23-fe16062afab2\">\n",
              "    <div class=\"colab-df-container\">\n",
              "      <div>\n",
              "<style scoped>\n",
              "    .dataframe tbody tr th:only-of-type {\n",
              "        vertical-align: middle;\n",
              "    }\n",
              "\n",
              "    .dataframe tbody tr th {\n",
              "        vertical-align: top;\n",
              "    }\n",
              "\n",
              "    .dataframe thead th {\n",
              "        text-align: right;\n",
              "    }\n",
              "</style>\n",
              "<table border=\"1\" class=\"dataframe\">\n",
              "  <thead>\n",
              "    <tr style=\"text-align: right;\">\n",
              "      <th></th>\n",
              "      <th>split0_test_score</th>\n",
              "      <th>split1_test_score</th>\n",
              "      <th>split2_test_score</th>\n",
              "      <th>split3_test_score</th>\n",
              "      <th>split4_test_score</th>\n",
              "      <th>mean_test_score</th>\n",
              "      <th>std_test_score</th>\n",
              "      <th>rank_test_score</th>\n",
              "    </tr>\n",
              "  </thead>\n",
              "  <tbody>\n",
              "    <tr>\n",
              "      <th>0</th>\n",
              "      <td>0.580011</td>\n",
              "      <td>0.557322</td>\n",
              "      <td>0.568094</td>\n",
              "      <td>0.578706</td>\n",
              "      <td>0.530858</td>\n",
              "      <td>0.562998</td>\n",
              "      <td>0.018041</td>\n",
              "      <td>1</td>\n",
              "    </tr>\n",
              "    <tr>\n",
              "      <th>1</th>\n",
              "      <td>0.580011</td>\n",
              "      <td>0.557322</td>\n",
              "      <td>0.568094</td>\n",
              "      <td>0.578706</td>\n",
              "      <td>0.530858</td>\n",
              "      <td>0.562998</td>\n",
              "      <td>0.018041</td>\n",
              "      <td>1</td>\n",
              "    </tr>\n",
              "    <tr>\n",
              "      <th>2</th>\n",
              "      <td>0.946719</td>\n",
              "      <td>0.961801</td>\n",
              "      <td>0.951904</td>\n",
              "      <td>0.948926</td>\n",
              "      <td>0.929239</td>\n",
              "      <td>0.947718</td>\n",
              "      <td>0.010581</td>\n",
              "      <td>1</td>\n",
              "    </tr>\n",
              "    <tr>\n",
              "      <th>3</th>\n",
              "      <td>0.946719</td>\n",
              "      <td>0.961801</td>\n",
              "      <td>0.951904</td>\n",
              "      <td>0.948926</td>\n",
              "      <td>0.929239</td>\n",
              "      <td>0.947718</td>\n",
              "      <td>0.010581</td>\n",
              "      <td>1</td>\n",
              "    </tr>\n",
              "    <tr>\n",
              "      <th>4</th>\n",
              "      <td>0.946719</td>\n",
              "      <td>0.961801</td>\n",
              "      <td>0.951904</td>\n",
              "      <td>0.948926</td>\n",
              "      <td>0.929239</td>\n",
              "      <td>0.947718</td>\n",
              "      <td>0.010581</td>\n",
              "      <td>1</td>\n",
              "    </tr>\n",
              "    <tr>\n",
              "      <th>...</th>\n",
              "      <td>...</td>\n",
              "      <td>...</td>\n",
              "      <td>...</td>\n",
              "      <td>...</td>\n",
              "      <td>...</td>\n",
              "      <td>...</td>\n",
              "      <td>...</td>\n",
              "      <td>...</td>\n",
              "    </tr>\n",
              "    <tr>\n",
              "      <th>65</th>\n",
              "      <td>0.946719</td>\n",
              "      <td>0.961801</td>\n",
              "      <td>0.951904</td>\n",
              "      <td>0.948926</td>\n",
              "      <td>0.929239</td>\n",
              "      <td>0.947718</td>\n",
              "      <td>0.010581</td>\n",
              "      <td>1</td>\n",
              "    </tr>\n",
              "    <tr>\n",
              "      <th>66</th>\n",
              "      <td>0.946719</td>\n",
              "      <td>0.961801</td>\n",
              "      <td>0.951904</td>\n",
              "      <td>0.948926</td>\n",
              "      <td>0.929239</td>\n",
              "      <td>0.947718</td>\n",
              "      <td>0.010581</td>\n",
              "      <td>1</td>\n",
              "    </tr>\n",
              "    <tr>\n",
              "      <th>67</th>\n",
              "      <td>0.927964</td>\n",
              "      <td>0.936422</td>\n",
              "      <td>0.956072</td>\n",
              "      <td>0.936198</td>\n",
              "      <td>0.964941</td>\n",
              "      <td>0.944319</td>\n",
              "      <td>0.013851</td>\n",
              "      <td>1</td>\n",
              "    </tr>\n",
              "    <tr>\n",
              "      <th>68</th>\n",
              "      <td>0.962434</td>\n",
              "      <td>0.952485</td>\n",
              "      <td>0.968679</td>\n",
              "      <td>0.968152</td>\n",
              "      <td>0.977823</td>\n",
              "      <td>0.965915</td>\n",
              "      <td>0.008330</td>\n",
              "      <td>1</td>\n",
              "    </tr>\n",
              "    <tr>\n",
              "      <th>69</th>\n",
              "      <td>0.928018</td>\n",
              "      <td>0.930592</td>\n",
              "      <td>0.956148</td>\n",
              "      <td>0.946361</td>\n",
              "      <td>0.965032</td>\n",
              "      <td>0.945230</td>\n",
              "      <td>0.014305</td>\n",
              "      <td>1</td>\n",
              "    </tr>\n",
              "  </tbody>\n",
              "</table>\n",
              "<p>70 rows × 8 columns</p>\n",
              "</div>\n",
              "      <button class=\"colab-df-convert\" onclick=\"convertToInteractive('df-152e48e2-ac67-423f-8c23-fe16062afab2')\"\n",
              "              title=\"Convert this dataframe to an interactive table.\"\n",
              "              style=\"display:none;\">\n",
              "        \n",
              "  <svg xmlns=\"http://www.w3.org/2000/svg\" height=\"24px\"viewBox=\"0 0 24 24\"\n",
              "       width=\"24px\">\n",
              "    <path d=\"M0 0h24v24H0V0z\" fill=\"none\"/>\n",
              "    <path d=\"M18.56 5.44l.94 2.06.94-2.06 2.06-.94-2.06-.94-.94-2.06-.94 2.06-2.06.94zm-11 1L8.5 8.5l.94-2.06 2.06-.94-2.06-.94L8.5 2.5l-.94 2.06-2.06.94zm10 10l.94 2.06.94-2.06 2.06-.94-2.06-.94-.94-2.06-.94 2.06-2.06.94z\"/><path d=\"M17.41 7.96l-1.37-1.37c-.4-.4-.92-.59-1.43-.59-.52 0-1.04.2-1.43.59L10.3 9.45l-7.72 7.72c-.78.78-.78 2.05 0 2.83L4 21.41c.39.39.9.59 1.41.59.51 0 1.02-.2 1.41-.59l7.78-7.78 2.81-2.81c.8-.78.8-2.07 0-2.86zM5.41 20L4 18.59l7.72-7.72 1.47 1.35L5.41 20z\"/>\n",
              "  </svg>\n",
              "      </button>\n",
              "      \n",
              "  <style>\n",
              "    .colab-df-container {\n",
              "      display:flex;\n",
              "      flex-wrap:wrap;\n",
              "      gap: 12px;\n",
              "    }\n",
              "\n",
              "    .colab-df-convert {\n",
              "      background-color: #E8F0FE;\n",
              "      border: none;\n",
              "      border-radius: 50%;\n",
              "      cursor: pointer;\n",
              "      display: none;\n",
              "      fill: #1967D2;\n",
              "      height: 32px;\n",
              "      padding: 0 0 0 0;\n",
              "      width: 32px;\n",
              "    }\n",
              "\n",
              "    .colab-df-convert:hover {\n",
              "      background-color: #E2EBFA;\n",
              "      box-shadow: 0px 1px 2px rgba(60, 64, 67, 0.3), 0px 1px 3px 1px rgba(60, 64, 67, 0.15);\n",
              "      fill: #174EA6;\n",
              "    }\n",
              "\n",
              "    [theme=dark] .colab-df-convert {\n",
              "      background-color: #3B4455;\n",
              "      fill: #D2E3FC;\n",
              "    }\n",
              "\n",
              "    [theme=dark] .colab-df-convert:hover {\n",
              "      background-color: #434B5C;\n",
              "      box-shadow: 0px 1px 3px 1px rgba(0, 0, 0, 0.15);\n",
              "      filter: drop-shadow(0px 1px 2px rgba(0, 0, 0, 0.3));\n",
              "      fill: #FFFFFF;\n",
              "    }\n",
              "  </style>\n",
              "\n",
              "      <script>\n",
              "        const buttonEl =\n",
              "          document.querySelector('#df-152e48e2-ac67-423f-8c23-fe16062afab2 button.colab-df-convert');\n",
              "        buttonEl.style.display =\n",
              "          google.colab.kernel.accessAllowed ? 'block' : 'none';\n",
              "\n",
              "        async function convertToInteractive(key) {\n",
              "          const element = document.querySelector('#df-152e48e2-ac67-423f-8c23-fe16062afab2');\n",
              "          const dataTable =\n",
              "            await google.colab.kernel.invokeFunction('convertToInteractive',\n",
              "                                                     [key], {});\n",
              "          if (!dataTable) return;\n",
              "\n",
              "          const docLinkHtml = 'Like what you see? Visit the ' +\n",
              "            '<a target=\"_blank\" href=https://colab.research.google.com/notebooks/data_table.ipynb>data table notebook</a>'\n",
              "            + ' to learn more about interactive tables.';\n",
              "          element.innerHTML = '';\n",
              "          dataTable['output_type'] = 'display_data';\n",
              "          await google.colab.output.renderOutput(dataTable, element);\n",
              "          const docLink = document.createElement('div');\n",
              "          docLink.innerHTML = docLinkHtml;\n",
              "          element.appendChild(docLink);\n",
              "        }\n",
              "      </script>\n",
              "    </div>\n",
              "  </div>\n",
              "  "
            ],
            "text/plain": [
              "    split0_test_score  split1_test_score  split2_test_score  \\\n",
              "0            0.580011           0.557322           0.568094   \n",
              "1            0.580011           0.557322           0.568094   \n",
              "2            0.946719           0.961801           0.951904   \n",
              "3            0.946719           0.961801           0.951904   \n",
              "4            0.946719           0.961801           0.951904   \n",
              "..                ...                ...                ...   \n",
              "65           0.946719           0.961801           0.951904   \n",
              "66           0.946719           0.961801           0.951904   \n",
              "67           0.927964           0.936422           0.956072   \n",
              "68           0.962434           0.952485           0.968679   \n",
              "69           0.928018           0.930592           0.956148   \n",
              "\n",
              "    split3_test_score  split4_test_score  mean_test_score  std_test_score  \\\n",
              "0            0.578706           0.530858         0.562998        0.018041   \n",
              "1            0.578706           0.530858         0.562998        0.018041   \n",
              "2            0.948926           0.929239         0.947718        0.010581   \n",
              "3            0.948926           0.929239         0.947718        0.010581   \n",
              "4            0.948926           0.929239         0.947718        0.010581   \n",
              "..                ...                ...              ...             ...   \n",
              "65           0.948926           0.929239         0.947718        0.010581   \n",
              "66           0.948926           0.929239         0.947718        0.010581   \n",
              "67           0.936198           0.964941         0.944319        0.013851   \n",
              "68           0.968152           0.977823         0.965915        0.008330   \n",
              "69           0.946361           0.965032         0.945230        0.014305   \n",
              "\n",
              "    rank_test_score  \n",
              "0                 1  \n",
              "1                 1  \n",
              "2                 1  \n",
              "3                 1  \n",
              "4                 1  \n",
              "..              ...  \n",
              "65                1  \n",
              "66                1  \n",
              "67                1  \n",
              "68                1  \n",
              "69                1  \n",
              "\n",
              "[70 rows x 8 columns]"
            ]
          },
          "execution_count": 27,
          "metadata": {},
          "output_type": "execute_result"
        }
      ],
      "source": [
        "# Creating df with B05CV results for all models\n",
        "df_bo5cv_bests = lre_res_ove['cv_res'].loc[lre_res_ove['cv_res']['rank_test_score'] == 1][cols_cv]\n",
        "df_bo5cv_bests = df_bo5cv_bests.append(svm_res_ove['cv_res'].loc[svm_res_ove['cv_res']['rank_test_score'] == 1][cols_cv])\n",
        "df_bo5cv_bests = df_bo5cv_bests.append(rfc_res_ove['cv_res'].loc[rfc_res_ove['cv_res']['rank_test_score'] == 1][cols_cv])\n",
        "df_bo5cv_bests = df_bo5cv_bests.append(bst_res_ove['cv_res'].loc[bst_res_ove['cv_res']['rank_test_score'] == 1][cols_cv])\n",
        "df_bo5cv_bests = df_bo5cv_bests.append(xgb_res_ove['cv_res'].loc[xgb_res_ove['cv_res']['rank_test_score'] == 1][cols_cv])\n",
        "df_bo5cv_bests.reset_index(drop=True, inplace=True)\n",
        "df_bo5cv_bests"
      ]
    },
    {
      "cell_type": "code",
      "execution_count": null,
      "metadata": {
        "colab": {
          "base_uri": "https://localhost:8080/",
          "height": 206
        },
        "id": "tPOI5E5EcW5P",
        "outputId": "0337d0ea-aee1-4bc7-c8db-ab53898e7640"
      },
      "outputs": [
        {
          "data": {
            "text/html": [
              "\n",
              "  <div id=\"df-a1c64ea3-ac40-4d07-9424-ff9d1471fec1\">\n",
              "    <div class=\"colab-df-container\">\n",
              "      <div>\n",
              "<style scoped>\n",
              "    .dataframe tbody tr th:only-of-type {\n",
              "        vertical-align: middle;\n",
              "    }\n",
              "\n",
              "    .dataframe tbody tr th {\n",
              "        vertical-align: top;\n",
              "    }\n",
              "\n",
              "    .dataframe thead th {\n",
              "        text-align: right;\n",
              "    }\n",
              "</style>\n",
              "<table border=\"1\" class=\"dataframe\">\n",
              "  <thead>\n",
              "    <tr style=\"text-align: right;\">\n",
              "      <th></th>\n",
              "      <th>split0_test_score</th>\n",
              "      <th>split1_test_score</th>\n",
              "      <th>split2_test_score</th>\n",
              "      <th>split3_test_score</th>\n",
              "      <th>split4_test_score</th>\n",
              "      <th>mean_test_score</th>\n",
              "      <th>std_test_score</th>\n",
              "      <th>rank_test_score</th>\n",
              "    </tr>\n",
              "  </thead>\n",
              "  <tbody>\n",
              "    <tr>\n",
              "      <th>0</th>\n",
              "      <td>0.580011</td>\n",
              "      <td>0.557322</td>\n",
              "      <td>0.568094</td>\n",
              "      <td>0.578706</td>\n",
              "      <td>0.530858</td>\n",
              "      <td>0.562998</td>\n",
              "      <td>0.018041</td>\n",
              "      <td>1</td>\n",
              "    </tr>\n",
              "    <tr>\n",
              "      <th>1</th>\n",
              "      <td>0.580011</td>\n",
              "      <td>0.557322</td>\n",
              "      <td>0.568094</td>\n",
              "      <td>0.578706</td>\n",
              "      <td>0.530858</td>\n",
              "      <td>0.562998</td>\n",
              "      <td>0.018041</td>\n",
              "      <td>1</td>\n",
              "    </tr>\n",
              "    <tr>\n",
              "      <th>2</th>\n",
              "      <td>0.946719</td>\n",
              "      <td>0.961801</td>\n",
              "      <td>0.951904</td>\n",
              "      <td>0.948926</td>\n",
              "      <td>0.929239</td>\n",
              "      <td>0.947718</td>\n",
              "      <td>0.010581</td>\n",
              "      <td>1</td>\n",
              "    </tr>\n",
              "    <tr>\n",
              "      <th>3</th>\n",
              "      <td>0.946719</td>\n",
              "      <td>0.961801</td>\n",
              "      <td>0.951904</td>\n",
              "      <td>0.948926</td>\n",
              "      <td>0.929239</td>\n",
              "      <td>0.947718</td>\n",
              "      <td>0.010581</td>\n",
              "      <td>1</td>\n",
              "    </tr>\n",
              "    <tr>\n",
              "      <th>4</th>\n",
              "      <td>0.946719</td>\n",
              "      <td>0.961801</td>\n",
              "      <td>0.951904</td>\n",
              "      <td>0.948926</td>\n",
              "      <td>0.929239</td>\n",
              "      <td>0.947718</td>\n",
              "      <td>0.010581</td>\n",
              "      <td>1</td>\n",
              "    </tr>\n",
              "  </tbody>\n",
              "</table>\n",
              "</div>\n",
              "      <button class=\"colab-df-convert\" onclick=\"convertToInteractive('df-a1c64ea3-ac40-4d07-9424-ff9d1471fec1')\"\n",
              "              title=\"Convert this dataframe to an interactive table.\"\n",
              "              style=\"display:none;\">\n",
              "        \n",
              "  <svg xmlns=\"http://www.w3.org/2000/svg\" height=\"24px\"viewBox=\"0 0 24 24\"\n",
              "       width=\"24px\">\n",
              "    <path d=\"M0 0h24v24H0V0z\" fill=\"none\"/>\n",
              "    <path d=\"M18.56 5.44l.94 2.06.94-2.06 2.06-.94-2.06-.94-.94-2.06-.94 2.06-2.06.94zm-11 1L8.5 8.5l.94-2.06 2.06-.94-2.06-.94L8.5 2.5l-.94 2.06-2.06.94zm10 10l.94 2.06.94-2.06 2.06-.94-2.06-.94-.94-2.06-.94 2.06-2.06.94z\"/><path d=\"M17.41 7.96l-1.37-1.37c-.4-.4-.92-.59-1.43-.59-.52 0-1.04.2-1.43.59L10.3 9.45l-7.72 7.72c-.78.78-.78 2.05 0 2.83L4 21.41c.39.39.9.59 1.41.59.51 0 1.02-.2 1.41-.59l7.78-7.78 2.81-2.81c.8-.78.8-2.07 0-2.86zM5.41 20L4 18.59l7.72-7.72 1.47 1.35L5.41 20z\"/>\n",
              "  </svg>\n",
              "      </button>\n",
              "      \n",
              "  <style>\n",
              "    .colab-df-container {\n",
              "      display:flex;\n",
              "      flex-wrap:wrap;\n",
              "      gap: 12px;\n",
              "    }\n",
              "\n",
              "    .colab-df-convert {\n",
              "      background-color: #E8F0FE;\n",
              "      border: none;\n",
              "      border-radius: 50%;\n",
              "      cursor: pointer;\n",
              "      display: none;\n",
              "      fill: #1967D2;\n",
              "      height: 32px;\n",
              "      padding: 0 0 0 0;\n",
              "      width: 32px;\n",
              "    }\n",
              "\n",
              "    .colab-df-convert:hover {\n",
              "      background-color: #E2EBFA;\n",
              "      box-shadow: 0px 1px 2px rgba(60, 64, 67, 0.3), 0px 1px 3px 1px rgba(60, 64, 67, 0.15);\n",
              "      fill: #174EA6;\n",
              "    }\n",
              "\n",
              "    [theme=dark] .colab-df-convert {\n",
              "      background-color: #3B4455;\n",
              "      fill: #D2E3FC;\n",
              "    }\n",
              "\n",
              "    [theme=dark] .colab-df-convert:hover {\n",
              "      background-color: #434B5C;\n",
              "      box-shadow: 0px 1px 3px 1px rgba(0, 0, 0, 0.15);\n",
              "      filter: drop-shadow(0px 1px 2px rgba(0, 0, 0, 0.3));\n",
              "      fill: #FFFFFF;\n",
              "    }\n",
              "  </style>\n",
              "\n",
              "      <script>\n",
              "        const buttonEl =\n",
              "          document.querySelector('#df-a1c64ea3-ac40-4d07-9424-ff9d1471fec1 button.colab-df-convert');\n",
              "        buttonEl.style.display =\n",
              "          google.colab.kernel.accessAllowed ? 'block' : 'none';\n",
              "\n",
              "        async function convertToInteractive(key) {\n",
              "          const element = document.querySelector('#df-a1c64ea3-ac40-4d07-9424-ff9d1471fec1');\n",
              "          const dataTable =\n",
              "            await google.colab.kernel.invokeFunction('convertToInteractive',\n",
              "                                                     [key], {});\n",
              "          if (!dataTable) return;\n",
              "\n",
              "          const docLinkHtml = 'Like what you see? Visit the ' +\n",
              "            '<a target=\"_blank\" href=https://colab.research.google.com/notebooks/data_table.ipynb>data table notebook</a>'\n",
              "            + ' to learn more about interactive tables.';\n",
              "          element.innerHTML = '';\n",
              "          dataTable['output_type'] = 'display_data';\n",
              "          await google.colab.output.renderOutput(dataTable, element);\n",
              "          const docLink = document.createElement('div');\n",
              "          docLink.innerHTML = docLinkHtml;\n",
              "          element.appendChild(docLink);\n",
              "        }\n",
              "      </script>\n",
              "    </div>\n",
              "  </div>\n",
              "  "
            ],
            "text/plain": [
              "   split0_test_score  split1_test_score  split2_test_score  split3_test_score  \\\n",
              "0           0.580011           0.557322           0.568094           0.578706   \n",
              "1           0.580011           0.557322           0.568094           0.578706   \n",
              "2           0.946719           0.961801           0.951904           0.948926   \n",
              "3           0.946719           0.961801           0.951904           0.948926   \n",
              "4           0.946719           0.961801           0.951904           0.948926   \n",
              "\n",
              "   split4_test_score  mean_test_score  std_test_score  rank_test_score  \n",
              "0           0.530858         0.562998        0.018041                1  \n",
              "1           0.530858         0.562998        0.018041                1  \n",
              "2           0.929239         0.947718        0.010581                1  \n",
              "3           0.929239         0.947718        0.010581                1  \n",
              "4           0.929239         0.947718        0.010581                1  "
            ]
          },
          "execution_count": 28,
          "metadata": {},
          "output_type": "execute_result"
        }
      ],
      "source": [
        "# Erase sample 3 because is another RF, but more complex and with the same metrics from sample 2 (another rf)\n",
        "df_bo5cv_bests = df_bo5cv_bests.loc[[0,1,2,4,5],:]\n",
        "df_bo5cv_bests.reset_index(drop=True, inplace=True)\n",
        "df_bo5cv_bests"
      ]
    },
    {
      "cell_type": "code",
      "execution_count": null,
      "metadata": {
        "id": "vuyvNER-cW5P"
      },
      "outputs": [],
      "source": [
        "# Set name columns\n",
        "df_bo5cv_bests['ai_algorithm'] = ['lre','svm','rfc','bst','xgb']"
      ]
    },
    {
      "cell_type": "code",
      "execution_count": null,
      "metadata": {
        "colab": {
          "base_uri": "https://localhost:8080/",
          "height": 206
        },
        "id": "9XQZCtx2cW5Q",
        "outputId": "522af2e0-269a-4d0e-97f4-6013850bada0"
      },
      "outputs": [
        {
          "data": {
            "text/html": [
              "\n",
              "  <div id=\"df-8f58729e-fe30-4ab0-869c-b85b08f478d6\">\n",
              "    <div class=\"colab-df-container\">\n",
              "      <div>\n",
              "<style scoped>\n",
              "    .dataframe tbody tr th:only-of-type {\n",
              "        vertical-align: middle;\n",
              "    }\n",
              "\n",
              "    .dataframe tbody tr th {\n",
              "        vertical-align: top;\n",
              "    }\n",
              "\n",
              "    .dataframe thead th {\n",
              "        text-align: right;\n",
              "    }\n",
              "</style>\n",
              "<table border=\"1\" class=\"dataframe\">\n",
              "  <thead>\n",
              "    <tr style=\"text-align: right;\">\n",
              "      <th></th>\n",
              "      <th>split0_test_score</th>\n",
              "      <th>split1_test_score</th>\n",
              "      <th>split2_test_score</th>\n",
              "      <th>split3_test_score</th>\n",
              "      <th>split4_test_score</th>\n",
              "      <th>mean_test_score</th>\n",
              "      <th>std_test_score</th>\n",
              "      <th>rank_test_score</th>\n",
              "      <th>ai_algorithm</th>\n",
              "    </tr>\n",
              "  </thead>\n",
              "  <tbody>\n",
              "    <tr>\n",
              "      <th>0</th>\n",
              "      <td>0.580011</td>\n",
              "      <td>0.557322</td>\n",
              "      <td>0.568094</td>\n",
              "      <td>0.578706</td>\n",
              "      <td>0.530858</td>\n",
              "      <td>0.562998</td>\n",
              "      <td>0.018041</td>\n",
              "      <td>1</td>\n",
              "      <td>lre</td>\n",
              "    </tr>\n",
              "    <tr>\n",
              "      <th>1</th>\n",
              "      <td>0.580011</td>\n",
              "      <td>0.557322</td>\n",
              "      <td>0.568094</td>\n",
              "      <td>0.578706</td>\n",
              "      <td>0.530858</td>\n",
              "      <td>0.562998</td>\n",
              "      <td>0.018041</td>\n",
              "      <td>1</td>\n",
              "      <td>svm</td>\n",
              "    </tr>\n",
              "    <tr>\n",
              "      <th>2</th>\n",
              "      <td>0.946719</td>\n",
              "      <td>0.961801</td>\n",
              "      <td>0.951904</td>\n",
              "      <td>0.948926</td>\n",
              "      <td>0.929239</td>\n",
              "      <td>0.947718</td>\n",
              "      <td>0.010581</td>\n",
              "      <td>1</td>\n",
              "      <td>rfc</td>\n",
              "    </tr>\n",
              "    <tr>\n",
              "      <th>3</th>\n",
              "      <td>0.946719</td>\n",
              "      <td>0.961801</td>\n",
              "      <td>0.951904</td>\n",
              "      <td>0.948926</td>\n",
              "      <td>0.929239</td>\n",
              "      <td>0.947718</td>\n",
              "      <td>0.010581</td>\n",
              "      <td>1</td>\n",
              "      <td>bst</td>\n",
              "    </tr>\n",
              "    <tr>\n",
              "      <th>4</th>\n",
              "      <td>0.946719</td>\n",
              "      <td>0.961801</td>\n",
              "      <td>0.951904</td>\n",
              "      <td>0.948926</td>\n",
              "      <td>0.929239</td>\n",
              "      <td>0.947718</td>\n",
              "      <td>0.010581</td>\n",
              "      <td>1</td>\n",
              "      <td>xgb</td>\n",
              "    </tr>\n",
              "  </tbody>\n",
              "</table>\n",
              "</div>\n",
              "      <button class=\"colab-df-convert\" onclick=\"convertToInteractive('df-8f58729e-fe30-4ab0-869c-b85b08f478d6')\"\n",
              "              title=\"Convert this dataframe to an interactive table.\"\n",
              "              style=\"display:none;\">\n",
              "        \n",
              "  <svg xmlns=\"http://www.w3.org/2000/svg\" height=\"24px\"viewBox=\"0 0 24 24\"\n",
              "       width=\"24px\">\n",
              "    <path d=\"M0 0h24v24H0V0z\" fill=\"none\"/>\n",
              "    <path d=\"M18.56 5.44l.94 2.06.94-2.06 2.06-.94-2.06-.94-.94-2.06-.94 2.06-2.06.94zm-11 1L8.5 8.5l.94-2.06 2.06-.94-2.06-.94L8.5 2.5l-.94 2.06-2.06.94zm10 10l.94 2.06.94-2.06 2.06-.94-2.06-.94-.94-2.06-.94 2.06-2.06.94z\"/><path d=\"M17.41 7.96l-1.37-1.37c-.4-.4-.92-.59-1.43-.59-.52 0-1.04.2-1.43.59L10.3 9.45l-7.72 7.72c-.78.78-.78 2.05 0 2.83L4 21.41c.39.39.9.59 1.41.59.51 0 1.02-.2 1.41-.59l7.78-7.78 2.81-2.81c.8-.78.8-2.07 0-2.86zM5.41 20L4 18.59l7.72-7.72 1.47 1.35L5.41 20z\"/>\n",
              "  </svg>\n",
              "      </button>\n",
              "      \n",
              "  <style>\n",
              "    .colab-df-container {\n",
              "      display:flex;\n",
              "      flex-wrap:wrap;\n",
              "      gap: 12px;\n",
              "    }\n",
              "\n",
              "    .colab-df-convert {\n",
              "      background-color: #E8F0FE;\n",
              "      border: none;\n",
              "      border-radius: 50%;\n",
              "      cursor: pointer;\n",
              "      display: none;\n",
              "      fill: #1967D2;\n",
              "      height: 32px;\n",
              "      padding: 0 0 0 0;\n",
              "      width: 32px;\n",
              "    }\n",
              "\n",
              "    .colab-df-convert:hover {\n",
              "      background-color: #E2EBFA;\n",
              "      box-shadow: 0px 1px 2px rgba(60, 64, 67, 0.3), 0px 1px 3px 1px rgba(60, 64, 67, 0.15);\n",
              "      fill: #174EA6;\n",
              "    }\n",
              "\n",
              "    [theme=dark] .colab-df-convert {\n",
              "      background-color: #3B4455;\n",
              "      fill: #D2E3FC;\n",
              "    }\n",
              "\n",
              "    [theme=dark] .colab-df-convert:hover {\n",
              "      background-color: #434B5C;\n",
              "      box-shadow: 0px 1px 3px 1px rgba(0, 0, 0, 0.15);\n",
              "      filter: drop-shadow(0px 1px 2px rgba(0, 0, 0, 0.3));\n",
              "      fill: #FFFFFF;\n",
              "    }\n",
              "  </style>\n",
              "\n",
              "      <script>\n",
              "        const buttonEl =\n",
              "          document.querySelector('#df-8f58729e-fe30-4ab0-869c-b85b08f478d6 button.colab-df-convert');\n",
              "        buttonEl.style.display =\n",
              "          google.colab.kernel.accessAllowed ? 'block' : 'none';\n",
              "\n",
              "        async function convertToInteractive(key) {\n",
              "          const element = document.querySelector('#df-8f58729e-fe30-4ab0-869c-b85b08f478d6');\n",
              "          const dataTable =\n",
              "            await google.colab.kernel.invokeFunction('convertToInteractive',\n",
              "                                                     [key], {});\n",
              "          if (!dataTable) return;\n",
              "\n",
              "          const docLinkHtml = 'Like what you see? Visit the ' +\n",
              "            '<a target=\"_blank\" href=https://colab.research.google.com/notebooks/data_table.ipynb>data table notebook</a>'\n",
              "            + ' to learn more about interactive tables.';\n",
              "          element.innerHTML = '';\n",
              "          dataTable['output_type'] = 'display_data';\n",
              "          await google.colab.output.renderOutput(dataTable, element);\n",
              "          const docLink = document.createElement('div');\n",
              "          docLink.innerHTML = docLinkHtml;\n",
              "          element.appendChild(docLink);\n",
              "        }\n",
              "      </script>\n",
              "    </div>\n",
              "  </div>\n",
              "  "
            ],
            "text/plain": [
              "   split0_test_score  split1_test_score  split2_test_score  split3_test_score  \\\n",
              "0           0.580011           0.557322           0.568094           0.578706   \n",
              "1           0.580011           0.557322           0.568094           0.578706   \n",
              "2           0.946719           0.961801           0.951904           0.948926   \n",
              "3           0.946719           0.961801           0.951904           0.948926   \n",
              "4           0.946719           0.961801           0.951904           0.948926   \n",
              "\n",
              "   split4_test_score  mean_test_score  std_test_score  rank_test_score  \\\n",
              "0           0.530858         0.562998        0.018041                1   \n",
              "1           0.530858         0.562998        0.018041                1   \n",
              "2           0.929239         0.947718        0.010581                1   \n",
              "3           0.929239         0.947718        0.010581                1   \n",
              "4           0.929239         0.947718        0.010581                1   \n",
              "\n",
              "  ai_algorithm  \n",
              "0          lre  \n",
              "1          svm  \n",
              "2          rfc  \n",
              "3          bst  \n",
              "4          xgb  "
            ]
          },
          "execution_count": 30,
          "metadata": {},
          "output_type": "execute_result"
        }
      ],
      "source": [
        "# Overall dataset\n",
        "df_bo5cv_bests\n"
      ]
    },
    {
      "cell_type": "markdown",
      "metadata": {
        "id": "R9oQEbAdcW5S"
      },
      "source": [
        "# Backtest - Generate dataset\n",
        "Samples from test set where **COVID is negative** and **Any respiratory disease is positive**\n",
        "\n",
        "## Functions"
      ]
    },
    {
      "cell_type": "code",
      "execution_count": null,
      "metadata": {
        "id": "Nb2VouLEcW5S"
      },
      "outputs": [],
      "source": [
        "def getMatchIdx(idx1, idx2):\n",
        "    return list(set(idx1) & set(idx2))\n",
        "\n",
        "def backtestReport(backtestIdx, label, trainIdx, testIdx):\n",
        "    print('###################',label)\n",
        "    print('All Match Condition  -',len(backtestIdx),'samples.')\n",
        "    print('Train Match Conditon -',len(getMatchIdx(trainIdx, backtestIdx)),'samples.')\n",
        "    print('Test Match Conditon  -',len(getMatchIdx(testIdx, backtestIdx)),'samples.')"
      ]
    },
    {
      "cell_type": "markdown",
      "metadata": {
        "id": "wTNxdbTscW5S"
      },
      "source": [
        "## Get all samples"
      ]
    },
    {
      "cell_type": "code",
      "execution_count": null,
      "metadata": {
        "id": "9w98fNhrcW5U"
      },
      "outputs": [],
      "source": [
        "x_resp=df[(df['COVID-19 Exam result'] == 0)&(df['Respiratory Disease detection'] == 1)][features]"
      ]
    },
    {
      "cell_type": "markdown",
      "metadata": {
        "id": "jSn62sH2cW5U"
      },
      "source": [
        "## Get a report about how those samples are distributed"
      ]
    },
    {
      "cell_type": "code",
      "execution_count": null,
      "metadata": {
        "colab": {
          "base_uri": "https://localhost:8080/"
        },
        "id": "tQKyvp3AcW5U",
        "outputId": "778f3100-8435-4027-d251-22a3d3327922"
      },
      "outputs": [
        {
          "name": "stdout",
          "output_type": "stream",
          "text": [
            "################### Any Respiratory disease\n",
            "All Match Condition  - 172 samples.\n",
            "Train Match Conditon - 148 samples.\n",
            "Test Match Conditon  - 24 samples.\n"
          ]
        }
      ],
      "source": [
        "backtestReport(x_resp.index, 'Any Respiratory disease', x_train.index, x_test.index)"
      ]
    },
    {
      "cell_type": "markdown",
      "metadata": {
        "id": "y5Y10_02cW5V"
      },
      "source": [
        "## Get backtest samples only present in test set"
      ]
    },
    {
      "cell_type": "code",
      "execution_count": null,
      "metadata": {
        "id": "NW31iKIAcW5V"
      },
      "outputs": [],
      "source": [
        "x_resp = x_resp.loc[getMatchIdx(x_test.index, x_resp.index), :]"
      ]
    },
    {
      "cell_type": "code",
      "execution_count": null,
      "metadata": {
        "colab": {
          "base_uri": "https://localhost:8080/"
        },
        "id": "q-0HbKtycW5W",
        "outputId": "0a1a6384-e804-49c1-c9ea-b86cf4e2ff0c"
      },
      "outputs": [
        {
          "data": {
            "text/plain": [
              "24"
            ]
          },
          "execution_count": 40,
          "metadata": {},
          "output_type": "execute_result"
        }
      ],
      "source": [
        "# Validate\n",
        "len(x_resp)"
      ]
    },
    {
      "cell_type": "markdown",
      "metadata": {
        "id": "SfaXqsOscW5W"
      },
      "source": [
        "# Export results"
      ]
    },
    {
      "cell_type": "code",
      "execution_count": null,
      "metadata": {
        "id": "Sm0drVffcW5W"
      },
      "outputs": [],
      "source": [
        "# Function to export best models\n",
        "def exportModels(best_models_names, best_models_objects,type_of_dataset):\n",
        "    for model_name, model_object in zip(best_models_names, best_models_objects):\n",
        "        joblib.dump(model_object, 'model_'+model_name+'_'+type_of_dataset+'.sav')"
      ]
    },
    {
      "cell_type": "code",
      "execution_count": null,
      "metadata": {
        "id": "Sl1ZkmcacW5W"
      },
      "outputs": [],
      "source": [
        "# Name of the models\n",
        "# Name of the models\n",
        "models_name_list = ['svm' ,'xgb']\n"
      ]
    },
    {
      "cell_type": "markdown",
      "metadata": {
        "id": "-jwqN3ADcW5W"
      },
      "source": [
        "## Saving Datasets..."
      ]
    },
    {
      "cell_type": "code",
      "execution_count": null,
      "metadata": {
        "id": "J5JOW0ducW5Y"
      },
      "outputs": [],
      "source": [
        "# XY trainset before SMOTE\n",
        "x_train.to_csv('x_train.csv',index=False)\n",
        "y_train.to_csv('y_train.csv',index=False)\n",
        "# XY trainset with SMOTE\n",
        "x_train_smt.to_csv('x_train_SMOTE.csv',index=False)\n",
        "y_train_smt.to_csv('y_train_SMOTE.csv',index=False)\n",
        "# XY testset\n",
        "x_test.to_csv('x_test.csv',index=False)\n",
        "y_test.to_csv('y_test.csv',index=False)\n",
        "# Backtest datasets - Only X because Y is a zero array\n",
        "#x_resp.to_csv('x_resp.csv',index=False)\n",
        "# Dataset with age transformation\n",
        "df.to_csv('paper_dataset_age_transformed.csv',index=False)\n",
        "# BO5CV best results for all models\n",
        "df_bo5cv_bests.to_csv('BO5CV_best_results.csv',index=False)\n",
        "# BO5CV all results for all models\n",
        "lre_res_ove['cv_res'].to_csv('BO5CV_lre_results.csv',index=False)\n",
        "svm_res_ove['cv_res'].to_csv('BO5CV_svm_results.csv',index=False)\n",
        "rfc_res_ove['cv_res'].to_csv('BO5CV_rfc_results.csv',index=False)\n",
        "bst_res_ove['cv_res'].to_csv('BO5CV_bst_results.csv',index=False)\n",
        "xgb_res_ove['cv_res'].to_csv('BO5CV_xgb_results.csv',index=False)"
      ]
    },
    {
      "cell_type": "markdown",
      "metadata": {
        "id": "WIJF-NOOcW5Y"
      },
      "source": [
        "## Saving models ..."
      ]
    },
    {
      "cell_type": "code",
      "execution_count": null,
      "metadata": {
        "id": "GyIppObicW5Z"
      },
      "outputs": [],
      "source": [
        "# Define objects\n",
        "models_objects_list = [svm_res_ove['best_model'],xgb_res_ove['best_model']]\n",
        "# Use the function\n",
        "exportModels(models_name_list, models_objects_list,'oversampled')"
      ]
    },
    {
      "cell_type": "code",
      "execution_count": null,
      "metadata": {
        "id": "dD-2WyKbBf6F"
      },
      "outputs": [],
      "source": [
        "# Define objects\n",
        "models_objects_list = [lre_res_bal['best_model'],svm_res_bal['best_model'],rfc_res_bal['best_model'],bst_res_bal['best_model'],\n",
        "                       xgb_res_bal['best_model']]\n",
        "# Use the function\n",
        "exportModels(models_name_list, models_objects_list,'imbalanced')"
      ]
    }
  ],
  "metadata": {
    "colab": {
      "provenance": []
    },
    "kernelspec": {
      "display_name": "Python 3",
      "name": "python3"
    },
    "language_info": {
      "name": "python"
    }
  },
  "nbformat": 4,
  "nbformat_minor": 0
}